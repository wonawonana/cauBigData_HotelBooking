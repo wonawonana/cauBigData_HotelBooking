{
  "nbformat": 4,
  "nbformat_minor": 0,
  "metadata": {
    "colab": {
      "name": "HotelfirstModel.ipynb의 사본",
      "provenance": [],
      "collapsed_sections": []
    },
    "kernelspec": {
      "name": "python3",
      "display_name": "Python 3"
    },
    "language_info": {
      "name": "python"
    },
    "accelerator": "GPU"
  },
  "cells": [
    {
      "cell_type": "markdown",
      "source": [
        "hotel booking demand\n",
        "====================\n",
        "#### https://www.kaggle.com/jessemostipak/hotel-booking-demand   \n",
        "   \n",
        "+ Find a problem\n",
        "+ Analyze previous approaches\n",
        "+ Modeling your methodolody\n",
        "+ Analyzing data\n",
        "+ Visualization\n",
        "+ Collaborative Evaluation  \n",
        "<br/>\n",
        "\n",
        "\n",
        "\n",
        "</br>\n",
        "\n",
        "-----------------"
      ],
      "metadata": {
        "id": "-oILkbbQ7UCn"
      }
    },
    {
      "cell_type": "code",
      "metadata": {
        "colab": {
          "base_uri": "https://localhost:8080/"
        },
        "id": "765otamzE4zL",
        "outputId": "6f1420e3-a4cc-43da-8eae-292aa5206394"
      },
      "source": [
        "!pip install pycountry\n",
        "!pip install catboost"
      ],
      "execution_count": 1,
      "outputs": [
        {
          "output_type": "stream",
          "name": "stdout",
          "text": [
            "Collecting pycountry\n",
            "  Downloading pycountry-20.7.3.tar.gz (10.1 MB)\n",
            "\u001b[K     |████████████████████████████████| 10.1 MB 11.6 MB/s \n",
            "\u001b[?25hBuilding wheels for collected packages: pycountry\n",
            "  Building wheel for pycountry (setup.py) ... \u001b[?25l\u001b[?25hdone\n",
            "  Created wheel for pycountry: filename=pycountry-20.7.3-py2.py3-none-any.whl size=10746883 sha256=912465482070139d20a7e623119f3ab192c3cc56bb5017f1449d04b875807fb6\n",
            "  Stored in directory: /root/.cache/pip/wheels/57/e8/3f/120ccc1ff7541c108bc5d656e2a14c39da0d824653b62284c6\n",
            "Successfully built pycountry\n",
            "Installing collected packages: pycountry\n",
            "Successfully installed pycountry-20.7.3\n",
            "Collecting catboost\n",
            "  Downloading catboost-1.0.3-cp37-none-manylinux1_x86_64.whl (76.3 MB)\n",
            "\u001b[K     |████████████████████████████████| 76.3 MB 1.3 MB/s \n",
            "\u001b[?25hRequirement already satisfied: numpy>=1.16.0 in /usr/local/lib/python3.7/dist-packages (from catboost) (1.19.5)\n",
            "Requirement already satisfied: graphviz in /usr/local/lib/python3.7/dist-packages (from catboost) (0.10.1)\n",
            "Requirement already satisfied: plotly in /usr/local/lib/python3.7/dist-packages (from catboost) (4.4.1)\n",
            "Requirement already satisfied: scipy in /usr/local/lib/python3.7/dist-packages (from catboost) (1.4.1)\n",
            "Requirement already satisfied: matplotlib in /usr/local/lib/python3.7/dist-packages (from catboost) (3.2.2)\n",
            "Requirement already satisfied: six in /usr/local/lib/python3.7/dist-packages (from catboost) (1.15.0)\n",
            "Requirement already satisfied: pandas>=0.24.0 in /usr/local/lib/python3.7/dist-packages (from catboost) (1.1.5)\n",
            "Requirement already satisfied: python-dateutil>=2.7.3 in /usr/local/lib/python3.7/dist-packages (from pandas>=0.24.0->catboost) (2.8.2)\n",
            "Requirement already satisfied: pytz>=2017.2 in /usr/local/lib/python3.7/dist-packages (from pandas>=0.24.0->catboost) (2018.9)\n",
            "Requirement already satisfied: cycler>=0.10 in /usr/local/lib/python3.7/dist-packages (from matplotlib->catboost) (0.11.0)\n",
            "Requirement already satisfied: pyparsing!=2.0.4,!=2.1.2,!=2.1.6,>=2.0.1 in /usr/local/lib/python3.7/dist-packages (from matplotlib->catboost) (3.0.6)\n",
            "Requirement already satisfied: kiwisolver>=1.0.1 in /usr/local/lib/python3.7/dist-packages (from matplotlib->catboost) (1.3.2)\n",
            "Requirement already satisfied: retrying>=1.3.3 in /usr/local/lib/python3.7/dist-packages (from plotly->catboost) (1.3.3)\n",
            "Installing collected packages: catboost\n",
            "Successfully installed catboost-1.0.3\n"
          ]
        }
      ]
    },
    {
      "cell_type": "markdown",
      "source": [
        "-----------\n",
        "## Packages Import\n"
      ],
      "metadata": {
        "id": "wySj_Kg355Py"
      }
    },
    {
      "cell_type": "code",
      "metadata": {
        "id": "4AkovLhoEUIR"
      },
      "source": [
        "import numpy as np\n",
        "import pandas as pd\n",
        "import matplotlib.pyplot as plt\n",
        "import seaborn as sns\n",
        "import pycountry as pc\n",
        "\n",
        "pd.options.display.max_columns = None"
      ],
      "execution_count": 2,
      "outputs": []
    },
    {
      "cell_type": "code",
      "metadata": {
        "id": "dimSVdUtE-y2"
      },
      "source": [
        "## 데이터 불러오기\n",
        "data = pd.read_csv('./hotel_bookings.csv')"
      ],
      "execution_count": 3,
      "outputs": []
    },
    {
      "cell_type": "code",
      "metadata": {
        "colab": {
          "base_uri": "https://localhost:8080/",
          "height": 309
        },
        "id": "cjqccYpyFFdQ",
        "outputId": "dfb60634-3211-4a30-e5a0-0f24e66e0dbf"
      },
      "source": [
        "## 데이터 확인\n",
        "data.head()"
      ],
      "execution_count": 4,
      "outputs": [
        {
          "output_type": "execute_result",
          "data": {
            "text/html": [
              "<div>\n",
              "<style scoped>\n",
              "    .dataframe tbody tr th:only-of-type {\n",
              "        vertical-align: middle;\n",
              "    }\n",
              "\n",
              "    .dataframe tbody tr th {\n",
              "        vertical-align: top;\n",
              "    }\n",
              "\n",
              "    .dataframe thead th {\n",
              "        text-align: right;\n",
              "    }\n",
              "</style>\n",
              "<table border=\"1\" class=\"dataframe\">\n",
              "  <thead>\n",
              "    <tr style=\"text-align: right;\">\n",
              "      <th></th>\n",
              "      <th>hotel</th>\n",
              "      <th>is_canceled</th>\n",
              "      <th>lead_time</th>\n",
              "      <th>arrival_date_year</th>\n",
              "      <th>arrival_date_month</th>\n",
              "      <th>arrival_date_week_number</th>\n",
              "      <th>arrival_date_day_of_month</th>\n",
              "      <th>stays_in_weekend_nights</th>\n",
              "      <th>stays_in_week_nights</th>\n",
              "      <th>adults</th>\n",
              "      <th>children</th>\n",
              "      <th>babies</th>\n",
              "      <th>meal</th>\n",
              "      <th>country</th>\n",
              "      <th>market_segment</th>\n",
              "      <th>distribution_channel</th>\n",
              "      <th>is_repeated_guest</th>\n",
              "      <th>previous_cancellations</th>\n",
              "      <th>previous_bookings_not_canceled</th>\n",
              "      <th>reserved_room_type</th>\n",
              "      <th>assigned_room_type</th>\n",
              "      <th>booking_changes</th>\n",
              "      <th>deposit_type</th>\n",
              "      <th>agent</th>\n",
              "      <th>company</th>\n",
              "      <th>days_in_waiting_list</th>\n",
              "      <th>customer_type</th>\n",
              "      <th>adr</th>\n",
              "      <th>required_car_parking_spaces</th>\n",
              "      <th>total_of_special_requests</th>\n",
              "      <th>reservation_status</th>\n",
              "      <th>reservation_status_date</th>\n",
              "    </tr>\n",
              "  </thead>\n",
              "  <tbody>\n",
              "    <tr>\n",
              "      <th>0</th>\n",
              "      <td>Resort Hotel</td>\n",
              "      <td>0</td>\n",
              "      <td>342</td>\n",
              "      <td>2015</td>\n",
              "      <td>July</td>\n",
              "      <td>27</td>\n",
              "      <td>1</td>\n",
              "      <td>0</td>\n",
              "      <td>0</td>\n",
              "      <td>2</td>\n",
              "      <td>0.0</td>\n",
              "      <td>0</td>\n",
              "      <td>BB</td>\n",
              "      <td>PRT</td>\n",
              "      <td>Direct</td>\n",
              "      <td>Direct</td>\n",
              "      <td>0</td>\n",
              "      <td>0</td>\n",
              "      <td>0</td>\n",
              "      <td>C</td>\n",
              "      <td>C</td>\n",
              "      <td>3</td>\n",
              "      <td>No Deposit</td>\n",
              "      <td>NaN</td>\n",
              "      <td>NaN</td>\n",
              "      <td>0</td>\n",
              "      <td>Transient</td>\n",
              "      <td>0.0</td>\n",
              "      <td>0</td>\n",
              "      <td>0</td>\n",
              "      <td>Check-Out</td>\n",
              "      <td>2015-07-01</td>\n",
              "    </tr>\n",
              "    <tr>\n",
              "      <th>1</th>\n",
              "      <td>Resort Hotel</td>\n",
              "      <td>0</td>\n",
              "      <td>737</td>\n",
              "      <td>2015</td>\n",
              "      <td>July</td>\n",
              "      <td>27</td>\n",
              "      <td>1</td>\n",
              "      <td>0</td>\n",
              "      <td>0</td>\n",
              "      <td>2</td>\n",
              "      <td>0.0</td>\n",
              "      <td>0</td>\n",
              "      <td>BB</td>\n",
              "      <td>PRT</td>\n",
              "      <td>Direct</td>\n",
              "      <td>Direct</td>\n",
              "      <td>0</td>\n",
              "      <td>0</td>\n",
              "      <td>0</td>\n",
              "      <td>C</td>\n",
              "      <td>C</td>\n",
              "      <td>4</td>\n",
              "      <td>No Deposit</td>\n",
              "      <td>NaN</td>\n",
              "      <td>NaN</td>\n",
              "      <td>0</td>\n",
              "      <td>Transient</td>\n",
              "      <td>0.0</td>\n",
              "      <td>0</td>\n",
              "      <td>0</td>\n",
              "      <td>Check-Out</td>\n",
              "      <td>2015-07-01</td>\n",
              "    </tr>\n",
              "    <tr>\n",
              "      <th>2</th>\n",
              "      <td>Resort Hotel</td>\n",
              "      <td>0</td>\n",
              "      <td>7</td>\n",
              "      <td>2015</td>\n",
              "      <td>July</td>\n",
              "      <td>27</td>\n",
              "      <td>1</td>\n",
              "      <td>0</td>\n",
              "      <td>1</td>\n",
              "      <td>1</td>\n",
              "      <td>0.0</td>\n",
              "      <td>0</td>\n",
              "      <td>BB</td>\n",
              "      <td>GBR</td>\n",
              "      <td>Direct</td>\n",
              "      <td>Direct</td>\n",
              "      <td>0</td>\n",
              "      <td>0</td>\n",
              "      <td>0</td>\n",
              "      <td>A</td>\n",
              "      <td>C</td>\n",
              "      <td>0</td>\n",
              "      <td>No Deposit</td>\n",
              "      <td>NaN</td>\n",
              "      <td>NaN</td>\n",
              "      <td>0</td>\n",
              "      <td>Transient</td>\n",
              "      <td>75.0</td>\n",
              "      <td>0</td>\n",
              "      <td>0</td>\n",
              "      <td>Check-Out</td>\n",
              "      <td>2015-07-02</td>\n",
              "    </tr>\n",
              "    <tr>\n",
              "      <th>3</th>\n",
              "      <td>Resort Hotel</td>\n",
              "      <td>0</td>\n",
              "      <td>13</td>\n",
              "      <td>2015</td>\n",
              "      <td>July</td>\n",
              "      <td>27</td>\n",
              "      <td>1</td>\n",
              "      <td>0</td>\n",
              "      <td>1</td>\n",
              "      <td>1</td>\n",
              "      <td>0.0</td>\n",
              "      <td>0</td>\n",
              "      <td>BB</td>\n",
              "      <td>GBR</td>\n",
              "      <td>Corporate</td>\n",
              "      <td>Corporate</td>\n",
              "      <td>0</td>\n",
              "      <td>0</td>\n",
              "      <td>0</td>\n",
              "      <td>A</td>\n",
              "      <td>A</td>\n",
              "      <td>0</td>\n",
              "      <td>No Deposit</td>\n",
              "      <td>304.0</td>\n",
              "      <td>NaN</td>\n",
              "      <td>0</td>\n",
              "      <td>Transient</td>\n",
              "      <td>75.0</td>\n",
              "      <td>0</td>\n",
              "      <td>0</td>\n",
              "      <td>Check-Out</td>\n",
              "      <td>2015-07-02</td>\n",
              "    </tr>\n",
              "    <tr>\n",
              "      <th>4</th>\n",
              "      <td>Resort Hotel</td>\n",
              "      <td>0</td>\n",
              "      <td>14</td>\n",
              "      <td>2015</td>\n",
              "      <td>July</td>\n",
              "      <td>27</td>\n",
              "      <td>1</td>\n",
              "      <td>0</td>\n",
              "      <td>2</td>\n",
              "      <td>2</td>\n",
              "      <td>0.0</td>\n",
              "      <td>0</td>\n",
              "      <td>BB</td>\n",
              "      <td>GBR</td>\n",
              "      <td>Online TA</td>\n",
              "      <td>TA/TO</td>\n",
              "      <td>0</td>\n",
              "      <td>0</td>\n",
              "      <td>0</td>\n",
              "      <td>A</td>\n",
              "      <td>A</td>\n",
              "      <td>0</td>\n",
              "      <td>No Deposit</td>\n",
              "      <td>240.0</td>\n",
              "      <td>NaN</td>\n",
              "      <td>0</td>\n",
              "      <td>Transient</td>\n",
              "      <td>98.0</td>\n",
              "      <td>0</td>\n",
              "      <td>1</td>\n",
              "      <td>Check-Out</td>\n",
              "      <td>2015-07-03</td>\n",
              "    </tr>\n",
              "  </tbody>\n",
              "</table>\n",
              "</div>"
            ],
            "text/plain": [
              "          hotel  is_canceled  lead_time  arrival_date_year arrival_date_month  \\\n",
              "0  Resort Hotel            0        342               2015               July   \n",
              "1  Resort Hotel            0        737               2015               July   \n",
              "2  Resort Hotel            0          7               2015               July   \n",
              "3  Resort Hotel            0         13               2015               July   \n",
              "4  Resort Hotel            0         14               2015               July   \n",
              "\n",
              "   arrival_date_week_number  arrival_date_day_of_month  \\\n",
              "0                        27                          1   \n",
              "1                        27                          1   \n",
              "2                        27                          1   \n",
              "3                        27                          1   \n",
              "4                        27                          1   \n",
              "\n",
              "   stays_in_weekend_nights  stays_in_week_nights  adults  children  babies  \\\n",
              "0                        0                     0       2       0.0       0   \n",
              "1                        0                     0       2       0.0       0   \n",
              "2                        0                     1       1       0.0       0   \n",
              "3                        0                     1       1       0.0       0   \n",
              "4                        0                     2       2       0.0       0   \n",
              "\n",
              "  meal country market_segment distribution_channel  is_repeated_guest  \\\n",
              "0   BB     PRT         Direct               Direct                  0   \n",
              "1   BB     PRT         Direct               Direct                  0   \n",
              "2   BB     GBR         Direct               Direct                  0   \n",
              "3   BB     GBR      Corporate            Corporate                  0   \n",
              "4   BB     GBR      Online TA                TA/TO                  0   \n",
              "\n",
              "   previous_cancellations  previous_bookings_not_canceled reserved_room_type  \\\n",
              "0                       0                               0                  C   \n",
              "1                       0                               0                  C   \n",
              "2                       0                               0                  A   \n",
              "3                       0                               0                  A   \n",
              "4                       0                               0                  A   \n",
              "\n",
              "  assigned_room_type  booking_changes deposit_type  agent  company  \\\n",
              "0                  C                3   No Deposit    NaN      NaN   \n",
              "1                  C                4   No Deposit    NaN      NaN   \n",
              "2                  C                0   No Deposit    NaN      NaN   \n",
              "3                  A                0   No Deposit  304.0      NaN   \n",
              "4                  A                0   No Deposit  240.0      NaN   \n",
              "\n",
              "   days_in_waiting_list customer_type   adr  required_car_parking_spaces  \\\n",
              "0                     0     Transient   0.0                            0   \n",
              "1                     0     Transient   0.0                            0   \n",
              "2                     0     Transient  75.0                            0   \n",
              "3                     0     Transient  75.0                            0   \n",
              "4                     0     Transient  98.0                            0   \n",
              "\n",
              "   total_of_special_requests reservation_status reservation_status_date  \n",
              "0                          0          Check-Out              2015-07-01  \n",
              "1                          0          Check-Out              2015-07-01  \n",
              "2                          0          Check-Out              2015-07-02  \n",
              "3                          0          Check-Out              2015-07-02  \n",
              "4                          1          Check-Out              2015-07-03  "
            ]
          },
          "metadata": {},
          "execution_count": 4
        }
      ]
    },
    {
      "cell_type": "markdown",
      "source": [
        "<br/>\n",
        "</br>\n",
        "\n",
        "\n",
        "--------------\n",
        "## Data Pre-Processing"
      ],
      "metadata": {
        "id": "Kd6mbfXt59J_"
      }
    },
    {
      "cell_type": "code",
      "metadata": {
        "id": "AitOq-f5FH_G"
      },
      "source": [
        "## 전처리를 위한 데이터 복사\n",
        "df = data.copy()"
      ],
      "execution_count": 5,
      "outputs": []
    },
    {
      "cell_type": "code",
      "metadata": {
        "colab": {
          "base_uri": "https://localhost:8080/"
        },
        "id": "Mi-48wDxGhR5",
        "outputId": "6a1814c4-e161-4131-c8fd-b45244fe23e8"
      },
      "source": [
        "## column의 null 수 확인\n",
        "df.isnull().sum().sort_values(ascending=False)[:10]"
      ],
      "execution_count": 6,
      "outputs": [
        {
          "output_type": "execute_result",
          "data": {
            "text/plain": [
              "company                     112593\n",
              "agent                        16340\n",
              "country                        488\n",
              "children                         4\n",
              "lead_time                        0\n",
              "arrival_date_year                0\n",
              "arrival_date_month               0\n",
              "arrival_date_week_number         0\n",
              "is_canceled                      0\n",
              "market_segment                   0\n",
              "dtype: int64"
            ]
          },
          "metadata": {},
          "execution_count": 6
        }
      ]
    },
    {
      "cell_type": "markdown",
      "source": [
        "<br/>\n",
        "</br>\n",
        "\n",
        "##### 위 결과를 토대로 company, agent , country, children  column 에 결측치 처리가 필요"
      ],
      "metadata": {
        "id": "TD04hLf6Bd7B"
      }
    },
    {
      "cell_type": "code",
      "source": [
        "## agent, company column의 값이 null 이면 0으로 대체한다.\n",
        "df[['agent','company']] = df[['agent','company']].fillna(0.0)\n",
        "\n",
        "## country column의 값이 null 이면 가장 많이 나온 값으로 대체한다.\n",
        "df['country'].fillna(data.country.mode().to_string(), inplace=True)"
      ],
      "metadata": {
        "id": "h8DSkoyRAIa8"
      },
      "execution_count": 7,
      "outputs": []
    },
    {
      "cell_type": "code",
      "metadata": {
        "id": "DiqnSUf7GlSj"
      },
      "source": [
        "## children column 값이 null 이면 0으로 대체한다.\n",
        "df['children']=df['children'].fillna(0.0)\n",
        "\n",
        "## adult, baby , child 합이 0인 row를 drop한다.\n",
        "df = df.drop(df[(df.adults+df.babies+df.children)==0].index)"
      ],
      "execution_count": 8,
      "outputs": []
    },
    {
      "cell_type": "code",
      "metadata": {
        "id": "bDqBsOdqGnQg"
      },
      "source": [
        "## datatype을 int로 바꾼다\n",
        "df[['children', 'company', 'agent']] = df[['children', 'company', 'agent']].astype('int64')"
      ],
      "execution_count": 9,
      "outputs": []
    },
    {
      "cell_type": "markdown",
      "metadata": {
        "id": "776MSkMLI0uA"
      },
      "source": [
        "<br/>\n",
        "</br>\n",
        "\n",
        "##### 숙박 일수에 대한 전처리 필요\n",
        "+ 총 숙박 일수 1박 미만, 무료로 호텔을 이용한 경우 : 이상치로 판단"
      ]
    },
    {
      "cell_type": "code",
      "metadata": {
        "id": "E4tdShdCGu8r"
      },
      "source": [
        "## 총 숙박 일수가 1박 미만인 row를 제거한다.\n",
        "\n",
        "## 총 숙박 일수 feature\n",
        "df['total_staying_nights'] = df['stays_in_week_nights'] + df['stays_in_weekend_nights']\n",
        "\n",
        "df = df[ df['total_staying_nights'] >= 1 ]\n",
        "df = df.reset_index(drop=True)"
      ],
      "execution_count": 10,
      "outputs": []
    },
    {
      "cell_type": "code",
      "metadata": {
        "id": "BY9RwYbUIMTF"
      },
      "source": [
        "## 값을 내고 호텔을 이용한 경우만 data로 사용한다.\n",
        "df = df[ df['adr'] > 0 ].copy()"
      ],
      "execution_count": 11,
      "outputs": []
    },
    {
      "cell_type": "markdown",
      "source": [
        "<br/>\n",
        "</br>\n",
        "\n",
        "### feature 생성"
      ],
      "metadata": {
        "id": "44QH1R75Dp_G"
      }
    },
    {
      "cell_type": "code",
      "metadata": {
        "id": "EfaQ5wquJ9K-"
      },
      "source": [
        "## 새로운 feature를 위해 데이터 복사\n",
        "df_subset = df.copy()"
      ],
      "execution_count": 12,
      "outputs": []
    },
    {
      "cell_type": "code",
      "metadata": {
        "id": "6fwLgSdqKCQU"
      },
      "source": [
        "## reservation_status column은 y값으로 쓸 is_canceled와 같은 값이니 제거\n",
        "df_subset = df_subset.drop(['reservation_status'], axis=1)\n",
        "\n",
        "## Room column 새로 추가.\n",
        "## 예약된 방과 같으면 1, 아니면 0\n",
        "df_subset['Room'] = 0\n",
        "df_subset.loc[ df_subset['reserved_room_type'] == df_subset['assigned_room_type'] , 'Room'] = 1\n",
        "\n",
        "## more canceled column 새로 추가.\n",
        "## 예약 취소 비율이 높은 경우 1 , 아니면 0\n",
        "df_subset['more_canceled'] = 0\n",
        "df_subset.loc[ df_subset['previous_cancellations'] > df_subset['previous_bookings_not_canceled'] , 'not_canceled'] = 1\n",
        "\n",
        "## reservation_status_date column 문자열 값을 year/month/date 값으로 분리\n",
        "df_subset['reservation_status_date'] = pd.to_datetime(df_subset['reservation_status_date'])\n",
        "\n",
        "df_subset['reservation_year'] = df_subset['reservation_status_date'].dt.year\n",
        "df_subset['reservation_month'] = df_subset['reservation_status_date'].dt.month\n",
        "df_subset['reservation_day'] = df_subset['reservation_status_date'].dt.day\n",
        "\n",
        "## 남겨진 column 제거\n",
        "df_subset = df_subset.drop(['booking_changes','assigned_room_type','reservation_status_date','distribution_channel'],axis=1)"
      ],
      "execution_count": 13,
      "outputs": []
    },
    {
      "cell_type": "markdown",
      "source": [
        "<br/>\n",
        "</br>\n",
        "\n",
        "### Categorical variables을 숫자값으로 encoding"
      ],
      "metadata": {
        "id": "iG3di4HaIxJO"
      }
    },
    {
      "cell_type": "code",
      "metadata": {
        "id": "MHoanjPKJo3B"
      },
      "source": [
        "def transform(dataframe):\n",
        "\n",
        "    ## LabelEncoder import\n",
        "    from sklearn.preprocessing import LabelEncoder\n",
        "    \n",
        "    le = LabelEncoder()\n",
        "    ## 모든 categorical var 지정.\n",
        "    categorical_features = list(dataframe.columns[dataframe.dtypes == object])\n",
        "    ## encoding 실행\n",
        "    dataframe[categorical_features]=dataframe[categorical_features].apply(lambda x: le.fit_transform(x))\n",
        "    return dataframe\n",
        "\n",
        "\n",
        "## 모든 categorical var을 숫자형으로 바꾼다.\n",
        "df_subset = transform(df_subset)"
      ],
      "execution_count": 14,
      "outputs": []
    },
    {
      "cell_type": "markdown",
      "source": [
        "<br/>\n",
        "</br>\n",
        "\n",
        "### 정규화"
      ],
      "metadata": {
        "id": "PEeWJ8s0Krwe"
      }
    },
    {
      "cell_type": "code",
      "metadata": {
        "colab": {
          "base_uri": "https://localhost:8080/"
        },
        "id": "wkyk1MtLQBvX",
        "outputId": "a4a5b6a5-4e40-474a-f8d1-1ce16e6505b7"
      },
      "source": [
        "##column의 분산값 확인\n",
        "df_subset.var()"
      ],
      "execution_count": 15,
      "outputs": [
        {
          "output_type": "execute_result",
          "data": {
            "text/plain": [
              "hotel                                 0.222716\n",
              "is_canceled                           0.234348\n",
              "lead_time                         11430.508914\n",
              "arrival_date_year                     0.499289\n",
              "arrival_date_month                   12.499659\n",
              "arrival_date_week_number            184.281629\n",
              "arrival_date_day_of_month            77.148962\n",
              "stays_in_weekend_nights               0.989183\n",
              "stays_in_week_nights                  3.572044\n",
              "adults                                0.231569\n",
              "children                              0.159791\n",
              "babies                                0.009444\n",
              "meal                                  1.138017\n",
              "country                            2024.776043\n",
              "market_segment                        1.520872\n",
              "is_repeated_guest                     0.027086\n",
              "previous_cancellations                0.720456\n",
              "previous_bookings_not_canceled        2.091370\n",
              "reserved_room_type                    2.864232\n",
              "deposit_type                          0.113640\n",
              "agent                             11500.539910\n",
              "company                            2867.861112\n",
              "days_in_waiting_list                312.559275\n",
              "customer_type                         0.334185\n",
              "adr                                2419.944474\n",
              "required_car_parking_spaces           0.060287\n",
              "total_of_special_requests             0.626689\n",
              "total_staying_nights                  6.397173\n",
              "Room                                  0.105550\n",
              "more_canceled                         0.000000\n",
              "not_canceled                          0.000000\n",
              "reservation_year                      0.511000\n",
              "reservation_month                    11.173453\n",
              "reservation_day                      77.101242\n",
              "dtype: float64"
            ]
          },
          "metadata": {},
          "execution_count": 15
        }
      ]
    },
    {
      "cell_type": "markdown",
      "source": [
        "<br/>\n",
        "</br>\n",
        "\n",
        "##### 위 분산 값을 토대로 정규화 할 column 선정"
      ],
      "metadata": {
        "id": "RXXJGAzlMHB5"
      }
    },
    {
      "cell_type": "code",
      "metadata": {
        "id": "0zbh4sgKegYI"
      },
      "source": [
        "df_subset['lead_time']=np.log(df_subset['lead_time']+1)\n",
        "df_subset['agent'] = np.log(df_subset['agent'] + 1)\n",
        "df_subset['company'] = np.log(df_subset['company'] + 1)\n",
        "df_subset['adr'] = np.log(df_subset['adr'] + 1)\n",
        "df_subset['country'] = np.log(df_subset['country'] + 1)\n",
        "df_subset['days_in_waiting_list'] = np.log(df_subset['days_in_waiting_list'] + 1)\n",
        "df_subset['reservation_month'] = np.log(df_subset['reservation_month'] + 1)\n",
        "df_subset['reservation_day'] = np.log(df_subset['reservation_day'] + 1)\n",
        "df_subset['arrival_date_week_number'] = np.log(df_subset['arrival_date_week_number'] + 1)\n",
        "df_subset['arrival_date_day_of_month'] = np.log(df_subset['arrival_date_day_of_month'] + 1)\n",
        "df_subset['arrival_date_month'] = np.log(df_subset['arrival_date_month'] + 1)\n",
        "\n",
        "df_subset = df_subset.drop([])"
      ],
      "execution_count": 16,
      "outputs": []
    },
    {
      "cell_type": "code",
      "metadata": {
        "colab": {
          "base_uri": "https://localhost:8080/"
        },
        "id": "a-h5O-u_fOpS",
        "outputId": "54674287-aabb-47e9-e0d3-e03ed6688c0a"
      },
      "source": [
        "## 다시 확인\n",
        "df_subset.var()"
      ],
      "execution_count": 17,
      "outputs": [
        {
          "output_type": "execute_result",
          "data": {
            "text/plain": [
              "hotel                             0.222716\n",
              "is_canceled                       0.234348\n",
              "lead_time                         2.520964\n",
              "arrival_date_year                 0.499289\n",
              "arrival_date_month                0.575158\n",
              "arrival_date_week_number          0.439545\n",
              "arrival_date_day_of_month         0.506808\n",
              "stays_in_weekend_nights           0.989183\n",
              "stays_in_week_nights              3.572044\n",
              "adults                            0.231569\n",
              "children                          0.159791\n",
              "babies                            0.009444\n",
              "meal                              1.138017\n",
              "country                           0.465148\n",
              "market_segment                    1.520872\n",
              "is_repeated_guest                 0.027086\n",
              "previous_cancellations            0.720456\n",
              "previous_bookings_not_canceled    2.091370\n",
              "reserved_room_type                2.864232\n",
              "deposit_type                      0.113640\n",
              "agent                             3.496853\n",
              "company                           1.311311\n",
              "days_in_waiting_list              0.507638\n",
              "customer_type                     0.334185\n",
              "adr                               0.208900\n",
              "required_car_parking_spaces       0.060287\n",
              "total_of_special_requests         0.626689\n",
              "total_staying_nights              6.397173\n",
              "Room                              0.105550\n",
              "more_canceled                     0.000000\n",
              "not_canceled                      0.000000\n",
              "reservation_year                  0.511000\n",
              "reservation_month                 0.308480\n",
              "reservation_day                   0.524647\n",
              "dtype: float64"
            ]
          },
          "metadata": {},
          "execution_count": 17
        }
      ]
    },
    {
      "cell_type": "markdown",
      "source": [
        "<br/>\n",
        "</br>\n",
        "\n",
        "\n",
        "--------------\n",
        "## Modeling"
      ],
      "metadata": {
        "id": "UkBm6OOXGvJe"
      }
    },
    {
      "cell_type": "markdown",
      "source": [
        "<br/>\n",
        "</br>\n",
        "\n",
        "### data split"
      ],
      "metadata": {
        "id": "_ohs-HGOOTNQ"
      }
    },
    {
      "cell_type": "code",
      "metadata": {
        "id": "kZItMnKWJ1kV"
      },
      "source": [
        "def data_split(df, label):\n",
        "    \n",
        "    from sklearn.model_selection import train_test_split\n",
        "\n",
        "    X = df.drop(label, axis=1)\n",
        "    Y = df[label]\n",
        "\n",
        "    x_train, x_test, y_train, y_test = train_test_split(X,Y,test_size = 0.30)\n",
        "    \n",
        "    return x_train, x_test, y_train, y_test\n",
        "\n",
        "\n",
        "## train, test 로 데이터 split\n",
        "## y 값에 is_canceled\n",
        "x_train, x_test, y_train, y_test = data_split(df_subset, 'is_canceled')\n",
        "\n",
        "from sklearn.impute import SimpleImputer\n",
        "\n",
        "## default, imputing 'mean' value\n",
        "imputer = SimpleImputer() \n",
        "x_train = imputer.fit_transform(x_train)\n",
        "x_test = imputer.transform(x_test)"
      ],
      "execution_count": 18,
      "outputs": []
    },
    {
      "cell_type": "markdown",
      "source": [
        "<br/>\n",
        "</br>\n",
        "\n",
        "### data train\n",
        "+ decision tree\n",
        "+ XGBoost\n",
        "+ Gradient Boosting\n",
        "+ AdaBoost\n",
        "+ RandomForest\n",
        "+ LogisticRegression\n",
        "+ CatBoost\n"
      ],
      "metadata": {
        "id": "k-OCBZn-OXWW"
      }
    },
    {
      "cell_type": "code",
      "metadata": {
        "id": "BM0Nf_O8J4Yr",
        "colab": {
          "base_uri": "https://localhost:8080/"
        },
        "outputId": "a4ba39d5-9ee6-40ca-e5ab-85b48bb7e34f"
      },
      "source": [
        "def train(x_train, y_train):\n",
        "    from sklearn.tree import DecisionTreeClassifier\n",
        "    from xgboost import XGBClassifier\n",
        "    from sklearn.ensemble import GradientBoostingClassifier \n",
        "    from sklearn.ensemble import AdaBoostClassifier\n",
        "    from sklearn.linear_model import LogisticRegression\n",
        "    from sklearn.ensemble import RandomForestClassifier\n",
        "    from catboost import CatBoostClassifier\n",
        "    from sklearn.ensemble import ExtraTreesClassifier\n",
        "    from lightgbm import LGBMClassifier\n",
        "    from sklearn.ensemble import HistGradientBoostingClassifier\n",
        "\n",
        "    ## decision tree\n",
        "    clf = DecisionTreeClassifier(random_state=0)\n",
        "    clf.fit(x_train,y_train)\n",
        "\n",
        "\n",
        "    ## XGBoost\n",
        "    xgb = XGBClassifier(booster = 'gbtree', learning_rate = 0.1, max_depth = 5, n_estimators = 500)\n",
        "    xgb.fit(x_train, y_train)\n",
        "\n",
        "    \n",
        "    ## Gradient Boosting\n",
        "    gb = GradientBoostingClassifier()\n",
        "    gb.fit(x_train, y_train)\n",
        "\n",
        "    ## AdaBoost\n",
        "    ada = AdaBoostClassifier(base_estimator = clf)\n",
        "    ada.fit(x_train, y_train)\n",
        "\n",
        "    ## RandomForest\n",
        "    rd_clf = RandomForestClassifier(n_estimators=300)\n",
        "    rd_clf.fit(x_train, y_train)    \n",
        "\n",
        "    ## LogisticRegression\n",
        "    lr = LogisticRegression()\n",
        "    lr.fit(x_train, y_train)\n",
        "\n",
        "    ## CatBoost\n",
        "    cat = CatBoostClassifier(iterations=300)\n",
        "    cat.fit(x_train, y_train)\n",
        "\n",
        "    ##LGBM\n",
        "    lgbm = LGBMClassifier(learning_rate = 1)\n",
        "    lgbm.fit(x_train, y_train)\n",
        "\n",
        "    ##ExtraTreesClassifier\n",
        "    etc = ExtraTreesClassifier()\n",
        "    etc.fit(x_train, y_train)\n",
        "\n",
        "    ##HistGradientBoostingClasifier\n",
        "    hgbc = HistGradientBoostingClassifier(random_state=0)\n",
        "    hgbc.fit(x_train,y_train)\n",
        "\n",
        "    return clf, xgb,gb,ada,rd_clf,lr,cat,lgbm,etc,hgbc\n",
        "\n",
        "\n",
        "clf,xgb,gb,ada,rd_clf,lr,cat,lgbm,etc,hgbc = train(x_train, y_train)"
      ],
      "execution_count": 19,
      "outputs": [
        {
          "output_type": "stream",
          "name": "stderr",
          "text": [
            "/usr/local/lib/python3.7/dist-packages/sklearn/linear_model/_logistic.py:818: ConvergenceWarning: lbfgs failed to converge (status=1):\n",
            "STOP: TOTAL NO. of ITERATIONS REACHED LIMIT.\n",
            "\n",
            "Increase the number of iterations (max_iter) or scale the data as shown in:\n",
            "    https://scikit-learn.org/stable/modules/preprocessing.html\n",
            "Please also refer to the documentation for alternative solver options:\n",
            "    https://scikit-learn.org/stable/modules/linear_model.html#logistic-regression\n",
            "  extra_warning_msg=_LOGISTIC_SOLVER_CONVERGENCE_MSG,\n"
          ]
        },
        {
          "output_type": "stream",
          "name": "stdout",
          "text": [
            "Learning rate set to 0.204182\n",
            "0:\tlearn: 0.5522438\ttotal: 82.5ms\tremaining: 24.7s\n",
            "1:\tlearn: 0.4714694\ttotal: 107ms\tremaining: 15.9s\n",
            "2:\tlearn: 0.4291059\ttotal: 134ms\tremaining: 13.2s\n",
            "3:\tlearn: 0.4031615\ttotal: 160ms\tremaining: 11.8s\n",
            "4:\tlearn: 0.3823115\ttotal: 184ms\tremaining: 10.8s\n",
            "5:\tlearn: 0.3593003\ttotal: 211ms\tremaining: 10.4s\n",
            "6:\tlearn: 0.3295090\ttotal: 238ms\tremaining: 9.97s\n",
            "7:\tlearn: 0.3195925\ttotal: 263ms\tremaining: 9.59s\n",
            "8:\tlearn: 0.3051550\ttotal: 287ms\tremaining: 9.29s\n",
            "9:\tlearn: 0.2967529\ttotal: 312ms\tremaining: 9.04s\n",
            "10:\tlearn: 0.2884833\ttotal: 334ms\tremaining: 8.78s\n",
            "11:\tlearn: 0.2701853\ttotal: 360ms\tremaining: 8.64s\n",
            "12:\tlearn: 0.2485232\ttotal: 385ms\tremaining: 8.51s\n",
            "13:\tlearn: 0.2459800\ttotal: 409ms\tremaining: 8.35s\n",
            "14:\tlearn: 0.2418864\ttotal: 439ms\tremaining: 8.34s\n",
            "15:\tlearn: 0.2312259\ttotal: 463ms\tremaining: 8.22s\n",
            "16:\tlearn: 0.2158573\ttotal: 488ms\tremaining: 8.12s\n",
            "17:\tlearn: 0.2007114\ttotal: 512ms\tremaining: 8.02s\n",
            "18:\tlearn: 0.1872196\ttotal: 537ms\tremaining: 7.94s\n",
            "19:\tlearn: 0.1733077\ttotal: 563ms\tremaining: 7.88s\n",
            "20:\tlearn: 0.1685173\ttotal: 588ms\tremaining: 7.81s\n",
            "21:\tlearn: 0.1603469\ttotal: 613ms\tremaining: 7.74s\n",
            "22:\tlearn: 0.1500229\ttotal: 638ms\tremaining: 7.69s\n",
            "23:\tlearn: 0.1458469\ttotal: 671ms\tremaining: 7.71s\n",
            "24:\tlearn: 0.1450552\ttotal: 692ms\tremaining: 7.61s\n",
            "25:\tlearn: 0.1412312\ttotal: 719ms\tremaining: 7.57s\n",
            "26:\tlearn: 0.1344336\ttotal: 743ms\tremaining: 7.51s\n",
            "27:\tlearn: 0.1278739\ttotal: 767ms\tremaining: 7.45s\n",
            "28:\tlearn: 0.1261652\ttotal: 790ms\tremaining: 7.39s\n",
            "29:\tlearn: 0.1205293\ttotal: 815ms\tremaining: 7.33s\n",
            "30:\tlearn: 0.1198638\ttotal: 838ms\tremaining: 7.27s\n",
            "31:\tlearn: 0.1149518\ttotal: 863ms\tremaining: 7.23s\n",
            "32:\tlearn: 0.1118808\ttotal: 897ms\tremaining: 7.26s\n",
            "33:\tlearn: 0.1113338\ttotal: 920ms\tremaining: 7.2s\n",
            "34:\tlearn: 0.1090309\ttotal: 946ms\tremaining: 7.16s\n",
            "35:\tlearn: 0.1056486\ttotal: 971ms\tremaining: 7.12s\n",
            "36:\tlearn: 0.1026196\ttotal: 1.01s\tremaining: 7.16s\n",
            "37:\tlearn: 0.1021934\ttotal: 1.03s\tremaining: 7.1s\n",
            "38:\tlearn: 0.0998177\ttotal: 1.06s\tremaining: 7.07s\n",
            "39:\tlearn: 0.0968716\ttotal: 1.09s\tremaining: 7.07s\n",
            "40:\tlearn: 0.0946574\ttotal: 1.12s\tremaining: 7.05s\n",
            "41:\tlearn: 0.0928296\ttotal: 1.14s\tremaining: 7.01s\n",
            "42:\tlearn: 0.0918907\ttotal: 1.16s\tremaining: 6.95s\n",
            "43:\tlearn: 0.0885467\ttotal: 1.19s\tremaining: 6.91s\n",
            "44:\tlearn: 0.0871750\ttotal: 1.21s\tremaining: 6.86s\n",
            "45:\tlearn: 0.0853592\ttotal: 1.23s\tremaining: 6.82s\n",
            "46:\tlearn: 0.0821910\ttotal: 1.26s\tremaining: 6.79s\n",
            "47:\tlearn: 0.0810171\ttotal: 1.29s\tremaining: 6.76s\n",
            "48:\tlearn: 0.0805030\ttotal: 1.31s\tremaining: 6.72s\n",
            "49:\tlearn: 0.0792668\ttotal: 1.34s\tremaining: 6.69s\n",
            "50:\tlearn: 0.0788839\ttotal: 1.36s\tremaining: 6.66s\n",
            "51:\tlearn: 0.0782709\ttotal: 1.39s\tremaining: 6.61s\n",
            "52:\tlearn: 0.0780801\ttotal: 1.41s\tremaining: 6.57s\n",
            "53:\tlearn: 0.0768658\ttotal: 1.43s\tremaining: 6.52s\n",
            "54:\tlearn: 0.0767701\ttotal: 1.45s\tremaining: 6.47s\n",
            "55:\tlearn: 0.0745089\ttotal: 1.48s\tremaining: 6.43s\n",
            "56:\tlearn: 0.0734042\ttotal: 1.5s\tremaining: 6.4s\n",
            "57:\tlearn: 0.0713039\ttotal: 1.53s\tremaining: 6.38s\n",
            "58:\tlearn: 0.0700769\ttotal: 1.56s\tremaining: 6.36s\n",
            "59:\tlearn: 0.0697768\ttotal: 1.58s\tremaining: 6.33s\n",
            "60:\tlearn: 0.0689990\ttotal: 1.61s\tremaining: 6.29s\n",
            "61:\tlearn: 0.0685186\ttotal: 1.63s\tremaining: 6.26s\n",
            "62:\tlearn: 0.0679426\ttotal: 1.65s\tremaining: 6.22s\n",
            "63:\tlearn: 0.0675004\ttotal: 1.68s\tremaining: 6.18s\n",
            "64:\tlearn: 0.0665911\ttotal: 1.7s\tremaining: 6.14s\n",
            "65:\tlearn: 0.0649018\ttotal: 1.72s\tremaining: 6.11s\n",
            "66:\tlearn: 0.0644338\ttotal: 1.75s\tremaining: 6.07s\n",
            "67:\tlearn: 0.0622723\ttotal: 1.77s\tremaining: 6.05s\n",
            "68:\tlearn: 0.0619576\ttotal: 1.8s\tremaining: 6.02s\n",
            "69:\tlearn: 0.0617158\ttotal: 1.82s\tremaining: 5.98s\n",
            "70:\tlearn: 0.0604168\ttotal: 1.85s\tremaining: 5.96s\n",
            "71:\tlearn: 0.0599218\ttotal: 1.87s\tremaining: 5.92s\n",
            "72:\tlearn: 0.0599100\ttotal: 1.89s\tremaining: 5.88s\n",
            "73:\tlearn: 0.0589570\ttotal: 1.92s\tremaining: 5.85s\n",
            "74:\tlearn: 0.0587374\ttotal: 1.94s\tremaining: 5.82s\n",
            "75:\tlearn: 0.0583971\ttotal: 1.96s\tremaining: 5.78s\n",
            "76:\tlearn: 0.0580234\ttotal: 1.99s\tremaining: 5.77s\n",
            "77:\tlearn: 0.0570624\ttotal: 2.02s\tremaining: 5.74s\n",
            "78:\tlearn: 0.0556770\ttotal: 2.04s\tremaining: 5.71s\n",
            "79:\tlearn: 0.0542607\ttotal: 2.06s\tremaining: 5.68s\n",
            "80:\tlearn: 0.0540386\ttotal: 2.08s\tremaining: 5.64s\n",
            "81:\tlearn: 0.0533118\ttotal: 2.12s\tremaining: 5.64s\n",
            "82:\tlearn: 0.0524328\ttotal: 2.15s\tremaining: 5.62s\n",
            "83:\tlearn: 0.0518355\ttotal: 2.17s\tremaining: 5.58s\n",
            "84:\tlearn: 0.0509150\ttotal: 2.21s\tremaining: 5.58s\n",
            "85:\tlearn: 0.0502035\ttotal: 2.23s\tremaining: 5.55s\n",
            "86:\tlearn: 0.0497424\ttotal: 2.25s\tremaining: 5.52s\n",
            "87:\tlearn: 0.0492779\ttotal: 2.27s\tremaining: 5.48s\n",
            "88:\tlearn: 0.0491368\ttotal: 2.3s\tremaining: 5.45s\n",
            "89:\tlearn: 0.0477701\ttotal: 2.33s\tremaining: 5.43s\n",
            "90:\tlearn: 0.0474611\ttotal: 2.35s\tremaining: 5.4s\n",
            "91:\tlearn: 0.0465672\ttotal: 2.38s\tremaining: 5.37s\n",
            "92:\tlearn: 0.0459325\ttotal: 2.4s\tremaining: 5.35s\n",
            "93:\tlearn: 0.0450947\ttotal: 2.43s\tremaining: 5.32s\n",
            "94:\tlearn: 0.0446767\ttotal: 2.46s\tremaining: 5.3s\n",
            "95:\tlearn: 0.0443585\ttotal: 2.48s\tremaining: 5.26s\n",
            "96:\tlearn: 0.0437748\ttotal: 2.5s\tremaining: 5.23s\n",
            "97:\tlearn: 0.0427953\ttotal: 2.52s\tremaining: 5.2s\n",
            "98:\tlearn: 0.0427168\ttotal: 2.54s\tremaining: 5.17s\n",
            "99:\tlearn: 0.0417985\ttotal: 2.57s\tremaining: 5.13s\n",
            "100:\tlearn: 0.0407051\ttotal: 2.59s\tremaining: 5.11s\n",
            "101:\tlearn: 0.0401461\ttotal: 2.62s\tremaining: 5.09s\n",
            "102:\tlearn: 0.0397839\ttotal: 2.65s\tremaining: 5.06s\n",
            "103:\tlearn: 0.0396403\ttotal: 2.67s\tremaining: 5.04s\n",
            "104:\tlearn: 0.0392518\ttotal: 2.7s\tremaining: 5.01s\n",
            "105:\tlearn: 0.0385793\ttotal: 2.72s\tremaining: 4.98s\n",
            "106:\tlearn: 0.0385308\ttotal: 2.74s\tremaining: 4.94s\n",
            "107:\tlearn: 0.0381475\ttotal: 2.76s\tremaining: 4.91s\n",
            "108:\tlearn: 0.0377822\ttotal: 2.79s\tremaining: 4.88s\n",
            "109:\tlearn: 0.0374163\ttotal: 2.81s\tremaining: 4.85s\n",
            "110:\tlearn: 0.0368704\ttotal: 2.83s\tremaining: 4.83s\n",
            "111:\tlearn: 0.0367529\ttotal: 2.88s\tremaining: 4.83s\n",
            "112:\tlearn: 0.0366733\ttotal: 2.9s\tremaining: 4.8s\n",
            "113:\tlearn: 0.0360018\ttotal: 2.93s\tremaining: 4.78s\n",
            "114:\tlearn: 0.0353318\ttotal: 2.95s\tremaining: 4.75s\n",
            "115:\tlearn: 0.0342580\ttotal: 2.98s\tremaining: 4.72s\n",
            "116:\tlearn: 0.0336518\ttotal: 3s\tremaining: 4.7s\n",
            "117:\tlearn: 0.0330305\ttotal: 3.03s\tremaining: 4.67s\n",
            "118:\tlearn: 0.0329723\ttotal: 3.05s\tremaining: 4.64s\n",
            "119:\tlearn: 0.0326270\ttotal: 3.07s\tremaining: 4.61s\n",
            "120:\tlearn: 0.0323780\ttotal: 3.11s\tremaining: 4.6s\n",
            "121:\tlearn: 0.0319378\ttotal: 3.14s\tremaining: 4.58s\n",
            "122:\tlearn: 0.0313118\ttotal: 3.16s\tremaining: 4.55s\n",
            "123:\tlearn: 0.0312153\ttotal: 3.18s\tremaining: 4.52s\n",
            "124:\tlearn: 0.0309361\ttotal: 3.21s\tremaining: 4.49s\n",
            "125:\tlearn: 0.0302784\ttotal: 3.23s\tremaining: 4.46s\n",
            "126:\tlearn: 0.0301110\ttotal: 3.25s\tremaining: 4.43s\n",
            "127:\tlearn: 0.0299678\ttotal: 3.27s\tremaining: 4.4s\n",
            "128:\tlearn: 0.0294375\ttotal: 3.3s\tremaining: 4.38s\n",
            "129:\tlearn: 0.0287395\ttotal: 3.33s\tremaining: 4.35s\n",
            "130:\tlearn: 0.0284633\ttotal: 3.35s\tremaining: 4.32s\n",
            "131:\tlearn: 0.0278816\ttotal: 3.38s\tremaining: 4.3s\n",
            "132:\tlearn: 0.0277143\ttotal: 3.4s\tremaining: 4.26s\n",
            "133:\tlearn: 0.0275396\ttotal: 3.42s\tremaining: 4.24s\n",
            "134:\tlearn: 0.0269849\ttotal: 3.45s\tremaining: 4.21s\n",
            "135:\tlearn: 0.0267643\ttotal: 3.47s\tremaining: 4.18s\n",
            "136:\tlearn: 0.0263783\ttotal: 3.49s\tremaining: 4.16s\n",
            "137:\tlearn: 0.0262956\ttotal: 3.51s\tremaining: 4.12s\n",
            "138:\tlearn: 0.0262956\ttotal: 3.53s\tremaining: 4.09s\n",
            "139:\tlearn: 0.0257785\ttotal: 3.56s\tremaining: 4.07s\n",
            "140:\tlearn: 0.0256095\ttotal: 3.58s\tremaining: 4.04s\n",
            "141:\tlearn: 0.0251006\ttotal: 3.6s\tremaining: 4.01s\n",
            "142:\tlearn: 0.0250374\ttotal: 3.63s\tremaining: 3.99s\n",
            "143:\tlearn: 0.0247065\ttotal: 3.65s\tremaining: 3.96s\n",
            "144:\tlearn: 0.0243762\ttotal: 3.68s\tremaining: 3.93s\n",
            "145:\tlearn: 0.0238542\ttotal: 3.7s\tremaining: 3.9s\n",
            "146:\tlearn: 0.0237274\ttotal: 3.72s\tremaining: 3.87s\n",
            "147:\tlearn: 0.0233578\ttotal: 3.75s\tremaining: 3.85s\n",
            "148:\tlearn: 0.0229545\ttotal: 3.78s\tremaining: 3.83s\n",
            "149:\tlearn: 0.0224675\ttotal: 3.81s\tremaining: 3.81s\n",
            "150:\tlearn: 0.0223646\ttotal: 3.83s\tremaining: 3.78s\n",
            "151:\tlearn: 0.0221622\ttotal: 3.85s\tremaining: 3.75s\n",
            "152:\tlearn: 0.0220579\ttotal: 3.88s\tremaining: 3.72s\n",
            "153:\tlearn: 0.0220019\ttotal: 3.9s\tremaining: 3.69s\n",
            "154:\tlearn: 0.0217228\ttotal: 3.92s\tremaining: 3.67s\n",
            "155:\tlearn: 0.0217211\ttotal: 3.94s\tremaining: 3.64s\n",
            "156:\tlearn: 0.0212765\ttotal: 3.98s\tremaining: 3.62s\n",
            "157:\tlearn: 0.0212066\ttotal: 4s\tremaining: 3.6s\n",
            "158:\tlearn: 0.0208037\ttotal: 4.03s\tremaining: 3.57s\n",
            "159:\tlearn: 0.0207212\ttotal: 4.05s\tremaining: 3.54s\n",
            "160:\tlearn: 0.0204951\ttotal: 4.08s\tremaining: 3.52s\n",
            "161:\tlearn: 0.0202946\ttotal: 4.1s\tremaining: 3.49s\n",
            "162:\tlearn: 0.0200195\ttotal: 4.12s\tremaining: 3.47s\n",
            "163:\tlearn: 0.0196320\ttotal: 4.16s\tremaining: 3.45s\n",
            "164:\tlearn: 0.0193838\ttotal: 4.18s\tremaining: 3.42s\n",
            "165:\tlearn: 0.0192793\ttotal: 4.21s\tremaining: 3.4s\n",
            "166:\tlearn: 0.0190805\ttotal: 4.23s\tremaining: 3.37s\n",
            "167:\tlearn: 0.0188179\ttotal: 4.25s\tremaining: 3.34s\n",
            "168:\tlearn: 0.0185477\ttotal: 4.28s\tremaining: 3.32s\n",
            "169:\tlearn: 0.0182204\ttotal: 4.3s\tremaining: 3.29s\n",
            "170:\tlearn: 0.0178122\ttotal: 4.33s\tremaining: 3.27s\n",
            "171:\tlearn: 0.0177837\ttotal: 4.35s\tremaining: 3.24s\n",
            "172:\tlearn: 0.0177213\ttotal: 4.38s\tremaining: 3.21s\n",
            "173:\tlearn: 0.0174848\ttotal: 4.4s\tremaining: 3.19s\n",
            "174:\tlearn: 0.0173533\ttotal: 4.43s\tremaining: 3.16s\n",
            "175:\tlearn: 0.0173533\ttotal: 4.45s\tremaining: 3.13s\n",
            "176:\tlearn: 0.0171219\ttotal: 4.47s\tremaining: 3.11s\n",
            "177:\tlearn: 0.0167649\ttotal: 4.5s\tremaining: 3.08s\n",
            "178:\tlearn: 0.0164804\ttotal: 4.53s\tremaining: 3.06s\n",
            "179:\tlearn: 0.0163920\ttotal: 4.55s\tremaining: 3.03s\n",
            "180:\tlearn: 0.0163598\ttotal: 4.57s\tremaining: 3s\n",
            "181:\tlearn: 0.0163163\ttotal: 4.59s\tremaining: 2.98s\n",
            "182:\tlearn: 0.0162061\ttotal: 4.62s\tremaining: 2.95s\n",
            "183:\tlearn: 0.0161207\ttotal: 4.64s\tremaining: 2.93s\n",
            "184:\tlearn: 0.0158071\ttotal: 4.67s\tremaining: 2.9s\n",
            "185:\tlearn: 0.0155522\ttotal: 4.69s\tremaining: 2.88s\n",
            "186:\tlearn: 0.0155272\ttotal: 4.71s\tremaining: 2.85s\n",
            "187:\tlearn: 0.0154037\ttotal: 4.74s\tremaining: 2.82s\n",
            "188:\tlearn: 0.0151053\ttotal: 4.76s\tremaining: 2.8s\n",
            "189:\tlearn: 0.0148643\ttotal: 4.79s\tremaining: 2.77s\n",
            "190:\tlearn: 0.0147241\ttotal: 4.81s\tremaining: 2.74s\n",
            "191:\tlearn: 0.0144689\ttotal: 4.85s\tremaining: 2.73s\n",
            "192:\tlearn: 0.0143180\ttotal: 4.87s\tremaining: 2.7s\n",
            "193:\tlearn: 0.0142747\ttotal: 4.9s\tremaining: 2.68s\n",
            "194:\tlearn: 0.0141851\ttotal: 4.92s\tremaining: 2.65s\n",
            "195:\tlearn: 0.0139704\ttotal: 4.94s\tremaining: 2.62s\n",
            "196:\tlearn: 0.0136403\ttotal: 4.97s\tremaining: 2.6s\n",
            "197:\tlearn: 0.0133751\ttotal: 5s\tremaining: 2.57s\n",
            "198:\tlearn: 0.0132628\ttotal: 5.02s\tremaining: 2.55s\n",
            "199:\tlearn: 0.0130819\ttotal: 5.04s\tremaining: 2.52s\n",
            "200:\tlearn: 0.0128705\ttotal: 5.07s\tremaining: 2.5s\n",
            "201:\tlearn: 0.0127018\ttotal: 5.09s\tremaining: 2.47s\n",
            "202:\tlearn: 0.0125309\ttotal: 5.12s\tremaining: 2.44s\n",
            "203:\tlearn: 0.0124467\ttotal: 5.15s\tremaining: 2.42s\n",
            "204:\tlearn: 0.0121927\ttotal: 5.17s\tremaining: 2.4s\n",
            "205:\tlearn: 0.0121926\ttotal: 5.19s\tremaining: 2.37s\n",
            "206:\tlearn: 0.0119800\ttotal: 5.22s\tremaining: 2.35s\n",
            "207:\tlearn: 0.0119161\ttotal: 5.24s\tremaining: 2.32s\n",
            "208:\tlearn: 0.0119161\ttotal: 5.26s\tremaining: 2.29s\n",
            "209:\tlearn: 0.0117858\ttotal: 5.28s\tremaining: 2.26s\n",
            "210:\tlearn: 0.0115990\ttotal: 5.31s\tremaining: 2.24s\n",
            "211:\tlearn: 0.0114505\ttotal: 5.33s\tremaining: 2.21s\n",
            "212:\tlearn: 0.0113924\ttotal: 5.35s\tremaining: 2.19s\n",
            "213:\tlearn: 0.0112679\ttotal: 5.38s\tremaining: 2.16s\n",
            "214:\tlearn: 0.0112338\ttotal: 5.4s\tremaining: 2.14s\n",
            "215:\tlearn: 0.0112057\ttotal: 5.43s\tremaining: 2.11s\n",
            "216:\tlearn: 0.0111312\ttotal: 5.45s\tremaining: 2.08s\n",
            "217:\tlearn: 0.0110036\ttotal: 5.47s\tremaining: 2.06s\n",
            "218:\tlearn: 0.0108217\ttotal: 5.5s\tremaining: 2.03s\n",
            "219:\tlearn: 0.0107007\ttotal: 5.52s\tremaining: 2.01s\n",
            "220:\tlearn: 0.0105715\ttotal: 5.55s\tremaining: 1.98s\n",
            "221:\tlearn: 0.0104353\ttotal: 5.57s\tremaining: 1.96s\n",
            "222:\tlearn: 0.0104098\ttotal: 5.59s\tremaining: 1.93s\n",
            "223:\tlearn: 0.0102731\ttotal: 5.62s\tremaining: 1.91s\n",
            "224:\tlearn: 0.0101875\ttotal: 5.64s\tremaining: 1.88s\n",
            "225:\tlearn: 0.0101875\ttotal: 5.66s\tremaining: 1.85s\n",
            "226:\tlearn: 0.0101875\ttotal: 5.67s\tremaining: 1.82s\n",
            "227:\tlearn: 0.0101296\ttotal: 5.7s\tremaining: 1.8s\n",
            "228:\tlearn: 0.0099304\ttotal: 5.73s\tremaining: 1.78s\n",
            "229:\tlearn: 0.0099025\ttotal: 5.75s\tremaining: 1.75s\n",
            "230:\tlearn: 0.0098816\ttotal: 5.78s\tremaining: 1.73s\n",
            "231:\tlearn: 0.0097604\ttotal: 5.8s\tremaining: 1.7s\n",
            "232:\tlearn: 0.0096408\ttotal: 5.83s\tremaining: 1.68s\n",
            "233:\tlearn: 0.0095316\ttotal: 5.85s\tremaining: 1.65s\n",
            "234:\tlearn: 0.0093759\ttotal: 5.88s\tremaining: 1.63s\n",
            "235:\tlearn: 0.0093551\ttotal: 5.9s\tremaining: 1.6s\n",
            "236:\tlearn: 0.0093255\ttotal: 5.93s\tremaining: 1.57s\n",
            "237:\tlearn: 0.0091938\ttotal: 5.96s\tremaining: 1.55s\n",
            "238:\tlearn: 0.0091665\ttotal: 5.98s\tremaining: 1.53s\n",
            "239:\tlearn: 0.0091299\ttotal: 6s\tremaining: 1.5s\n",
            "240:\tlearn: 0.0089884\ttotal: 6.03s\tremaining: 1.48s\n",
            "241:\tlearn: 0.0089402\ttotal: 6.05s\tremaining: 1.45s\n",
            "242:\tlearn: 0.0089021\ttotal: 6.07s\tremaining: 1.42s\n",
            "243:\tlearn: 0.0088812\ttotal: 6.09s\tremaining: 1.4s\n",
            "244:\tlearn: 0.0088058\ttotal: 6.12s\tremaining: 1.37s\n",
            "245:\tlearn: 0.0087799\ttotal: 6.14s\tremaining: 1.35s\n",
            "246:\tlearn: 0.0087245\ttotal: 6.18s\tremaining: 1.33s\n",
            "247:\tlearn: 0.0085803\ttotal: 6.21s\tremaining: 1.3s\n",
            "248:\tlearn: 0.0085304\ttotal: 6.22s\tremaining: 1.27s\n",
            "249:\tlearn: 0.0085304\ttotal: 6.24s\tremaining: 1.25s\n",
            "250:\tlearn: 0.0085187\ttotal: 6.26s\tremaining: 1.22s\n",
            "251:\tlearn: 0.0085186\ttotal: 6.28s\tremaining: 1.2s\n",
            "252:\tlearn: 0.0085127\ttotal: 6.3s\tremaining: 1.17s\n",
            "253:\tlearn: 0.0084730\ttotal: 6.33s\tremaining: 1.15s\n",
            "254:\tlearn: 0.0084730\ttotal: 6.34s\tremaining: 1.12s\n",
            "255:\tlearn: 0.0084523\ttotal: 6.37s\tremaining: 1.09s\n",
            "256:\tlearn: 0.0084523\ttotal: 6.38s\tremaining: 1.07s\n",
            "257:\tlearn: 0.0084522\ttotal: 6.4s\tremaining: 1.04s\n",
            "258:\tlearn: 0.0084348\ttotal: 6.42s\tremaining: 1.02s\n",
            "259:\tlearn: 0.0083558\ttotal: 6.45s\tremaining: 992ms\n",
            "260:\tlearn: 0.0083028\ttotal: 6.47s\tremaining: 967ms\n",
            "261:\tlearn: 0.0082815\ttotal: 6.49s\tremaining: 942ms\n",
            "262:\tlearn: 0.0082045\ttotal: 6.52s\tremaining: 917ms\n",
            "263:\tlearn: 0.0081963\ttotal: 6.54s\tremaining: 892ms\n",
            "264:\tlearn: 0.0081205\ttotal: 6.57s\tremaining: 868ms\n",
            "265:\tlearn: 0.0079965\ttotal: 6.6s\tremaining: 844ms\n",
            "266:\tlearn: 0.0078753\ttotal: 6.63s\tremaining: 819ms\n",
            "267:\tlearn: 0.0078554\ttotal: 6.65s\tremaining: 794ms\n",
            "268:\tlearn: 0.0077619\ttotal: 6.67s\tremaining: 769ms\n",
            "269:\tlearn: 0.0076833\ttotal: 6.69s\tremaining: 744ms\n",
            "270:\tlearn: 0.0076279\ttotal: 6.71s\tremaining: 719ms\n",
            "271:\tlearn: 0.0075493\ttotal: 6.74s\tremaining: 694ms\n",
            "272:\tlearn: 0.0075159\ttotal: 6.76s\tremaining: 669ms\n",
            "273:\tlearn: 0.0074884\ttotal: 6.79s\tremaining: 644ms\n",
            "274:\tlearn: 0.0074827\ttotal: 6.81s\tremaining: 619ms\n",
            "275:\tlearn: 0.0074094\ttotal: 6.83s\tremaining: 594ms\n",
            "276:\tlearn: 0.0073309\ttotal: 6.86s\tremaining: 569ms\n",
            "277:\tlearn: 0.0073308\ttotal: 6.87s\tremaining: 544ms\n",
            "278:\tlearn: 0.0073308\ttotal: 6.9s\tremaining: 519ms\n",
            "279:\tlearn: 0.0073308\ttotal: 6.92s\tremaining: 494ms\n",
            "280:\tlearn: 0.0073308\ttotal: 6.93s\tremaining: 469ms\n",
            "281:\tlearn: 0.0073050\ttotal: 6.95s\tremaining: 444ms\n",
            "282:\tlearn: 0.0072561\ttotal: 6.98s\tremaining: 419ms\n",
            "283:\tlearn: 0.0072309\ttotal: 7s\tremaining: 394ms\n",
            "284:\tlearn: 0.0072092\ttotal: 7.03s\tremaining: 370ms\n",
            "285:\tlearn: 0.0071628\ttotal: 7.05s\tremaining: 345ms\n",
            "286:\tlearn: 0.0071091\ttotal: 7.07s\tremaining: 320ms\n",
            "287:\tlearn: 0.0071091\ttotal: 7.09s\tremaining: 296ms\n",
            "288:\tlearn: 0.0071091\ttotal: 7.11s\tremaining: 271ms\n",
            "289:\tlearn: 0.0071090\ttotal: 7.13s\tremaining: 246ms\n",
            "290:\tlearn: 0.0071066\ttotal: 7.15s\tremaining: 221ms\n",
            "291:\tlearn: 0.0071066\ttotal: 7.17s\tremaining: 196ms\n",
            "292:\tlearn: 0.0071029\ttotal: 7.2s\tremaining: 172ms\n",
            "293:\tlearn: 0.0071030\ttotal: 7.22s\tremaining: 147ms\n",
            "294:\tlearn: 0.0070787\ttotal: 7.25s\tremaining: 123ms\n",
            "295:\tlearn: 0.0069758\ttotal: 7.28s\tremaining: 98.4ms\n",
            "296:\tlearn: 0.0069274\ttotal: 7.3s\tremaining: 73.8ms\n",
            "297:\tlearn: 0.0069273\ttotal: 7.32s\tremaining: 49.1ms\n",
            "298:\tlearn: 0.0069050\ttotal: 7.34s\tremaining: 24.6ms\n",
            "299:\tlearn: 0.0068378\ttotal: 7.37s\tremaining: 0us\n"
          ]
        }
      ]
    },
    {
      "cell_type": "markdown",
      "source": [
        "<br/>\n",
        "</br>\n",
        "\n",
        "### 정확도 확인"
      ],
      "metadata": {
        "id": "0n4Pc9hKOssw"
      }
    },
    {
      "cell_type": "code",
      "metadata": {
        "colab": {
          "base_uri": "https://localhost:8080/"
        },
        "id": "6P8Ruqz5MNen",
        "outputId": "68c760e1-5096-40e9-9f64-b8e2a90f9f62"
      },
      "source": [
        "def Score(clf,x_train,y_train,x_test,y_test):\n",
        "    train_score = clf.score(x_train,y_train)\n",
        "    test_score = clf.score(x_test,y_test)\n",
        "\n",
        "    print(\"========================================\")\n",
        "    print(f'Training Accuracy of our model is: {train_score}')\n",
        "    print(f'Test Accuracy of our model is: {test_score}')\n",
        "    print(\"========================================\")\n",
        "    \n",
        "    \n",
        "Score(clf,x_train,y_train,x_test,y_test)"
      ],
      "execution_count": 20,
      "outputs": [
        {
          "output_type": "stream",
          "name": "stdout",
          "text": [
            "========================================\n",
            "Training Accuracy of our model is: 1.0\n",
            "Test Accuracy of our model is: 0.9462237365133447\n",
            "========================================\n"
          ]
        }
      ]
    },
    {
      "cell_type": "markdown",
      "source": [
        "<br/>\n",
        "</br>\n",
        "\n",
        "##### 모델 별 비교"
      ],
      "metadata": {
        "id": "KZNuvcuvPbAE"
      }
    },
    {
      "cell_type": "code",
      "metadata": {
        "id": "2oMfyL58YVcF",
        "colab": {
          "base_uri": "https://localhost:8080/",
          "height": 359
        },
        "outputId": "65895d57-97e0-4700-c7ff-25f1d3d13257"
      },
      "source": [
        "models = pd.DataFrame({\n",
        "    'Model' : ['Decision Tree Classifier', 'Random Forest Classifier', \n",
        "               'XgBoost',  'Cat Boost', 'Gradient Boosting Classifier','Ada Boost Classifier', 'Linear regression',\"LightGBMClassifier\",\"ExtraTreesClassifier\",\"HistGradientBoostingClassifier\"],\n",
        "\n",
        "    'Score' : [clf.score(x_test,y_test),rd_clf.score(x_test,y_test), xgb.score(x_test,y_test), cat.score(x_test,y_test) , gb.score(x_test,y_test) , ada.score(x_test,y_test) , lr.score(x_test,y_test),lgbm.score(x_test,y_test),etc.score(x_test,y_test),hgbc.score(x_test,y_test)]\n",
        "})\n",
        "\n",
        "models.sort_values(by = 'Score', ascending = False)"
      ],
      "execution_count": 21,
      "outputs": [
        {
          "output_type": "execute_result",
          "data": {
            "text/html": [
              "<div>\n",
              "<style scoped>\n",
              "    .dataframe tbody tr th:only-of-type {\n",
              "        vertical-align: middle;\n",
              "    }\n",
              "\n",
              "    .dataframe tbody tr th {\n",
              "        vertical-align: top;\n",
              "    }\n",
              "\n",
              "    .dataframe thead th {\n",
              "        text-align: right;\n",
              "    }\n",
              "</style>\n",
              "<table border=\"1\" class=\"dataframe\">\n",
              "  <thead>\n",
              "    <tr style=\"text-align: right;\">\n",
              "      <th></th>\n",
              "      <th>Model</th>\n",
              "      <th>Score</th>\n",
              "    </tr>\n",
              "  </thead>\n",
              "  <tbody>\n",
              "    <tr>\n",
              "      <th>2</th>\n",
              "      <td>XgBoost</td>\n",
              "      <td>0.999205</td>\n",
              "    </tr>\n",
              "    <tr>\n",
              "      <th>3</th>\n",
              "      <td>Cat Boost</td>\n",
              "      <td>0.998921</td>\n",
              "    </tr>\n",
              "    <tr>\n",
              "      <th>9</th>\n",
              "      <td>HistGradientBoostingClassifier</td>\n",
              "      <td>0.987252</td>\n",
              "    </tr>\n",
              "    <tr>\n",
              "      <th>7</th>\n",
              "      <td>LightGBMClassifier</td>\n",
              "      <td>0.968569</td>\n",
              "    </tr>\n",
              "    <tr>\n",
              "      <th>1</th>\n",
              "      <td>Random Forest Classifier</td>\n",
              "      <td>0.956729</td>\n",
              "    </tr>\n",
              "    <tr>\n",
              "      <th>8</th>\n",
              "      <td>ExtraTreesClassifier</td>\n",
              "      <td>0.956530</td>\n",
              "    </tr>\n",
              "    <tr>\n",
              "      <th>5</th>\n",
              "      <td>Ada Boost Classifier</td>\n",
              "      <td>0.947047</td>\n",
              "    </tr>\n",
              "    <tr>\n",
              "      <th>0</th>\n",
              "      <td>Decision Tree Classifier</td>\n",
              "      <td>0.946224</td>\n",
              "    </tr>\n",
              "    <tr>\n",
              "      <th>4</th>\n",
              "      <td>Gradient Boosting Classifier</td>\n",
              "      <td>0.918768</td>\n",
              "    </tr>\n",
              "    <tr>\n",
              "      <th>6</th>\n",
              "      <td>Linear regression</td>\n",
              "      <td>0.791369</td>\n",
              "    </tr>\n",
              "  </tbody>\n",
              "</table>\n",
              "</div>"
            ],
            "text/plain": [
              "                            Model     Score\n",
              "2                         XgBoost  0.999205\n",
              "3                       Cat Boost  0.998921\n",
              "9  HistGradientBoostingClassifier  0.987252\n",
              "7              LightGBMClassifier  0.968569\n",
              "1        Random Forest Classifier  0.956729\n",
              "8            ExtraTreesClassifier  0.956530\n",
              "5            Ada Boost Classifier  0.947047\n",
              "0        Decision Tree Classifier  0.946224\n",
              "4    Gradient Boosting Classifier  0.918768\n",
              "6               Linear regression  0.791369"
            ]
          },
          "metadata": {},
          "execution_count": 21
        }
      ]
    }
  ]
}