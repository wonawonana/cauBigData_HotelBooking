{
  "nbformat": 4,
  "nbformat_minor": 0,
  "metadata": {
    "colab": {
      "name": "HotelfirstModel.ipynb의 사본",
      "provenance": [],
      "collapsed_sections": []
    },
    "kernelspec": {
      "name": "python3",
      "display_name": "Python 3"
    },
    "language_info": {
      "name": "python"
    },
    "accelerator": "GPU"
  },
  "cells": [
    {
      "cell_type": "markdown",
      "source": [
        "hotel booking demand\n",
        "====================\n",
        "#### https://www.kaggle.com/jessemostipak/hotel-booking-demand   \n",
        "   \n",
        "+ Find a problem\n",
        "+ Analyze previous approaches\n",
        "+ Modeling your methodolody\n",
        "+ Analyzing data\n",
        "+ Visualization\n",
        "+ Collaborative Evaluation  \n",
        "<br/>\n",
        "\n",
        "\n",
        "\n",
        "</br>\n",
        "\n",
        "-----------------"
      ],
      "metadata": {
        "id": "-oILkbbQ7UCn"
      }
    },
    {
      "cell_type": "code",
      "metadata": {
        "colab": {
          "base_uri": "https://localhost:8080/"
        },
        "id": "765otamzE4zL",
        "outputId": "7e53ff71-0c15-4717-8fd3-2878583ff3ed"
      },
      "source": [
        "!pip install pycountry\n",
        "!pip install catboost"
      ],
      "execution_count": 1,
      "outputs": [
        {
          "output_type": "stream",
          "name": "stdout",
          "text": [
            "Collecting pycountry\n",
            "  Downloading pycountry-20.7.3.tar.gz (10.1 MB)\n",
            "\u001b[K     |████████████████████████████████| 10.1 MB 3.4 MB/s \n",
            "\u001b[?25hBuilding wheels for collected packages: pycountry\n",
            "  Building wheel for pycountry (setup.py) ... \u001b[?25l\u001b[?25hdone\n",
            "  Created wheel for pycountry: filename=pycountry-20.7.3-py2.py3-none-any.whl size=10746883 sha256=510d89fac126a9bd75e6af9a93178a7bac0ec35bea6b95f06adb56167ef0a5d8\n",
            "  Stored in directory: /root/.cache/pip/wheels/57/e8/3f/120ccc1ff7541c108bc5d656e2a14c39da0d824653b62284c6\n",
            "Successfully built pycountry\n",
            "Installing collected packages: pycountry\n",
            "Successfully installed pycountry-20.7.3\n",
            "Collecting catboost\n",
            "  Downloading catboost-1.0.3-cp37-none-manylinux1_x86_64.whl (76.3 MB)\n",
            "\u001b[K     |████████████████████████████████| 76.3 MB 1.3 MB/s \n",
            "\u001b[?25hRequirement already satisfied: scipy in /usr/local/lib/python3.7/dist-packages (from catboost) (1.4.1)\n",
            "Requirement already satisfied: numpy>=1.16.0 in /usr/local/lib/python3.7/dist-packages (from catboost) (1.19.5)\n",
            "Requirement already satisfied: matplotlib in /usr/local/lib/python3.7/dist-packages (from catboost) (3.2.2)\n",
            "Requirement already satisfied: graphviz in /usr/local/lib/python3.7/dist-packages (from catboost) (0.10.1)\n",
            "Requirement already satisfied: plotly in /usr/local/lib/python3.7/dist-packages (from catboost) (4.4.1)\n",
            "Requirement already satisfied: pandas>=0.24.0 in /usr/local/lib/python3.7/dist-packages (from catboost) (1.1.5)\n",
            "Requirement already satisfied: six in /usr/local/lib/python3.7/dist-packages (from catboost) (1.15.0)\n",
            "Requirement already satisfied: python-dateutil>=2.7.3 in /usr/local/lib/python3.7/dist-packages (from pandas>=0.24.0->catboost) (2.8.2)\n",
            "Requirement already satisfied: pytz>=2017.2 in /usr/local/lib/python3.7/dist-packages (from pandas>=0.24.0->catboost) (2018.9)\n",
            "Requirement already satisfied: pyparsing!=2.0.4,!=2.1.2,!=2.1.6,>=2.0.1 in /usr/local/lib/python3.7/dist-packages (from matplotlib->catboost) (3.0.6)\n",
            "Requirement already satisfied: cycler>=0.10 in /usr/local/lib/python3.7/dist-packages (from matplotlib->catboost) (0.11.0)\n",
            "Requirement already satisfied: kiwisolver>=1.0.1 in /usr/local/lib/python3.7/dist-packages (from matplotlib->catboost) (1.3.2)\n",
            "Requirement already satisfied: retrying>=1.3.3 in /usr/local/lib/python3.7/dist-packages (from plotly->catboost) (1.3.3)\n",
            "Installing collected packages: catboost\n",
            "Successfully installed catboost-1.0.3\n"
          ]
        }
      ]
    },
    {
      "cell_type": "markdown",
      "source": [
        "-----------\n",
        "## Packages Import\n"
      ],
      "metadata": {
        "id": "wySj_Kg355Py"
      }
    },
    {
      "cell_type": "code",
      "metadata": {
        "id": "4AkovLhoEUIR"
      },
      "source": [
        "import numpy as np\n",
        "import pandas as pd\n",
        "import matplotlib.pyplot as plt\n",
        "import seaborn as sns\n",
        "import pycountry as pc\n",
        "\n",
        "pd.options.display.max_columns = None"
      ],
      "execution_count": 30,
      "outputs": []
    },
    {
      "cell_type": "code",
      "metadata": {
        "id": "dimSVdUtE-y2"
      },
      "source": [
        "## 데이터 불러오기\n",
        "data = pd.read_csv('./hotel_bookings.csv')"
      ],
      "execution_count": 60,
      "outputs": []
    },
    {
      "cell_type": "code",
      "metadata": {
        "colab": {
          "base_uri": "https://localhost:8080/",
          "height": 312
        },
        "id": "cjqccYpyFFdQ",
        "outputId": "d45f8be6-1bca-4a0a-cd5e-e0a3b8d1ea3c"
      },
      "source": [
        "## 데이터 확인\n",
        "data.head()"
      ],
      "execution_count": 61,
      "outputs": [
        {
          "output_type": "execute_result",
          "data": {
            "text/html": [
              "<div>\n",
              "<style scoped>\n",
              "    .dataframe tbody tr th:only-of-type {\n",
              "        vertical-align: middle;\n",
              "    }\n",
              "\n",
              "    .dataframe tbody tr th {\n",
              "        vertical-align: top;\n",
              "    }\n",
              "\n",
              "    .dataframe thead th {\n",
              "        text-align: right;\n",
              "    }\n",
              "</style>\n",
              "<table border=\"1\" class=\"dataframe\">\n",
              "  <thead>\n",
              "    <tr style=\"text-align: right;\">\n",
              "      <th></th>\n",
              "      <th>hotel</th>\n",
              "      <th>is_canceled</th>\n",
              "      <th>lead_time</th>\n",
              "      <th>arrival_date_year</th>\n",
              "      <th>arrival_date_month</th>\n",
              "      <th>arrival_date_week_number</th>\n",
              "      <th>arrival_date_day_of_month</th>\n",
              "      <th>stays_in_weekend_nights</th>\n",
              "      <th>stays_in_week_nights</th>\n",
              "      <th>adults</th>\n",
              "      <th>children</th>\n",
              "      <th>babies</th>\n",
              "      <th>meal</th>\n",
              "      <th>country</th>\n",
              "      <th>market_segment</th>\n",
              "      <th>distribution_channel</th>\n",
              "      <th>is_repeated_guest</th>\n",
              "      <th>previous_cancellations</th>\n",
              "      <th>previous_bookings_not_canceled</th>\n",
              "      <th>reserved_room_type</th>\n",
              "      <th>assigned_room_type</th>\n",
              "      <th>booking_changes</th>\n",
              "      <th>deposit_type</th>\n",
              "      <th>agent</th>\n",
              "      <th>company</th>\n",
              "      <th>days_in_waiting_list</th>\n",
              "      <th>customer_type</th>\n",
              "      <th>adr</th>\n",
              "      <th>required_car_parking_spaces</th>\n",
              "      <th>total_of_special_requests</th>\n",
              "      <th>reservation_status</th>\n",
              "      <th>reservation_status_date</th>\n",
              "    </tr>\n",
              "  </thead>\n",
              "  <tbody>\n",
              "    <tr>\n",
              "      <th>0</th>\n",
              "      <td>Resort Hotel</td>\n",
              "      <td>0</td>\n",
              "      <td>342</td>\n",
              "      <td>2015</td>\n",
              "      <td>July</td>\n",
              "      <td>27</td>\n",
              "      <td>1</td>\n",
              "      <td>0</td>\n",
              "      <td>0</td>\n",
              "      <td>2</td>\n",
              "      <td>0.0</td>\n",
              "      <td>0</td>\n",
              "      <td>BB</td>\n",
              "      <td>PRT</td>\n",
              "      <td>Direct</td>\n",
              "      <td>Direct</td>\n",
              "      <td>0</td>\n",
              "      <td>0</td>\n",
              "      <td>0</td>\n",
              "      <td>C</td>\n",
              "      <td>C</td>\n",
              "      <td>3</td>\n",
              "      <td>No Deposit</td>\n",
              "      <td>NaN</td>\n",
              "      <td>NaN</td>\n",
              "      <td>0</td>\n",
              "      <td>Transient</td>\n",
              "      <td>0.0</td>\n",
              "      <td>0</td>\n",
              "      <td>0</td>\n",
              "      <td>Check-Out</td>\n",
              "      <td>2015-07-01</td>\n",
              "    </tr>\n",
              "    <tr>\n",
              "      <th>1</th>\n",
              "      <td>Resort Hotel</td>\n",
              "      <td>0</td>\n",
              "      <td>737</td>\n",
              "      <td>2015</td>\n",
              "      <td>July</td>\n",
              "      <td>27</td>\n",
              "      <td>1</td>\n",
              "      <td>0</td>\n",
              "      <td>0</td>\n",
              "      <td>2</td>\n",
              "      <td>0.0</td>\n",
              "      <td>0</td>\n",
              "      <td>BB</td>\n",
              "      <td>PRT</td>\n",
              "      <td>Direct</td>\n",
              "      <td>Direct</td>\n",
              "      <td>0</td>\n",
              "      <td>0</td>\n",
              "      <td>0</td>\n",
              "      <td>C</td>\n",
              "      <td>C</td>\n",
              "      <td>4</td>\n",
              "      <td>No Deposit</td>\n",
              "      <td>NaN</td>\n",
              "      <td>NaN</td>\n",
              "      <td>0</td>\n",
              "      <td>Transient</td>\n",
              "      <td>0.0</td>\n",
              "      <td>0</td>\n",
              "      <td>0</td>\n",
              "      <td>Check-Out</td>\n",
              "      <td>2015-07-01</td>\n",
              "    </tr>\n",
              "    <tr>\n",
              "      <th>2</th>\n",
              "      <td>Resort Hotel</td>\n",
              "      <td>0</td>\n",
              "      <td>7</td>\n",
              "      <td>2015</td>\n",
              "      <td>July</td>\n",
              "      <td>27</td>\n",
              "      <td>1</td>\n",
              "      <td>0</td>\n",
              "      <td>1</td>\n",
              "      <td>1</td>\n",
              "      <td>0.0</td>\n",
              "      <td>0</td>\n",
              "      <td>BB</td>\n",
              "      <td>GBR</td>\n",
              "      <td>Direct</td>\n",
              "      <td>Direct</td>\n",
              "      <td>0</td>\n",
              "      <td>0</td>\n",
              "      <td>0</td>\n",
              "      <td>A</td>\n",
              "      <td>C</td>\n",
              "      <td>0</td>\n",
              "      <td>No Deposit</td>\n",
              "      <td>NaN</td>\n",
              "      <td>NaN</td>\n",
              "      <td>0</td>\n",
              "      <td>Transient</td>\n",
              "      <td>75.0</td>\n",
              "      <td>0</td>\n",
              "      <td>0</td>\n",
              "      <td>Check-Out</td>\n",
              "      <td>2015-07-02</td>\n",
              "    </tr>\n",
              "    <tr>\n",
              "      <th>3</th>\n",
              "      <td>Resort Hotel</td>\n",
              "      <td>0</td>\n",
              "      <td>13</td>\n",
              "      <td>2015</td>\n",
              "      <td>July</td>\n",
              "      <td>27</td>\n",
              "      <td>1</td>\n",
              "      <td>0</td>\n",
              "      <td>1</td>\n",
              "      <td>1</td>\n",
              "      <td>0.0</td>\n",
              "      <td>0</td>\n",
              "      <td>BB</td>\n",
              "      <td>GBR</td>\n",
              "      <td>Corporate</td>\n",
              "      <td>Corporate</td>\n",
              "      <td>0</td>\n",
              "      <td>0</td>\n",
              "      <td>0</td>\n",
              "      <td>A</td>\n",
              "      <td>A</td>\n",
              "      <td>0</td>\n",
              "      <td>No Deposit</td>\n",
              "      <td>304.0</td>\n",
              "      <td>NaN</td>\n",
              "      <td>0</td>\n",
              "      <td>Transient</td>\n",
              "      <td>75.0</td>\n",
              "      <td>0</td>\n",
              "      <td>0</td>\n",
              "      <td>Check-Out</td>\n",
              "      <td>2015-07-02</td>\n",
              "    </tr>\n",
              "    <tr>\n",
              "      <th>4</th>\n",
              "      <td>Resort Hotel</td>\n",
              "      <td>0</td>\n",
              "      <td>14</td>\n",
              "      <td>2015</td>\n",
              "      <td>July</td>\n",
              "      <td>27</td>\n",
              "      <td>1</td>\n",
              "      <td>0</td>\n",
              "      <td>2</td>\n",
              "      <td>2</td>\n",
              "      <td>0.0</td>\n",
              "      <td>0</td>\n",
              "      <td>BB</td>\n",
              "      <td>GBR</td>\n",
              "      <td>Online TA</td>\n",
              "      <td>TA/TO</td>\n",
              "      <td>0</td>\n",
              "      <td>0</td>\n",
              "      <td>0</td>\n",
              "      <td>A</td>\n",
              "      <td>A</td>\n",
              "      <td>0</td>\n",
              "      <td>No Deposit</td>\n",
              "      <td>240.0</td>\n",
              "      <td>NaN</td>\n",
              "      <td>0</td>\n",
              "      <td>Transient</td>\n",
              "      <td>98.0</td>\n",
              "      <td>0</td>\n",
              "      <td>1</td>\n",
              "      <td>Check-Out</td>\n",
              "      <td>2015-07-03</td>\n",
              "    </tr>\n",
              "  </tbody>\n",
              "</table>\n",
              "</div>"
            ],
            "text/plain": [
              "          hotel  is_canceled  lead_time  arrival_date_year arrival_date_month  \\\n",
              "0  Resort Hotel            0        342               2015               July   \n",
              "1  Resort Hotel            0        737               2015               July   \n",
              "2  Resort Hotel            0          7               2015               July   \n",
              "3  Resort Hotel            0         13               2015               July   \n",
              "4  Resort Hotel            0         14               2015               July   \n",
              "\n",
              "   arrival_date_week_number  arrival_date_day_of_month  \\\n",
              "0                        27                          1   \n",
              "1                        27                          1   \n",
              "2                        27                          1   \n",
              "3                        27                          1   \n",
              "4                        27                          1   \n",
              "\n",
              "   stays_in_weekend_nights  stays_in_week_nights  adults  children  babies  \\\n",
              "0                        0                     0       2       0.0       0   \n",
              "1                        0                     0       2       0.0       0   \n",
              "2                        0                     1       1       0.0       0   \n",
              "3                        0                     1       1       0.0       0   \n",
              "4                        0                     2       2       0.0       0   \n",
              "\n",
              "  meal country market_segment distribution_channel  is_repeated_guest  \\\n",
              "0   BB     PRT         Direct               Direct                  0   \n",
              "1   BB     PRT         Direct               Direct                  0   \n",
              "2   BB     GBR         Direct               Direct                  0   \n",
              "3   BB     GBR      Corporate            Corporate                  0   \n",
              "4   BB     GBR      Online TA                TA/TO                  0   \n",
              "\n",
              "   previous_cancellations  previous_bookings_not_canceled reserved_room_type  \\\n",
              "0                       0                               0                  C   \n",
              "1                       0                               0                  C   \n",
              "2                       0                               0                  A   \n",
              "3                       0                               0                  A   \n",
              "4                       0                               0                  A   \n",
              "\n",
              "  assigned_room_type  booking_changes deposit_type  agent  company  \\\n",
              "0                  C                3   No Deposit    NaN      NaN   \n",
              "1                  C                4   No Deposit    NaN      NaN   \n",
              "2                  C                0   No Deposit    NaN      NaN   \n",
              "3                  A                0   No Deposit  304.0      NaN   \n",
              "4                  A                0   No Deposit  240.0      NaN   \n",
              "\n",
              "   days_in_waiting_list customer_type   adr  required_car_parking_spaces  \\\n",
              "0                     0     Transient   0.0                            0   \n",
              "1                     0     Transient   0.0                            0   \n",
              "2                     0     Transient  75.0                            0   \n",
              "3                     0     Transient  75.0                            0   \n",
              "4                     0     Transient  98.0                            0   \n",
              "\n",
              "   total_of_special_requests reservation_status reservation_status_date  \n",
              "0                          0          Check-Out              2015-07-01  \n",
              "1                          0          Check-Out              2015-07-01  \n",
              "2                          0          Check-Out              2015-07-02  \n",
              "3                          0          Check-Out              2015-07-02  \n",
              "4                          1          Check-Out              2015-07-03  "
            ]
          },
          "metadata": {},
          "execution_count": 61
        }
      ]
    },
    {
      "cell_type": "markdown",
      "source": [
        "<br/>\n",
        "</br>\n",
        "\n",
        "\n",
        "--------------\n",
        "## Data Pre-Processing"
      ],
      "metadata": {
        "id": "Kd6mbfXt59J_"
      }
    },
    {
      "cell_type": "code",
      "metadata": {
        "id": "AitOq-f5FH_G"
      },
      "source": [
        "## 전처리를 위한 데이터 복사\n",
        "df = data.copy()"
      ],
      "execution_count": 62,
      "outputs": []
    },
    {
      "cell_type": "code",
      "metadata": {
        "colab": {
          "base_uri": "https://localhost:8080/"
        },
        "id": "Mi-48wDxGhR5",
        "outputId": "87602cf7-1df8-49aa-9bfc-d334050b2dc1"
      },
      "source": [
        "## column의 null 수 확인\n",
        "df.isnull().sum().sort_values(ascending=False)[:10]"
      ],
      "execution_count": 63,
      "outputs": [
        {
          "output_type": "execute_result",
          "data": {
            "text/plain": [
              "company                     112593\n",
              "agent                        16340\n",
              "country                        488\n",
              "children                         4\n",
              "lead_time                        0\n",
              "arrival_date_year                0\n",
              "arrival_date_month               0\n",
              "arrival_date_week_number         0\n",
              "is_canceled                      0\n",
              "market_segment                   0\n",
              "dtype: int64"
            ]
          },
          "metadata": {},
          "execution_count": 63
        }
      ]
    },
    {
      "cell_type": "markdown",
      "source": [
        "<br/>\n",
        "</br>\n",
        "\n",
        "##### 위 결과를 토대로 company, agent , country, children  column 에 결측치 처리가 필요"
      ],
      "metadata": {
        "id": "TD04hLf6Bd7B"
      }
    },
    {
      "cell_type": "code",
      "source": [
        "## agent, company column의 값이 null 이면 0으로 대체한다.\n",
        "df[['agent','company']] = df[['agent','company']].fillna(0.0)\n",
        "\n",
        "## country column의 값이 null 이면 가장 많이 나온 값으로 대체한다.\n",
        "df['country'].fillna(data.country.mode().to_string(), inplace=True)"
      ],
      "metadata": {
        "id": "h8DSkoyRAIa8"
      },
      "execution_count": 64,
      "outputs": []
    },
    {
      "cell_type": "code",
      "metadata": {
        "id": "DiqnSUf7GlSj"
      },
      "source": [
        "## children column 값이 null 이면 0으로 대체한다.\n",
        "df['children']=df['children'].fillna(0.0)\n",
        "\n",
        "## adult, baby , child 합이 0인 row를 drop한다.\n",
        "df = df.drop(df[(df.adults+df.babies+df.children)==0].index)"
      ],
      "execution_count": 65,
      "outputs": []
    },
    {
      "cell_type": "code",
      "metadata": {
        "id": "bDqBsOdqGnQg"
      },
      "source": [
        "## datatype을 int로 바꾼다\n",
        "df[['children', 'company', 'agent']] = df[['children', 'company', 'agent']].astype('int64')"
      ],
      "execution_count": 66,
      "outputs": []
    },
    {
      "cell_type": "markdown",
      "metadata": {
        "id": "776MSkMLI0uA"
      },
      "source": [
        "<br/>\n",
        "</br>\n",
        "\n",
        "##### 숙박 일수에 대한 전처리 필요\n",
        "+ 총 숙박 일수 1박 미만, 무료로 호텔을 이용한 경우 : 이상치로 판단"
      ]
    },
    {
      "cell_type": "code",
      "metadata": {
        "id": "E4tdShdCGu8r"
      },
      "source": [
        "## 총 숙박 일수가 1박 미만인 row를 제거한다.\n",
        "\n",
        "## 총 숙박 일수 feature\n",
        "df['total_staying_nights'] = df['stays_in_week_nights'] + df['stays_in_weekend_nights']\n",
        "\n",
        "df = df[ df['total_staying_nights'] >= 1 ]\n",
        "df = df.reset_index(drop=True)"
      ],
      "execution_count": 67,
      "outputs": []
    },
    {
      "cell_type": "code",
      "metadata": {
        "id": "BY9RwYbUIMTF"
      },
      "source": [
        "## 값을 내고 호텔을 이용한 경우만 data로 사용한다.\n",
        "df = df[ df['adr'] > 0 ].copy()"
      ],
      "execution_count": 68,
      "outputs": []
    },
    {
      "cell_type": "markdown",
      "source": [
        "<br/>\n",
        "</br>\n",
        "\n",
        "### feature 생성"
      ],
      "metadata": {
        "id": "44QH1R75Dp_G"
      }
    },
    {
      "cell_type": "code",
      "metadata": {
        "id": "EfaQ5wquJ9K-"
      },
      "source": [
        "## 새로운 feature를 위해 데이터 복사\n",
        "df_subset = df.copy()"
      ],
      "execution_count": 72,
      "outputs": []
    },
    {
      "cell_type": "code",
      "metadata": {
        "id": "6fwLgSdqKCQU"
      },
      "source": [
        "## reservation_status column은 y값으로 쓸 is_canceled와 같은 값이니 제거\n",
        "df_subset = df_subset.drop(['reservation_status'], axis=1)\n",
        "\n",
        "## Room column 새로 추가.\n",
        "## 예약된 방과 같으면 1, 아니면 0\n",
        "df_subset['Room'] = 0\n",
        "df_subset.loc[ df_subset['reserved_room_type'] == df_subset['assigned_room_type'] , 'Room'] = 1\n",
        "\n",
        "## more canceled column 새로 추가.\n",
        "## 예약 취소 비율이 높은 경우 1 , 아니면 0\n",
        "df_subset['more_canceled'] = 0\n",
        "df_subset.loc[ df_subset['previous_cancellations'] > df_subset['previous_bookings_not_canceled'] , 'not_canceled'] = 1\n",
        "\n",
        "## reservation_status_date column 문자열 값을 year/month/date 값으로 분리\n",
        "df_subset['reservation_status_date'] = pd.to_datetime(df_subset['reservation_status_date'])\n",
        "\n",
        "df_subset['reservation_year'] = df_subset['reservation_status_date'].dt.year\n",
        "df_subset['reservation_month'] = df_subset['reservation_status_date'].dt.month\n",
        "df_subset['reservation_day'] = df_subset['reservation_status_date'].dt.day\n",
        "\n",
        "## 남겨진 column 제거\n",
        "df_subset = df_subset.drop(['booking_changes','assigned_room_type','reservation_status_date','distribution_channel'],axis=1)"
      ],
      "execution_count": 73,
      "outputs": []
    },
    {
      "cell_type": "markdown",
      "source": [
        "<br/>\n",
        "</br>\n",
        "\n",
        "### Categorical variables을 숫자값으로 encoding"
      ],
      "metadata": {
        "id": "iG3di4HaIxJO"
      }
    },
    {
      "cell_type": "code",
      "metadata": {
        "id": "MHoanjPKJo3B"
      },
      "source": [
        "def transform(dataframe):\n",
        "\n",
        "    ## LabelEncoder import\n",
        "    from sklearn.preprocessing import LabelEncoder\n",
        "    \n",
        "    le = LabelEncoder()\n",
        "    ## 모든 categorical var 지정.\n",
        "    categorical_features = list(dataframe.columns[dataframe.dtypes == object])\n",
        "    ## encoding 실행\n",
        "    dataframe[categorical_features]=dataframe[categorical_features].apply(lambda x: le.fit_transform(x))\n",
        "    return dataframe\n",
        "\n",
        "\n",
        "## 모든 categorical var을 숫자형으로 바꾼다.\n",
        "df_subset = transform(df_subset)"
      ],
      "execution_count": 74,
      "outputs": []
    },
    {
      "cell_type": "markdown",
      "source": [
        "<br/>\n",
        "</br>\n",
        "\n",
        "### 정규화"
      ],
      "metadata": {
        "id": "PEeWJ8s0Krwe"
      }
    },
    {
      "cell_type": "code",
      "metadata": {
        "colab": {
          "base_uri": "https://localhost:8080/"
        },
        "id": "wkyk1MtLQBvX",
        "outputId": "6706bb9e-7c36-4d5c-bd81-2a3660c229d6"
      },
      "source": [
        "##column의 분산값 확인\n",
        "df_subset.var()"
      ],
      "execution_count": 75,
      "outputs": [
        {
          "output_type": "execute_result",
          "data": {
            "text/plain": [
              "hotel                                 0.222716\n",
              "is_canceled                           0.234348\n",
              "lead_time                         11430.508914\n",
              "arrival_date_year                     0.499289\n",
              "arrival_date_month                   12.499659\n",
              "arrival_date_week_number            184.281629\n",
              "arrival_date_day_of_month            77.148962\n",
              "stays_in_weekend_nights               0.989183\n",
              "stays_in_week_nights                  3.572044\n",
              "adults                                0.231569\n",
              "children                              0.159791\n",
              "babies                                0.009444\n",
              "meal                                  1.138017\n",
              "country                            2024.776043\n",
              "market_segment                        1.520872\n",
              "is_repeated_guest                     0.027086\n",
              "previous_cancellations                0.720456\n",
              "previous_bookings_not_canceled        2.091370\n",
              "reserved_room_type                    2.864232\n",
              "deposit_type                          0.113640\n",
              "agent                             11500.539910\n",
              "company                            2867.861112\n",
              "days_in_waiting_list                312.559275\n",
              "customer_type                         0.334185\n",
              "adr                                2419.944474\n",
              "required_car_parking_spaces           0.060287\n",
              "total_of_special_requests             0.626689\n",
              "total_staying_nights                  6.397173\n",
              "Room                                  0.105550\n",
              "more_canceled                         0.000000\n",
              "not_canceled                          0.000000\n",
              "reservation_year                      0.511000\n",
              "reservation_month                    11.173453\n",
              "reservation_day                      77.101242\n",
              "dtype: float64"
            ]
          },
          "metadata": {},
          "execution_count": 75
        }
      ]
    },
    {
      "cell_type": "markdown",
      "source": [
        "<br/>\n",
        "</br>\n",
        "\n",
        "##### 위 분산 값을 토대로 정규화 할 column 선정"
      ],
      "metadata": {
        "id": "RXXJGAzlMHB5"
      }
    },
    {
      "cell_type": "code",
      "metadata": {
        "id": "0zbh4sgKegYI"
      },
      "source": [
        "df_subset['lead_time']=np.log(df_subset['lead_time']+1)\n",
        "df_subset['agent'] = np.log(df_subset['agent'] + 1)\n",
        "df_subset['company'] = np.log(df_subset['company'] + 1)\n",
        "df_subset['adr'] = np.log(df_subset['adr'] + 1)\n",
        "df_subset['country'] = np.log(df_subset['country'] + 1)\n",
        "df_subset['days_in_waiting_list'] = np.log(df_subset['days_in_waiting_list'] + 1)\n",
        "df_subset['reservation_month'] = np.log(df_subset['reservation_month'] + 1)\n",
        "df_subset['reservation_day'] = np.log(df_subset['reservation_day'] + 1)\n",
        "df_subset['arrival_date_week_number'] = np.log(df_subset['arrival_date_week_number'] + 1)\n",
        "df_subset['arrival_date_day_of_month'] = np.log(df_subset['arrival_date_day_of_month'] + 1)\n",
        "df_subset['arrival_date_month'] = np.log(df_subset['arrival_date_month'] + 1)\n",
        "\n",
        "df_subset = df_subset.drop([])"
      ],
      "execution_count": 76,
      "outputs": []
    },
    {
      "cell_type": "code",
      "metadata": {
        "colab": {
          "base_uri": "https://localhost:8080/"
        },
        "id": "a-h5O-u_fOpS",
        "outputId": "d375b3a9-b854-4750-f5d2-d14de0e90bcb"
      },
      "source": [
        "## 다시 확인\n",
        "df_subset.var()"
      ],
      "execution_count": 77,
      "outputs": [
        {
          "output_type": "execute_result",
          "data": {
            "text/plain": [
              "hotel                             0.222716\n",
              "is_canceled                       0.234348\n",
              "lead_time                         2.520964\n",
              "arrival_date_year                 0.499289\n",
              "arrival_date_month                0.575158\n",
              "arrival_date_week_number          0.439545\n",
              "arrival_date_day_of_month         0.506808\n",
              "stays_in_weekend_nights           0.989183\n",
              "stays_in_week_nights              3.572044\n",
              "adults                            0.231569\n",
              "children                          0.159791\n",
              "babies                            0.009444\n",
              "meal                              1.138017\n",
              "country                           0.465148\n",
              "market_segment                    1.520872\n",
              "is_repeated_guest                 0.027086\n",
              "previous_cancellations            0.720456\n",
              "previous_bookings_not_canceled    2.091370\n",
              "reserved_room_type                2.864232\n",
              "deposit_type                      0.113640\n",
              "agent                             3.496853\n",
              "company                           1.311311\n",
              "days_in_waiting_list              0.507638\n",
              "customer_type                     0.334185\n",
              "adr                               0.208900\n",
              "required_car_parking_spaces       0.060287\n",
              "total_of_special_requests         0.626689\n",
              "total_staying_nights              6.397173\n",
              "Room                              0.105550\n",
              "more_canceled                     0.000000\n",
              "not_canceled                      0.000000\n",
              "reservation_year                  0.511000\n",
              "reservation_month                 0.308480\n",
              "reservation_day                   0.524647\n",
              "dtype: float64"
            ]
          },
          "metadata": {},
          "execution_count": 77
        }
      ]
    },
    {
      "cell_type": "markdown",
      "source": [
        "<br/>\n",
        "</br>\n",
        "\n",
        "\n",
        "--------------\n",
        "## Modeling"
      ],
      "metadata": {
        "id": "UkBm6OOXGvJe"
      }
    },
    {
      "cell_type": "markdown",
      "source": [
        "<br/>\n",
        "</br>\n",
        "\n",
        "### data split"
      ],
      "metadata": {
        "id": "_ohs-HGOOTNQ"
      }
    },
    {
      "cell_type": "code",
      "metadata": {
        "id": "kZItMnKWJ1kV"
      },
      "source": [
        "def data_split(df, label):\n",
        "    \n",
        "    from sklearn.model_selection import train_test_split\n",
        "\n",
        "    X = df.drop(label, axis=1)\n",
        "    Y = df[label]\n",
        "\n",
        "    x_train, x_test, y_train, y_test = train_test_split(X,Y,test_size = 0.30)\n",
        "    \n",
        "    return x_train, x_test, y_train, y_test\n",
        "\n",
        "\n",
        "## train, test 로 데이터 split\n",
        "## y 값에 is_canceled\n",
        "x_train, x_test, y_train, y_test = data_split(df_subset, 'is_canceled')\n",
        "\n",
        "from sklearn.impute import SimpleImputer\n",
        "\n",
        "## default, imputing 'mean' value\n",
        "imputer = SimpleImputer() \n",
        "x_train = imputer.fit_transform(x_train)\n",
        "x_test = imputer.transform(x_test)"
      ],
      "execution_count": 78,
      "outputs": []
    },
    {
      "cell_type": "markdown",
      "source": [
        "<br/>\n",
        "</br>\n",
        "\n",
        "### data train\n",
        "+ decision tree\n",
        "+ XGBoost\n",
        "+ Gradient Boosting\n",
        "+ AdaBoost\n",
        "+ RandomForest\n",
        "+ LogisticRegression\n",
        "+ CatBoost\n"
      ],
      "metadata": {
        "id": "k-OCBZn-OXWW"
      }
    },
    {
      "cell_type": "code",
      "metadata": {
        "id": "BM0Nf_O8J4Yr",
        "colab": {
          "base_uri": "https://localhost:8080/"
        },
        "outputId": "4d548739-34b2-4fbb-ed8c-5a82021d4385"
      },
      "source": [
        "def train(x_train, y_train):\n",
        "    from sklearn.tree import DecisionTreeClassifier\n",
        "    from xgboost import XGBClassifier\n",
        "    from sklearn.ensemble import GradientBoostingClassifier \n",
        "    from sklearn.ensemble import AdaBoostClassifier\n",
        "    from sklearn.linear_model import LogisticRegression\n",
        "    from sklearn.ensemble import RandomForestClassifier\n",
        "    from catboost import CatBoostClassifier\n",
        "\n",
        "    ## decision tree\n",
        "    clf = DecisionTreeClassifier(random_state=0)\n",
        "    clf.fit(x_train,y_train)\n",
        "\n",
        "\n",
        "    ## XGBoost\n",
        "    xgb = XGBClassifier(booster = 'gbtree', learning_rate = 0.1, max_depth = 5, n_estimators = 500)\n",
        "    xgb.fit(x_train, y_train)\n",
        "\n",
        "    \n",
        "    ## Gradient Boosting\n",
        "    gb = GradientBoostingClassifier()\n",
        "    gb.fit(x_train, y_train)\n",
        "\n",
        "    ## AdaBoost\n",
        "    ada = AdaBoostClassifier(base_estimator = clf)\n",
        "    ada.fit(x_train, y_train)\n",
        "\n",
        "    ## RandomForest\n",
        "    rd_clf = RandomForestClassifier(n_estimators=300)\n",
        "    rd_clf.fit(x_train, y_train)    \n",
        "\n",
        "    ## LogisticRegression\n",
        "    lr = LogisticRegression()\n",
        "    lr.fit(x_train, y_train)\n",
        "\n",
        "    ## CatBoost\n",
        "    cat = CatBoostClassifier(iterations=300)\n",
        "    cat.fit(x_train, y_train)\n",
        "\n",
        "    return clf, xgb,gb,ada,rd_clf,lr,cat\n",
        "\n",
        "\n",
        "clf,xgb,gb,ada,rd_clf,lr,cat = train(x_train, y_train)"
      ],
      "execution_count": 80,
      "outputs": [
        {
          "output_type": "stream",
          "name": "stderr",
          "text": [
            "/usr/local/lib/python3.7/dist-packages/sklearn/linear_model/_logistic.py:818: ConvergenceWarning: lbfgs failed to converge (status=1):\n",
            "STOP: TOTAL NO. of ITERATIONS REACHED LIMIT.\n",
            "\n",
            "Increase the number of iterations (max_iter) or scale the data as shown in:\n",
            "    https://scikit-learn.org/stable/modules/preprocessing.html\n",
            "Please also refer to the documentation for alternative solver options:\n",
            "    https://scikit-learn.org/stable/modules/linear_model.html#logistic-regression\n",
            "  extra_warning_msg=_LOGISTIC_SOLVER_CONVERGENCE_MSG,\n"
          ]
        },
        {
          "output_type": "stream",
          "name": "stdout",
          "text": [
            "Learning rate set to 0.204182\n",
            "0:\tlearn: 0.5515612\ttotal: 75.2ms\tremaining: 22.5s\n",
            "1:\tlearn: 0.4712509\ttotal: 101ms\tremaining: 15s\n",
            "2:\tlearn: 0.4276959\ttotal: 126ms\tremaining: 12.5s\n",
            "3:\tlearn: 0.3993722\ttotal: 152ms\tremaining: 11.3s\n",
            "4:\tlearn: 0.3769305\ttotal: 178ms\tremaining: 10.5s\n",
            "5:\tlearn: 0.3619921\ttotal: 208ms\tremaining: 10.2s\n",
            "6:\tlearn: 0.3524867\ttotal: 230ms\tremaining: 9.64s\n",
            "7:\tlearn: 0.3445527\ttotal: 253ms\tremaining: 9.22s\n",
            "8:\tlearn: 0.3278082\ttotal: 277ms\tremaining: 8.96s\n",
            "9:\tlearn: 0.3209302\ttotal: 301ms\tremaining: 8.72s\n",
            "10:\tlearn: 0.3058282\ttotal: 327ms\tremaining: 8.59s\n",
            "11:\tlearn: 0.2913617\ttotal: 361ms\tremaining: 8.67s\n",
            "12:\tlearn: 0.2793358\ttotal: 387ms\tremaining: 8.54s\n",
            "13:\tlearn: 0.2532385\ttotal: 414ms\tremaining: 8.45s\n",
            "14:\tlearn: 0.2454399\ttotal: 435ms\tremaining: 8.26s\n",
            "15:\tlearn: 0.2190568\ttotal: 458ms\tremaining: 8.13s\n",
            "16:\tlearn: 0.2045435\ttotal: 481ms\tremaining: 8.01s\n",
            "17:\tlearn: 0.1966656\ttotal: 503ms\tremaining: 7.88s\n",
            "18:\tlearn: 0.1867800\ttotal: 528ms\tremaining: 7.81s\n",
            "19:\tlearn: 0.1754065\ttotal: 553ms\tremaining: 7.74s\n",
            "20:\tlearn: 0.1737540\ttotal: 576ms\tremaining: 7.65s\n",
            "21:\tlearn: 0.1635642\ttotal: 600ms\tremaining: 7.58s\n",
            "22:\tlearn: 0.1567593\ttotal: 634ms\tremaining: 7.63s\n",
            "23:\tlearn: 0.1541329\ttotal: 658ms\tremaining: 7.56s\n",
            "24:\tlearn: 0.1515771\ttotal: 681ms\tremaining: 7.49s\n",
            "25:\tlearn: 0.1439927\ttotal: 705ms\tremaining: 7.43s\n",
            "26:\tlearn: 0.1376039\ttotal: 732ms\tremaining: 7.4s\n",
            "27:\tlearn: 0.1334008\ttotal: 758ms\tremaining: 7.37s\n",
            "28:\tlearn: 0.1277730\ttotal: 784ms\tremaining: 7.33s\n",
            "29:\tlearn: 0.1237469\ttotal: 814ms\tremaining: 7.33s\n",
            "30:\tlearn: 0.1229241\ttotal: 843ms\tremaining: 7.31s\n",
            "31:\tlearn: 0.1194299\ttotal: 868ms\tremaining: 7.27s\n",
            "32:\tlearn: 0.1156762\ttotal: 890ms\tremaining: 7.2s\n",
            "33:\tlearn: 0.1137033\ttotal: 913ms\tremaining: 7.14s\n",
            "34:\tlearn: 0.1122994\ttotal: 936ms\tremaining: 7.08s\n",
            "35:\tlearn: 0.1093376\ttotal: 960ms\tremaining: 7.04s\n",
            "36:\tlearn: 0.1081603\ttotal: 981ms\tremaining: 6.97s\n",
            "37:\tlearn: 0.1077218\ttotal: 1s\tremaining: 6.93s\n",
            "38:\tlearn: 0.1058247\ttotal: 1.03s\tremaining: 6.87s\n",
            "39:\tlearn: 0.1041871\ttotal: 1.05s\tremaining: 6.84s\n",
            "40:\tlearn: 0.1022017\ttotal: 1.08s\tremaining: 6.8s\n",
            "41:\tlearn: 0.1015205\ttotal: 1.1s\tremaining: 6.76s\n",
            "42:\tlearn: 0.0996761\ttotal: 1.12s\tremaining: 6.7s\n",
            "43:\tlearn: 0.0971572\ttotal: 1.15s\tremaining: 6.67s\n",
            "44:\tlearn: 0.0936349\ttotal: 1.18s\tremaining: 6.67s\n",
            "45:\tlearn: 0.0916233\ttotal: 1.2s\tremaining: 6.65s\n",
            "46:\tlearn: 0.0904230\ttotal: 1.23s\tremaining: 6.6s\n",
            "47:\tlearn: 0.0878163\ttotal: 1.25s\tremaining: 6.57s\n",
            "48:\tlearn: 0.0868650\ttotal: 1.28s\tremaining: 6.55s\n",
            "49:\tlearn: 0.0845587\ttotal: 1.3s\tremaining: 6.51s\n",
            "50:\tlearn: 0.0805258\ttotal: 1.33s\tremaining: 6.48s\n",
            "51:\tlearn: 0.0797893\ttotal: 1.36s\tremaining: 6.5s\n",
            "52:\tlearn: 0.0785797\ttotal: 1.39s\tremaining: 6.46s\n",
            "53:\tlearn: 0.0783198\ttotal: 1.41s\tremaining: 6.41s\n",
            "54:\tlearn: 0.0768103\ttotal: 1.43s\tremaining: 6.38s\n",
            "55:\tlearn: 0.0740757\ttotal: 1.46s\tremaining: 6.36s\n",
            "56:\tlearn: 0.0725516\ttotal: 1.49s\tremaining: 6.33s\n",
            "57:\tlearn: 0.0720307\ttotal: 1.51s\tremaining: 6.29s\n",
            "58:\tlearn: 0.0710635\ttotal: 1.53s\tremaining: 6.25s\n",
            "59:\tlearn: 0.0708055\ttotal: 1.55s\tremaining: 6.21s\n",
            "60:\tlearn: 0.0687003\ttotal: 1.58s\tremaining: 6.18s\n",
            "61:\tlearn: 0.0673488\ttotal: 1.6s\tremaining: 6.14s\n",
            "62:\tlearn: 0.0659702\ttotal: 1.62s\tremaining: 6.1s\n",
            "63:\tlearn: 0.0657147\ttotal: 1.65s\tremaining: 6.07s\n",
            "64:\tlearn: 0.0643940\ttotal: 1.67s\tremaining: 6.05s\n",
            "65:\tlearn: 0.0636295\ttotal: 1.7s\tremaining: 6.03s\n",
            "66:\tlearn: 0.0623247\ttotal: 1.73s\tremaining: 6.01s\n",
            "67:\tlearn: 0.0620225\ttotal: 1.75s\tremaining: 5.98s\n",
            "68:\tlearn: 0.0617283\ttotal: 1.77s\tremaining: 5.94s\n",
            "69:\tlearn: 0.0614407\ttotal: 1.8s\tremaining: 5.91s\n",
            "70:\tlearn: 0.0603725\ttotal: 1.82s\tremaining: 5.89s\n",
            "71:\tlearn: 0.0593996\ttotal: 1.85s\tremaining: 5.86s\n",
            "72:\tlearn: 0.0582856\ttotal: 1.87s\tremaining: 5.82s\n",
            "73:\tlearn: 0.0571497\ttotal: 1.9s\tremaining: 5.79s\n",
            "74:\tlearn: 0.0562584\ttotal: 1.93s\tremaining: 5.78s\n",
            "75:\tlearn: 0.0553495\ttotal: 1.95s\tremaining: 5.74s\n",
            "76:\tlearn: 0.0542089\ttotal: 1.97s\tremaining: 5.72s\n",
            "77:\tlearn: 0.0531538\ttotal: 2s\tremaining: 5.68s\n",
            "78:\tlearn: 0.0519705\ttotal: 2.02s\tremaining: 5.66s\n",
            "79:\tlearn: 0.0517296\ttotal: 2.04s\tremaining: 5.62s\n",
            "80:\tlearn: 0.0515509\ttotal: 2.06s\tremaining: 5.58s\n",
            "81:\tlearn: 0.0507656\ttotal: 2.09s\tremaining: 5.55s\n",
            "82:\tlearn: 0.0503029\ttotal: 2.11s\tremaining: 5.52s\n",
            "83:\tlearn: 0.0489173\ttotal: 2.14s\tremaining: 5.5s\n",
            "84:\tlearn: 0.0483092\ttotal: 2.16s\tremaining: 5.47s\n",
            "85:\tlearn: 0.0472915\ttotal: 2.18s\tremaining: 5.44s\n",
            "86:\tlearn: 0.0467580\ttotal: 2.2s\tremaining: 5.4s\n",
            "87:\tlearn: 0.0464130\ttotal: 2.23s\tremaining: 5.36s\n",
            "88:\tlearn: 0.0464024\ttotal: 2.25s\tremaining: 5.34s\n",
            "89:\tlearn: 0.0454191\ttotal: 2.28s\tremaining: 5.32s\n",
            "90:\tlearn: 0.0451265\ttotal: 2.3s\tremaining: 5.29s\n",
            "91:\tlearn: 0.0449471\ttotal: 2.32s\tremaining: 5.25s\n",
            "92:\tlearn: 0.0447884\ttotal: 2.35s\tremaining: 5.24s\n",
            "93:\tlearn: 0.0443264\ttotal: 2.38s\tremaining: 5.22s\n",
            "94:\tlearn: 0.0437085\ttotal: 2.41s\tremaining: 5.19s\n",
            "95:\tlearn: 0.0431172\ttotal: 2.43s\tremaining: 5.17s\n",
            "96:\tlearn: 0.0429080\ttotal: 2.45s\tremaining: 5.13s\n",
            "97:\tlearn: 0.0428967\ttotal: 2.47s\tremaining: 5.1s\n",
            "98:\tlearn: 0.0421333\ttotal: 2.5s\tremaining: 5.07s\n",
            "99:\tlearn: 0.0418714\ttotal: 2.52s\tremaining: 5.04s\n",
            "100:\tlearn: 0.0413055\ttotal: 2.54s\tremaining: 5.01s\n",
            "101:\tlearn: 0.0411464\ttotal: 2.57s\tremaining: 4.99s\n",
            "102:\tlearn: 0.0409852\ttotal: 2.6s\tremaining: 4.97s\n",
            "103:\tlearn: 0.0406369\ttotal: 2.62s\tremaining: 4.93s\n",
            "104:\tlearn: 0.0405096\ttotal: 2.64s\tremaining: 4.91s\n",
            "105:\tlearn: 0.0399420\ttotal: 2.66s\tremaining: 4.87s\n",
            "106:\tlearn: 0.0392157\ttotal: 2.69s\tremaining: 4.85s\n",
            "107:\tlearn: 0.0391506\ttotal: 2.71s\tremaining: 4.82s\n",
            "108:\tlearn: 0.0386297\ttotal: 2.74s\tremaining: 4.79s\n",
            "109:\tlearn: 0.0384882\ttotal: 2.76s\tremaining: 4.77s\n",
            "110:\tlearn: 0.0384882\ttotal: 2.78s\tremaining: 4.73s\n",
            "111:\tlearn: 0.0381610\ttotal: 2.81s\tremaining: 4.71s\n",
            "112:\tlearn: 0.0380490\ttotal: 2.83s\tremaining: 4.68s\n",
            "113:\tlearn: 0.0377541\ttotal: 2.86s\tremaining: 4.66s\n",
            "114:\tlearn: 0.0372686\ttotal: 2.88s\tremaining: 4.64s\n",
            "115:\tlearn: 0.0364919\ttotal: 2.92s\tremaining: 4.63s\n",
            "116:\tlearn: 0.0363555\ttotal: 2.94s\tremaining: 4.6s\n",
            "117:\tlearn: 0.0356564\ttotal: 2.97s\tremaining: 4.58s\n",
            "118:\tlearn: 0.0349997\ttotal: 3s\tremaining: 4.56s\n",
            "119:\tlearn: 0.0344123\ttotal: 3.02s\tremaining: 4.53s\n",
            "120:\tlearn: 0.0343048\ttotal: 3.04s\tremaining: 4.5s\n",
            "121:\tlearn: 0.0339263\ttotal: 3.07s\tremaining: 4.48s\n",
            "122:\tlearn: 0.0336052\ttotal: 3.09s\tremaining: 4.45s\n",
            "123:\tlearn: 0.0328972\ttotal: 3.12s\tremaining: 4.42s\n",
            "124:\tlearn: 0.0321237\ttotal: 3.14s\tremaining: 4.4s\n",
            "125:\tlearn: 0.0317744\ttotal: 3.17s\tremaining: 4.37s\n",
            "126:\tlearn: 0.0313263\ttotal: 3.19s\tremaining: 4.35s\n",
            "127:\tlearn: 0.0304576\ttotal: 3.22s\tremaining: 4.33s\n",
            "128:\tlearn: 0.0302344\ttotal: 3.24s\tremaining: 4.3s\n",
            "129:\tlearn: 0.0297585\ttotal: 3.27s\tremaining: 4.27s\n",
            "130:\tlearn: 0.0296135\ttotal: 3.29s\tremaining: 4.25s\n",
            "131:\tlearn: 0.0294860\ttotal: 3.31s\tremaining: 4.22s\n",
            "132:\tlearn: 0.0292748\ttotal: 3.34s\tremaining: 4.19s\n",
            "133:\tlearn: 0.0286791\ttotal: 3.36s\tremaining: 4.17s\n",
            "134:\tlearn: 0.0281688\ttotal: 3.39s\tremaining: 4.15s\n",
            "135:\tlearn: 0.0275974\ttotal: 3.42s\tremaining: 4.12s\n",
            "136:\tlearn: 0.0272325\ttotal: 3.44s\tremaining: 4.1s\n",
            "137:\tlearn: 0.0267274\ttotal: 3.47s\tremaining: 4.07s\n",
            "138:\tlearn: 0.0262102\ttotal: 3.49s\tremaining: 4.04s\n",
            "139:\tlearn: 0.0257590\ttotal: 3.52s\tremaining: 4.02s\n",
            "140:\tlearn: 0.0255906\ttotal: 3.54s\tremaining: 3.99s\n",
            "141:\tlearn: 0.0251134\ttotal: 3.56s\tremaining: 3.96s\n",
            "142:\tlearn: 0.0247050\ttotal: 3.58s\tremaining: 3.93s\n",
            "143:\tlearn: 0.0245159\ttotal: 3.61s\tremaining: 3.91s\n",
            "144:\tlearn: 0.0244544\ttotal: 3.63s\tremaining: 3.88s\n",
            "145:\tlearn: 0.0240470\ttotal: 3.66s\tremaining: 3.86s\n",
            "146:\tlearn: 0.0238208\ttotal: 3.68s\tremaining: 3.83s\n",
            "147:\tlearn: 0.0235995\ttotal: 3.71s\tremaining: 3.81s\n",
            "148:\tlearn: 0.0235651\ttotal: 3.73s\tremaining: 3.78s\n",
            "149:\tlearn: 0.0234105\ttotal: 3.75s\tremaining: 3.75s\n",
            "150:\tlearn: 0.0233085\ttotal: 3.78s\tremaining: 3.73s\n",
            "151:\tlearn: 0.0231102\ttotal: 3.8s\tremaining: 3.7s\n",
            "152:\tlearn: 0.0230400\ttotal: 3.82s\tremaining: 3.67s\n",
            "153:\tlearn: 0.0229704\ttotal: 3.85s\tremaining: 3.65s\n",
            "154:\tlearn: 0.0225444\ttotal: 3.87s\tremaining: 3.62s\n",
            "155:\tlearn: 0.0224601\ttotal: 3.9s\tremaining: 3.6s\n",
            "156:\tlearn: 0.0222006\ttotal: 3.92s\tremaining: 3.57s\n",
            "157:\tlearn: 0.0219783\ttotal: 3.94s\tremaining: 3.54s\n",
            "158:\tlearn: 0.0216006\ttotal: 3.97s\tremaining: 3.52s\n",
            "159:\tlearn: 0.0213501\ttotal: 3.99s\tremaining: 3.5s\n",
            "160:\tlearn: 0.0207648\ttotal: 4.02s\tremaining: 3.47s\n",
            "161:\tlearn: 0.0206964\ttotal: 4.04s\tremaining: 3.44s\n",
            "162:\tlearn: 0.0205705\ttotal: 4.07s\tremaining: 3.42s\n",
            "163:\tlearn: 0.0201863\ttotal: 4.09s\tremaining: 3.4s\n",
            "164:\tlearn: 0.0198258\ttotal: 4.12s\tremaining: 3.37s\n",
            "165:\tlearn: 0.0196061\ttotal: 4.15s\tremaining: 3.35s\n",
            "166:\tlearn: 0.0191395\ttotal: 4.17s\tremaining: 3.32s\n",
            "167:\tlearn: 0.0190405\ttotal: 4.2s\tremaining: 3.3s\n",
            "168:\tlearn: 0.0189075\ttotal: 4.22s\tremaining: 3.27s\n",
            "169:\tlearn: 0.0187530\ttotal: 4.24s\tremaining: 3.24s\n",
            "170:\tlearn: 0.0186795\ttotal: 4.26s\tremaining: 3.21s\n",
            "171:\tlearn: 0.0183586\ttotal: 4.28s\tremaining: 3.19s\n",
            "172:\tlearn: 0.0180249\ttotal: 4.31s\tremaining: 3.17s\n",
            "173:\tlearn: 0.0177853\ttotal: 4.33s\tremaining: 3.14s\n",
            "174:\tlearn: 0.0174919\ttotal: 4.36s\tremaining: 3.11s\n",
            "175:\tlearn: 0.0173887\ttotal: 4.39s\tremaining: 3.1s\n",
            "176:\tlearn: 0.0172215\ttotal: 4.42s\tremaining: 3.07s\n",
            "177:\tlearn: 0.0171111\ttotal: 4.44s\tremaining: 3.04s\n",
            "178:\tlearn: 0.0168052\ttotal: 4.46s\tremaining: 3.02s\n",
            "179:\tlearn: 0.0167132\ttotal: 4.48s\tremaining: 2.99s\n",
            "180:\tlearn: 0.0164086\ttotal: 4.51s\tremaining: 2.96s\n",
            "181:\tlearn: 0.0161854\ttotal: 4.54s\tremaining: 2.94s\n",
            "182:\tlearn: 0.0161097\ttotal: 4.56s\tremaining: 2.92s\n",
            "183:\tlearn: 0.0158855\ttotal: 4.59s\tremaining: 2.89s\n",
            "184:\tlearn: 0.0158169\ttotal: 4.61s\tremaining: 2.87s\n",
            "185:\tlearn: 0.0156618\ttotal: 4.63s\tremaining: 2.84s\n",
            "186:\tlearn: 0.0153354\ttotal: 4.66s\tremaining: 2.82s\n",
            "187:\tlearn: 0.0152384\ttotal: 4.68s\tremaining: 2.79s\n",
            "188:\tlearn: 0.0151216\ttotal: 4.71s\tremaining: 2.77s\n",
            "189:\tlearn: 0.0151095\ttotal: 4.73s\tremaining: 2.74s\n",
            "190:\tlearn: 0.0149369\ttotal: 4.76s\tremaining: 2.71s\n",
            "191:\tlearn: 0.0148798\ttotal: 4.78s\tremaining: 2.69s\n",
            "192:\tlearn: 0.0146517\ttotal: 4.81s\tremaining: 2.66s\n",
            "193:\tlearn: 0.0146336\ttotal: 4.83s\tremaining: 2.64s\n",
            "194:\tlearn: 0.0143913\ttotal: 4.85s\tremaining: 2.61s\n",
            "195:\tlearn: 0.0143681\ttotal: 4.87s\tremaining: 2.59s\n",
            "196:\tlearn: 0.0141391\ttotal: 4.9s\tremaining: 2.56s\n",
            "197:\tlearn: 0.0139924\ttotal: 4.92s\tremaining: 2.54s\n",
            "198:\tlearn: 0.0136006\ttotal: 4.95s\tremaining: 2.51s\n",
            "199:\tlearn: 0.0136005\ttotal: 4.97s\tremaining: 2.48s\n",
            "200:\tlearn: 0.0135402\ttotal: 4.99s\tremaining: 2.46s\n",
            "201:\tlearn: 0.0133710\ttotal: 5.02s\tremaining: 2.44s\n",
            "202:\tlearn: 0.0131511\ttotal: 5.05s\tremaining: 2.41s\n",
            "203:\tlearn: 0.0131242\ttotal: 5.07s\tremaining: 2.38s\n",
            "204:\tlearn: 0.0129728\ttotal: 5.09s\tremaining: 2.36s\n",
            "205:\tlearn: 0.0127698\ttotal: 5.11s\tremaining: 2.33s\n",
            "206:\tlearn: 0.0125863\ttotal: 5.14s\tremaining: 2.31s\n",
            "207:\tlearn: 0.0124339\ttotal: 5.16s\tremaining: 2.28s\n",
            "208:\tlearn: 0.0124006\ttotal: 5.19s\tremaining: 2.26s\n",
            "209:\tlearn: 0.0123700\ttotal: 5.21s\tremaining: 2.23s\n",
            "210:\tlearn: 0.0122911\ttotal: 5.23s\tremaining: 2.21s\n",
            "211:\tlearn: 0.0121273\ttotal: 5.25s\tremaining: 2.18s\n",
            "212:\tlearn: 0.0120075\ttotal: 5.28s\tremaining: 2.15s\n",
            "213:\tlearn: 0.0119859\ttotal: 5.3s\tremaining: 2.13s\n",
            "214:\tlearn: 0.0118378\ttotal: 5.32s\tremaining: 2.1s\n",
            "215:\tlearn: 0.0115608\ttotal: 5.34s\tremaining: 2.08s\n",
            "216:\tlearn: 0.0113873\ttotal: 5.37s\tremaining: 2.05s\n",
            "217:\tlearn: 0.0112394\ttotal: 5.41s\tremaining: 2.03s\n",
            "218:\tlearn: 0.0111986\ttotal: 5.43s\tremaining: 2.01s\n",
            "219:\tlearn: 0.0110264\ttotal: 5.45s\tremaining: 1.98s\n",
            "220:\tlearn: 0.0110168\ttotal: 5.47s\tremaining: 1.96s\n",
            "221:\tlearn: 0.0109171\ttotal: 5.5s\tremaining: 1.93s\n",
            "222:\tlearn: 0.0108747\ttotal: 5.52s\tremaining: 1.91s\n",
            "223:\tlearn: 0.0107290\ttotal: 5.54s\tremaining: 1.88s\n",
            "224:\tlearn: 0.0107091\ttotal: 5.56s\tremaining: 1.85s\n",
            "225:\tlearn: 0.0106780\ttotal: 5.58s\tremaining: 1.83s\n",
            "226:\tlearn: 0.0106462\ttotal: 5.61s\tremaining: 1.8s\n",
            "227:\tlearn: 0.0104995\ttotal: 5.63s\tremaining: 1.78s\n",
            "228:\tlearn: 0.0104139\ttotal: 5.66s\tremaining: 1.75s\n",
            "229:\tlearn: 0.0103748\ttotal: 5.68s\tremaining: 1.73s\n",
            "230:\tlearn: 0.0103747\ttotal: 5.7s\tremaining: 1.7s\n",
            "231:\tlearn: 0.0103416\ttotal: 5.72s\tremaining: 1.68s\n",
            "232:\tlearn: 0.0103068\ttotal: 5.74s\tremaining: 1.65s\n",
            "233:\tlearn: 0.0100990\ttotal: 5.76s\tremaining: 1.63s\n",
            "234:\tlearn: 0.0099837\ttotal: 5.79s\tremaining: 1.6s\n",
            "235:\tlearn: 0.0098596\ttotal: 5.81s\tremaining: 1.58s\n",
            "236:\tlearn: 0.0097282\ttotal: 5.85s\tremaining: 1.55s\n",
            "237:\tlearn: 0.0095781\ttotal: 5.88s\tremaining: 1.53s\n",
            "238:\tlearn: 0.0095703\ttotal: 5.9s\tremaining: 1.5s\n",
            "239:\tlearn: 0.0094202\ttotal: 5.93s\tremaining: 1.48s\n",
            "240:\tlearn: 0.0093705\ttotal: 5.95s\tremaining: 1.46s\n",
            "241:\tlearn: 0.0093668\ttotal: 5.97s\tremaining: 1.43s\n",
            "242:\tlearn: 0.0092562\ttotal: 5.99s\tremaining: 1.41s\n",
            "243:\tlearn: 0.0091227\ttotal: 6.02s\tremaining: 1.38s\n",
            "244:\tlearn: 0.0090050\ttotal: 6.04s\tremaining: 1.36s\n",
            "245:\tlearn: 0.0089875\ttotal: 6.07s\tremaining: 1.33s\n",
            "246:\tlearn: 0.0088630\ttotal: 6.09s\tremaining: 1.31s\n",
            "247:\tlearn: 0.0087533\ttotal: 6.12s\tremaining: 1.28s\n",
            "248:\tlearn: 0.0087347\ttotal: 6.14s\tremaining: 1.26s\n",
            "249:\tlearn: 0.0086073\ttotal: 6.17s\tremaining: 1.23s\n",
            "250:\tlearn: 0.0084685\ttotal: 6.2s\tremaining: 1.21s\n",
            "251:\tlearn: 0.0083997\ttotal: 6.22s\tremaining: 1.18s\n",
            "252:\tlearn: 0.0082927\ttotal: 6.24s\tremaining: 1.16s\n",
            "253:\tlearn: 0.0082381\ttotal: 6.26s\tremaining: 1.13s\n",
            "254:\tlearn: 0.0081530\ttotal: 6.29s\tremaining: 1.11s\n",
            "255:\tlearn: 0.0081064\ttotal: 6.31s\tremaining: 1.08s\n",
            "256:\tlearn: 0.0080993\ttotal: 6.34s\tremaining: 1.06s\n",
            "257:\tlearn: 0.0080993\ttotal: 6.35s\tremaining: 1.03s\n",
            "258:\tlearn: 0.0080993\ttotal: 6.37s\tremaining: 1.01s\n",
            "259:\tlearn: 0.0080993\ttotal: 6.38s\tremaining: 982ms\n",
            "260:\tlearn: 0.0080341\ttotal: 6.42s\tremaining: 959ms\n",
            "261:\tlearn: 0.0080341\ttotal: 6.43s\tremaining: 933ms\n",
            "262:\tlearn: 0.0080340\ttotal: 6.45s\tremaining: 907ms\n",
            "263:\tlearn: 0.0080340\ttotal: 6.47s\tremaining: 882ms\n",
            "264:\tlearn: 0.0080017\ttotal: 6.49s\tremaining: 857ms\n",
            "265:\tlearn: 0.0079928\ttotal: 6.51s\tremaining: 832ms\n",
            "266:\tlearn: 0.0079622\ttotal: 6.53s\tremaining: 807ms\n",
            "267:\tlearn: 0.0079359\ttotal: 6.56s\tremaining: 783ms\n",
            "268:\tlearn: 0.0078632\ttotal: 6.58s\tremaining: 759ms\n",
            "269:\tlearn: 0.0078450\ttotal: 6.61s\tremaining: 734ms\n",
            "270:\tlearn: 0.0076938\ttotal: 6.63s\tremaining: 710ms\n",
            "271:\tlearn: 0.0075685\ttotal: 6.66s\tremaining: 685ms\n",
            "272:\tlearn: 0.0074668\ttotal: 6.68s\tremaining: 661ms\n",
            "273:\tlearn: 0.0073975\ttotal: 6.7s\tremaining: 636ms\n",
            "274:\tlearn: 0.0073851\ttotal: 6.73s\tremaining: 612ms\n",
            "275:\tlearn: 0.0073623\ttotal: 6.75s\tremaining: 587ms\n",
            "276:\tlearn: 0.0072613\ttotal: 6.78s\tremaining: 563ms\n",
            "277:\tlearn: 0.0072257\ttotal: 6.8s\tremaining: 538ms\n",
            "278:\tlearn: 0.0071438\ttotal: 6.83s\tremaining: 514ms\n",
            "279:\tlearn: 0.0071031\ttotal: 6.85s\tremaining: 489ms\n",
            "280:\tlearn: 0.0070829\ttotal: 6.87s\tremaining: 465ms\n",
            "281:\tlearn: 0.0070748\ttotal: 6.89s\tremaining: 440ms\n",
            "282:\tlearn: 0.0069904\ttotal: 6.93s\tremaining: 416ms\n",
            "283:\tlearn: 0.0069126\ttotal: 6.95s\tremaining: 392ms\n",
            "284:\tlearn: 0.0069126\ttotal: 6.97s\tremaining: 367ms\n",
            "285:\tlearn: 0.0068856\ttotal: 6.99s\tremaining: 342ms\n",
            "286:\tlearn: 0.0068552\ttotal: 7.01s\tremaining: 318ms\n",
            "287:\tlearn: 0.0068021\ttotal: 7.04s\tremaining: 293ms\n",
            "288:\tlearn: 0.0067225\ttotal: 7.07s\tremaining: 269ms\n",
            "289:\tlearn: 0.0067096\ttotal: 7.09s\tremaining: 244ms\n",
            "290:\tlearn: 0.0066383\ttotal: 7.12s\tremaining: 220ms\n",
            "291:\tlearn: 0.0066383\ttotal: 7.14s\tremaining: 196ms\n",
            "292:\tlearn: 0.0066382\ttotal: 7.16s\tremaining: 171ms\n",
            "293:\tlearn: 0.0066231\ttotal: 7.18s\tremaining: 146ms\n",
            "294:\tlearn: 0.0065696\ttotal: 7.21s\tremaining: 122ms\n",
            "295:\tlearn: 0.0065696\ttotal: 7.22s\tremaining: 97.6ms\n",
            "296:\tlearn: 0.0065696\ttotal: 7.24s\tremaining: 73.1ms\n",
            "297:\tlearn: 0.0065696\ttotal: 7.26s\tremaining: 48.7ms\n",
            "298:\tlearn: 0.0065696\ttotal: 7.28s\tremaining: 24.3ms\n",
            "299:\tlearn: 0.0065456\ttotal: 7.3s\tremaining: 0us\n"
          ]
        }
      ]
    },
    {
      "cell_type": "markdown",
      "source": [
        "<br/>\n",
        "</br>\n",
        "\n",
        "### 정확도 확인"
      ],
      "metadata": {
        "id": "0n4Pc9hKOssw"
      }
    },
    {
      "cell_type": "code",
      "metadata": {
        "colab": {
          "base_uri": "https://localhost:8080/"
        },
        "id": "6P8Ruqz5MNen",
        "outputId": "196110d3-23f7-4322-c973-1ab65a023126"
      },
      "source": [
        "def Score(clf,x_train,y_train,x_test,y_test):\n",
        "    train_score = clf.score(x_train,y_train)\n",
        "    test_score = clf.score(x_test,y_test)\n",
        "\n",
        "    print(\"========================================\")\n",
        "    print(f'Training Accuracy of our model is: {train_score}')\n",
        "    print(f'Test Accuracy of our model is: {test_score}')\n",
        "    print(\"========================================\")\n",
        "    \n",
        "    \n",
        "Score(clf,x_train,y_train,x_test,y_test)"
      ],
      "execution_count": 81,
      "outputs": [
        {
          "output_type": "stream",
          "name": "stdout",
          "text": [
            "========================================\n",
            "Training Accuracy of our model is: 1.0\n",
            "Test Accuracy of our model is: 0.9453719477569563\n",
            "========================================\n"
          ]
        }
      ]
    },
    {
      "cell_type": "markdown",
      "source": [
        "<br/>\n",
        "</br>\n",
        "\n",
        "##### 모델 별 비교"
      ],
      "metadata": {
        "id": "KZNuvcuvPbAE"
      }
    },
    {
      "cell_type": "code",
      "metadata": {
        "id": "2oMfyL58YVcF",
        "colab": {
          "base_uri": "https://localhost:8080/",
          "height": 268
        },
        "outputId": "5ea5f775-5680-41c8-fc2b-a67b7a6181a5"
      },
      "source": [
        "models = pd.DataFrame({\n",
        "    'Model' : ['Decision Tree Classifier', 'Random Forest Classifier', \n",
        "               'XgBoost',  'Cat Boost', 'Gradient Boosting Classifier','Ada Boost Classifier', 'Linear regression'],\n",
        "\n",
        "    'Score' : [clf.score(x_test,y_test),rd_clf.score(x_test,y_test), xgb.score(x_test,y_test), cat.score(x_test,y_test) , gb.score(x_test,y_test) , ada.score(x_test,y_test) , lr.score(x_test,y_test)]\n",
        "})\n",
        "\n",
        "models.sort_values(by = 'Score', ascending = False)"
      ],
      "execution_count": 82,
      "outputs": [
        {
          "output_type": "execute_result",
          "data": {
            "text/html": [
              "<div>\n",
              "<style scoped>\n",
              "    .dataframe tbody tr th:only-of-type {\n",
              "        vertical-align: middle;\n",
              "    }\n",
              "\n",
              "    .dataframe tbody tr th {\n",
              "        vertical-align: top;\n",
              "    }\n",
              "\n",
              "    .dataframe thead th {\n",
              "        text-align: right;\n",
              "    }\n",
              "</style>\n",
              "<table border=\"1\" class=\"dataframe\">\n",
              "  <thead>\n",
              "    <tr style=\"text-align: right;\">\n",
              "      <th></th>\n",
              "      <th>Model</th>\n",
              "      <th>Score</th>\n",
              "    </tr>\n",
              "  </thead>\n",
              "  <tbody>\n",
              "    <tr>\n",
              "      <th>3</th>\n",
              "      <td>Cat Boost</td>\n",
              "      <td>0.998751</td>\n",
              "    </tr>\n",
              "    <tr>\n",
              "      <th>2</th>\n",
              "      <td>XgBoost</td>\n",
              "      <td>0.998694</td>\n",
              "    </tr>\n",
              "    <tr>\n",
              "      <th>1</th>\n",
              "      <td>Random Forest Classifier</td>\n",
              "      <td>0.957297</td>\n",
              "    </tr>\n",
              "    <tr>\n",
              "      <th>0</th>\n",
              "      <td>Decision Tree Classifier</td>\n",
              "      <td>0.945372</td>\n",
              "    </tr>\n",
              "    <tr>\n",
              "      <th>5</th>\n",
              "      <td>Ada Boost Classifier</td>\n",
              "      <td>0.945173</td>\n",
              "    </tr>\n",
              "    <tr>\n",
              "      <th>4</th>\n",
              "      <td>Gradient Boosting Classifier</td>\n",
              "      <td>0.924446</td>\n",
              "    </tr>\n",
              "    <tr>\n",
              "      <th>6</th>\n",
              "      <td>Linear regression</td>\n",
              "      <td>0.789523</td>\n",
              "    </tr>\n",
              "  </tbody>\n",
              "</table>\n",
              "</div>"
            ],
            "text/plain": [
              "                          Model     Score\n",
              "3                     Cat Boost  0.998751\n",
              "2                       XgBoost  0.998694\n",
              "1      Random Forest Classifier  0.957297\n",
              "0      Decision Tree Classifier  0.945372\n",
              "5          Ada Boost Classifier  0.945173\n",
              "4  Gradient Boosting Classifier  0.924446\n",
              "6             Linear regression  0.789523"
            ]
          },
          "metadata": {},
          "execution_count": 82
        }
      ]
    }
  ]
}