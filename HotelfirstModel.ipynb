{
  "nbformat": 4,
  "nbformat_minor": 0,
  "metadata": {
    "colab": {
      "name": "HotelfirstModel.ipynb의 사본",
      "provenance": [],
      "collapsed_sections": []
    },
    "kernelspec": {
      "name": "python3",
      "display_name": "Python 3"
    },
    "language_info": {
      "name": "python"
    },
    "accelerator": "GPU"
  },
  "cells": [
    {
      "cell_type": "markdown",
      "source": [
        "hotel booking demand\n",
        "====================\n",
        "#### https://www.kaggle.com/jessemostipak/hotel-booking-demand   \n",
        "   \n",
        "+ Find a problem\n",
        "+ Analyze previous approaches\n",
        "+ Modeling your methodolody\n",
        "+ Analyzing data\n",
        "+ Visualization\n",
        "+ Collaborative Evaluation  \n",
        "<br/>\n",
        "\n",
        "\n",
        "\n",
        "</br>\n",
        "\n",
        "-----------------"
      ],
      "metadata": {
        "id": "-oILkbbQ7UCn"
      }
    },
    {
      "cell_type": "code",
      "metadata": {
        "colab": {
          "base_uri": "https://localhost:8080/"
        },
        "id": "765otamzE4zL",
        "outputId": "11a89e51-cc21-4462-b289-2c8332d85204"
      },
      "source": [
        "!pip install pycountry\n",
        "!pip install catboost\n",
        "!pip install xgboost\n",
        "!pip install eli5\n",
        "!pip install pdpbox\n",
        "!pip install category_encoders"
      ],
      "execution_count": 133,
      "outputs": [
        {
          "output_type": "stream",
          "name": "stdout",
          "text": [
            "Requirement already satisfied: pycountry in /usr/local/lib/python3.7/dist-packages (20.7.3)\n",
            "Requirement already satisfied: catboost in /usr/local/lib/python3.7/dist-packages (1.0.3)\n",
            "Requirement already satisfied: matplotlib in /usr/local/lib/python3.7/dist-packages (from catboost) (3.1.1)\n",
            "Requirement already satisfied: pandas>=0.24.0 in /usr/local/lib/python3.7/dist-packages (from catboost) (1.1.5)\n",
            "Requirement already satisfied: scipy in /usr/local/lib/python3.7/dist-packages (from catboost) (1.4.1)\n",
            "Requirement already satisfied: plotly in /usr/local/lib/python3.7/dist-packages (from catboost) (4.4.1)\n",
            "Requirement already satisfied: graphviz in /usr/local/lib/python3.7/dist-packages (from catboost) (0.10.1)\n",
            "Requirement already satisfied: numpy>=1.16.0 in /usr/local/lib/python3.7/dist-packages (from catboost) (1.19.5)\n",
            "Requirement already satisfied: six in /usr/local/lib/python3.7/dist-packages (from catboost) (1.15.0)\n",
            "Requirement already satisfied: python-dateutil>=2.7.3 in /usr/local/lib/python3.7/dist-packages (from pandas>=0.24.0->catboost) (2.8.2)\n",
            "Requirement already satisfied: pytz>=2017.2 in /usr/local/lib/python3.7/dist-packages (from pandas>=0.24.0->catboost) (2018.9)\n",
            "Requirement already satisfied: cycler>=0.10 in /usr/local/lib/python3.7/dist-packages (from matplotlib->catboost) (0.11.0)\n",
            "Requirement already satisfied: pyparsing!=2.0.4,!=2.1.2,!=2.1.6,>=2.0.1 in /usr/local/lib/python3.7/dist-packages (from matplotlib->catboost) (3.0.6)\n",
            "Requirement already satisfied: kiwisolver>=1.0.1 in /usr/local/lib/python3.7/dist-packages (from matplotlib->catboost) (1.3.2)\n",
            "Requirement already satisfied: retrying>=1.3.3 in /usr/local/lib/python3.7/dist-packages (from plotly->catboost) (1.3.3)\n",
            "Requirement already satisfied: xgboost in /usr/local/lib/python3.7/dist-packages (0.90)\n",
            "Requirement already satisfied: scipy in /usr/local/lib/python3.7/dist-packages (from xgboost) (1.4.1)\n",
            "Requirement already satisfied: numpy in /usr/local/lib/python3.7/dist-packages (from xgboost) (1.19.5)\n",
            "Requirement already satisfied: eli5 in /usr/local/lib/python3.7/dist-packages (0.11.0)\n",
            "Requirement already satisfied: attrs>16.0.0 in /usr/local/lib/python3.7/dist-packages (from eli5) (21.2.0)\n",
            "Requirement already satisfied: numpy>=1.9.0 in /usr/local/lib/python3.7/dist-packages (from eli5) (1.19.5)\n",
            "Requirement already satisfied: jinja2 in /usr/local/lib/python3.7/dist-packages (from eli5) (2.11.3)\n",
            "Requirement already satisfied: scikit-learn>=0.20 in /usr/local/lib/python3.7/dist-packages (from eli5) (1.0.1)\n",
            "Requirement already satisfied: graphviz in /usr/local/lib/python3.7/dist-packages (from eli5) (0.10.1)\n",
            "Requirement already satisfied: tabulate>=0.7.7 in /usr/local/lib/python3.7/dist-packages (from eli5) (0.8.9)\n",
            "Requirement already satisfied: scipy in /usr/local/lib/python3.7/dist-packages (from eli5) (1.4.1)\n",
            "Requirement already satisfied: six in /usr/local/lib/python3.7/dist-packages (from eli5) (1.15.0)\n",
            "Requirement already satisfied: threadpoolctl>=2.0.0 in /usr/local/lib/python3.7/dist-packages (from scikit-learn>=0.20->eli5) (3.0.0)\n",
            "Requirement already satisfied: joblib>=0.11 in /usr/local/lib/python3.7/dist-packages (from scikit-learn>=0.20->eli5) (1.1.0)\n",
            "Requirement already satisfied: MarkupSafe>=0.23 in /usr/local/lib/python3.7/dist-packages (from jinja2->eli5) (2.0.1)\n",
            "Requirement already satisfied: pdpbox in /usr/local/lib/python3.7/dist-packages (0.2.1)\n",
            "Requirement already satisfied: psutil in /usr/local/lib/python3.7/dist-packages (from pdpbox) (5.4.8)\n",
            "Requirement already satisfied: sklearn in /usr/local/lib/python3.7/dist-packages (from pdpbox) (0.0)\n",
            "Requirement already satisfied: joblib in /usr/local/lib/python3.7/dist-packages (from pdpbox) (1.1.0)\n",
            "Requirement already satisfied: scipy in /usr/local/lib/python3.7/dist-packages (from pdpbox) (1.4.1)\n",
            "Requirement already satisfied: matplotlib==3.1.1 in /usr/local/lib/python3.7/dist-packages (from pdpbox) (3.1.1)\n",
            "Requirement already satisfied: numpy in /usr/local/lib/python3.7/dist-packages (from pdpbox) (1.19.5)\n",
            "Requirement already satisfied: pandas in /usr/local/lib/python3.7/dist-packages (from pdpbox) (1.1.5)\n",
            "Requirement already satisfied: python-dateutil>=2.1 in /usr/local/lib/python3.7/dist-packages (from matplotlib==3.1.1->pdpbox) (2.8.2)\n",
            "Requirement already satisfied: pyparsing!=2.0.4,!=2.1.2,!=2.1.6,>=2.0.1 in /usr/local/lib/python3.7/dist-packages (from matplotlib==3.1.1->pdpbox) (3.0.6)\n",
            "Requirement already satisfied: cycler>=0.10 in /usr/local/lib/python3.7/dist-packages (from matplotlib==3.1.1->pdpbox) (0.11.0)\n",
            "Requirement already satisfied: kiwisolver>=1.0.1 in /usr/local/lib/python3.7/dist-packages (from matplotlib==3.1.1->pdpbox) (1.3.2)\n",
            "Requirement already satisfied: six>=1.5 in /usr/local/lib/python3.7/dist-packages (from python-dateutil>=2.1->matplotlib==3.1.1->pdpbox) (1.15.0)\n",
            "Requirement already satisfied: pytz>=2017.2 in /usr/local/lib/python3.7/dist-packages (from pandas->pdpbox) (2018.9)\n",
            "Requirement already satisfied: scikit-learn in /usr/local/lib/python3.7/dist-packages (from sklearn->pdpbox) (1.0.1)\n",
            "Requirement already satisfied: threadpoolctl>=2.0.0 in /usr/local/lib/python3.7/dist-packages (from scikit-learn->sklearn->pdpbox) (3.0.0)\n",
            "Requirement already satisfied: category_encoders in /usr/local/lib/python3.7/dist-packages (2.3.0)\n",
            "Requirement already satisfied: patsy>=0.5.1 in /usr/local/lib/python3.7/dist-packages (from category_encoders) (0.5.2)\n",
            "Requirement already satisfied: pandas>=0.21.1 in /usr/local/lib/python3.7/dist-packages (from category_encoders) (1.1.5)\n",
            "Requirement already satisfied: numpy>=1.14.0 in /usr/local/lib/python3.7/dist-packages (from category_encoders) (1.19.5)\n",
            "Requirement already satisfied: scipy>=1.0.0 in /usr/local/lib/python3.7/dist-packages (from category_encoders) (1.4.1)\n",
            "Requirement already satisfied: statsmodels>=0.9.0 in /usr/local/lib/python3.7/dist-packages (from category_encoders) (0.10.2)\n",
            "Requirement already satisfied: scikit-learn>=0.20.0 in /usr/local/lib/python3.7/dist-packages (from category_encoders) (1.0.1)\n",
            "Requirement already satisfied: python-dateutil>=2.7.3 in /usr/local/lib/python3.7/dist-packages (from pandas>=0.21.1->category_encoders) (2.8.2)\n",
            "Requirement already satisfied: pytz>=2017.2 in /usr/local/lib/python3.7/dist-packages (from pandas>=0.21.1->category_encoders) (2018.9)\n",
            "Requirement already satisfied: six in /usr/local/lib/python3.7/dist-packages (from patsy>=0.5.1->category_encoders) (1.15.0)\n",
            "Requirement already satisfied: threadpoolctl>=2.0.0 in /usr/local/lib/python3.7/dist-packages (from scikit-learn>=0.20.0->category_encoders) (3.0.0)\n",
            "Requirement already satisfied: joblib>=0.11 in /usr/local/lib/python3.7/dist-packages (from scikit-learn>=0.20.0->category_encoders) (1.1.0)\n"
          ]
        }
      ]
    },
    {
      "cell_type": "markdown",
      "source": [
        "-----------\n",
        "## 1. Packages Import\n"
      ],
      "metadata": {
        "id": "wySj_Kg355Py"
      }
    },
    {
      "cell_type": "code",
      "metadata": {
        "id": "4AkovLhoEUIR"
      },
      "source": [
        "import numpy as np\n",
        "import pandas as pd\n",
        "import matplotlib.pyplot as plt\n",
        "import seaborn as sns\n",
        "import pycountry as pc\n",
        "from sklearn.tree import DecisionTreeClassifier\n",
        "from xgboost import XGBClassifier\n",
        "from sklearn.ensemble import GradientBoostingClassifier \n",
        "from sklearn.ensemble import AdaBoostClassifier\n",
        "from sklearn.linear_model import LogisticRegression\n",
        "from sklearn.ensemble import RandomForestClassifier\n",
        "from catboost import CatBoostClassifier\n",
        "from sklearn.ensemble import ExtraTreesClassifier\n",
        "from lightgbm import LGBMClassifier\n",
        "from sklearn.ensemble import HistGradientBoostingClassifier\n",
        "from pdpbox import pdp\n",
        "pd.options.display.max_columns = None"
      ],
      "execution_count": 134,
      "outputs": []
    },
    {
      "cell_type": "code",
      "metadata": {
        "id": "dimSVdUtE-y2"
      },
      "source": [
        "## 데이터 불러오기\n",
        "data = pd.read_csv('./hotel_bookings.csv')"
      ],
      "execution_count": 135,
      "outputs": []
    },
    {
      "cell_type": "code",
      "metadata": {
        "colab": {
          "base_uri": "https://localhost:8080/",
          "height": 309
        },
        "id": "cjqccYpyFFdQ",
        "outputId": "7bc63019-0cd3-4a26-c408-609bf2799732"
      },
      "source": [
        "## 데이터 확인\n",
        "data.head()"
      ],
      "execution_count": 136,
      "outputs": [
        {
          "output_type": "execute_result",
          "data": {
            "text/html": [
              "<div>\n",
              "<style scoped>\n",
              "    .dataframe tbody tr th:only-of-type {\n",
              "        vertical-align: middle;\n",
              "    }\n",
              "\n",
              "    .dataframe tbody tr th {\n",
              "        vertical-align: top;\n",
              "    }\n",
              "\n",
              "    .dataframe thead th {\n",
              "        text-align: right;\n",
              "    }\n",
              "</style>\n",
              "<table border=\"1\" class=\"dataframe\">\n",
              "  <thead>\n",
              "    <tr style=\"text-align: right;\">\n",
              "      <th></th>\n",
              "      <th>hotel</th>\n",
              "      <th>is_canceled</th>\n",
              "      <th>lead_time</th>\n",
              "      <th>arrival_date_year</th>\n",
              "      <th>arrival_date_month</th>\n",
              "      <th>arrival_date_week_number</th>\n",
              "      <th>arrival_date_day_of_month</th>\n",
              "      <th>stays_in_weekend_nights</th>\n",
              "      <th>stays_in_week_nights</th>\n",
              "      <th>adults</th>\n",
              "      <th>children</th>\n",
              "      <th>babies</th>\n",
              "      <th>meal</th>\n",
              "      <th>country</th>\n",
              "      <th>market_segment</th>\n",
              "      <th>distribution_channel</th>\n",
              "      <th>is_repeated_guest</th>\n",
              "      <th>previous_cancellations</th>\n",
              "      <th>previous_bookings_not_canceled</th>\n",
              "      <th>reserved_room_type</th>\n",
              "      <th>assigned_room_type</th>\n",
              "      <th>booking_changes</th>\n",
              "      <th>deposit_type</th>\n",
              "      <th>agent</th>\n",
              "      <th>company</th>\n",
              "      <th>days_in_waiting_list</th>\n",
              "      <th>customer_type</th>\n",
              "      <th>adr</th>\n",
              "      <th>required_car_parking_spaces</th>\n",
              "      <th>total_of_special_requests</th>\n",
              "      <th>reservation_status</th>\n",
              "      <th>reservation_status_date</th>\n",
              "    </tr>\n",
              "  </thead>\n",
              "  <tbody>\n",
              "    <tr>\n",
              "      <th>0</th>\n",
              "      <td>Resort Hotel</td>\n",
              "      <td>0</td>\n",
              "      <td>342</td>\n",
              "      <td>2015</td>\n",
              "      <td>July</td>\n",
              "      <td>27</td>\n",
              "      <td>1</td>\n",
              "      <td>0</td>\n",
              "      <td>0</td>\n",
              "      <td>2</td>\n",
              "      <td>0.0</td>\n",
              "      <td>0</td>\n",
              "      <td>BB</td>\n",
              "      <td>PRT</td>\n",
              "      <td>Direct</td>\n",
              "      <td>Direct</td>\n",
              "      <td>0</td>\n",
              "      <td>0</td>\n",
              "      <td>0</td>\n",
              "      <td>C</td>\n",
              "      <td>C</td>\n",
              "      <td>3</td>\n",
              "      <td>No Deposit</td>\n",
              "      <td>NaN</td>\n",
              "      <td>NaN</td>\n",
              "      <td>0</td>\n",
              "      <td>Transient</td>\n",
              "      <td>0.0</td>\n",
              "      <td>0</td>\n",
              "      <td>0</td>\n",
              "      <td>Check-Out</td>\n",
              "      <td>2015-07-01</td>\n",
              "    </tr>\n",
              "    <tr>\n",
              "      <th>1</th>\n",
              "      <td>Resort Hotel</td>\n",
              "      <td>0</td>\n",
              "      <td>737</td>\n",
              "      <td>2015</td>\n",
              "      <td>July</td>\n",
              "      <td>27</td>\n",
              "      <td>1</td>\n",
              "      <td>0</td>\n",
              "      <td>0</td>\n",
              "      <td>2</td>\n",
              "      <td>0.0</td>\n",
              "      <td>0</td>\n",
              "      <td>BB</td>\n",
              "      <td>PRT</td>\n",
              "      <td>Direct</td>\n",
              "      <td>Direct</td>\n",
              "      <td>0</td>\n",
              "      <td>0</td>\n",
              "      <td>0</td>\n",
              "      <td>C</td>\n",
              "      <td>C</td>\n",
              "      <td>4</td>\n",
              "      <td>No Deposit</td>\n",
              "      <td>NaN</td>\n",
              "      <td>NaN</td>\n",
              "      <td>0</td>\n",
              "      <td>Transient</td>\n",
              "      <td>0.0</td>\n",
              "      <td>0</td>\n",
              "      <td>0</td>\n",
              "      <td>Check-Out</td>\n",
              "      <td>2015-07-01</td>\n",
              "    </tr>\n",
              "    <tr>\n",
              "      <th>2</th>\n",
              "      <td>Resort Hotel</td>\n",
              "      <td>0</td>\n",
              "      <td>7</td>\n",
              "      <td>2015</td>\n",
              "      <td>July</td>\n",
              "      <td>27</td>\n",
              "      <td>1</td>\n",
              "      <td>0</td>\n",
              "      <td>1</td>\n",
              "      <td>1</td>\n",
              "      <td>0.0</td>\n",
              "      <td>0</td>\n",
              "      <td>BB</td>\n",
              "      <td>GBR</td>\n",
              "      <td>Direct</td>\n",
              "      <td>Direct</td>\n",
              "      <td>0</td>\n",
              "      <td>0</td>\n",
              "      <td>0</td>\n",
              "      <td>A</td>\n",
              "      <td>C</td>\n",
              "      <td>0</td>\n",
              "      <td>No Deposit</td>\n",
              "      <td>NaN</td>\n",
              "      <td>NaN</td>\n",
              "      <td>0</td>\n",
              "      <td>Transient</td>\n",
              "      <td>75.0</td>\n",
              "      <td>0</td>\n",
              "      <td>0</td>\n",
              "      <td>Check-Out</td>\n",
              "      <td>2015-07-02</td>\n",
              "    </tr>\n",
              "    <tr>\n",
              "      <th>3</th>\n",
              "      <td>Resort Hotel</td>\n",
              "      <td>0</td>\n",
              "      <td>13</td>\n",
              "      <td>2015</td>\n",
              "      <td>July</td>\n",
              "      <td>27</td>\n",
              "      <td>1</td>\n",
              "      <td>0</td>\n",
              "      <td>1</td>\n",
              "      <td>1</td>\n",
              "      <td>0.0</td>\n",
              "      <td>0</td>\n",
              "      <td>BB</td>\n",
              "      <td>GBR</td>\n",
              "      <td>Corporate</td>\n",
              "      <td>Corporate</td>\n",
              "      <td>0</td>\n",
              "      <td>0</td>\n",
              "      <td>0</td>\n",
              "      <td>A</td>\n",
              "      <td>A</td>\n",
              "      <td>0</td>\n",
              "      <td>No Deposit</td>\n",
              "      <td>304.0</td>\n",
              "      <td>NaN</td>\n",
              "      <td>0</td>\n",
              "      <td>Transient</td>\n",
              "      <td>75.0</td>\n",
              "      <td>0</td>\n",
              "      <td>0</td>\n",
              "      <td>Check-Out</td>\n",
              "      <td>2015-07-02</td>\n",
              "    </tr>\n",
              "    <tr>\n",
              "      <th>4</th>\n",
              "      <td>Resort Hotel</td>\n",
              "      <td>0</td>\n",
              "      <td>14</td>\n",
              "      <td>2015</td>\n",
              "      <td>July</td>\n",
              "      <td>27</td>\n",
              "      <td>1</td>\n",
              "      <td>0</td>\n",
              "      <td>2</td>\n",
              "      <td>2</td>\n",
              "      <td>0.0</td>\n",
              "      <td>0</td>\n",
              "      <td>BB</td>\n",
              "      <td>GBR</td>\n",
              "      <td>Online TA</td>\n",
              "      <td>TA/TO</td>\n",
              "      <td>0</td>\n",
              "      <td>0</td>\n",
              "      <td>0</td>\n",
              "      <td>A</td>\n",
              "      <td>A</td>\n",
              "      <td>0</td>\n",
              "      <td>No Deposit</td>\n",
              "      <td>240.0</td>\n",
              "      <td>NaN</td>\n",
              "      <td>0</td>\n",
              "      <td>Transient</td>\n",
              "      <td>98.0</td>\n",
              "      <td>0</td>\n",
              "      <td>1</td>\n",
              "      <td>Check-Out</td>\n",
              "      <td>2015-07-03</td>\n",
              "    </tr>\n",
              "  </tbody>\n",
              "</table>\n",
              "</div>"
            ],
            "text/plain": [
              "          hotel  is_canceled  lead_time  arrival_date_year arrival_date_month  \\\n",
              "0  Resort Hotel            0        342               2015               July   \n",
              "1  Resort Hotel            0        737               2015               July   \n",
              "2  Resort Hotel            0          7               2015               July   \n",
              "3  Resort Hotel            0         13               2015               July   \n",
              "4  Resort Hotel            0         14               2015               July   \n",
              "\n",
              "   arrival_date_week_number  arrival_date_day_of_month  \\\n",
              "0                        27                          1   \n",
              "1                        27                          1   \n",
              "2                        27                          1   \n",
              "3                        27                          1   \n",
              "4                        27                          1   \n",
              "\n",
              "   stays_in_weekend_nights  stays_in_week_nights  adults  children  babies  \\\n",
              "0                        0                     0       2       0.0       0   \n",
              "1                        0                     0       2       0.0       0   \n",
              "2                        0                     1       1       0.0       0   \n",
              "3                        0                     1       1       0.0       0   \n",
              "4                        0                     2       2       0.0       0   \n",
              "\n",
              "  meal country market_segment distribution_channel  is_repeated_guest  \\\n",
              "0   BB     PRT         Direct               Direct                  0   \n",
              "1   BB     PRT         Direct               Direct                  0   \n",
              "2   BB     GBR         Direct               Direct                  0   \n",
              "3   BB     GBR      Corporate            Corporate                  0   \n",
              "4   BB     GBR      Online TA                TA/TO                  0   \n",
              "\n",
              "   previous_cancellations  previous_bookings_not_canceled reserved_room_type  \\\n",
              "0                       0                               0                  C   \n",
              "1                       0                               0                  C   \n",
              "2                       0                               0                  A   \n",
              "3                       0                               0                  A   \n",
              "4                       0                               0                  A   \n",
              "\n",
              "  assigned_room_type  booking_changes deposit_type  agent  company  \\\n",
              "0                  C                3   No Deposit    NaN      NaN   \n",
              "1                  C                4   No Deposit    NaN      NaN   \n",
              "2                  C                0   No Deposit    NaN      NaN   \n",
              "3                  A                0   No Deposit  304.0      NaN   \n",
              "4                  A                0   No Deposit  240.0      NaN   \n",
              "\n",
              "   days_in_waiting_list customer_type   adr  required_car_parking_spaces  \\\n",
              "0                     0     Transient   0.0                            0   \n",
              "1                     0     Transient   0.0                            0   \n",
              "2                     0     Transient  75.0                            0   \n",
              "3                     0     Transient  75.0                            0   \n",
              "4                     0     Transient  98.0                            0   \n",
              "\n",
              "   total_of_special_requests reservation_status reservation_status_date  \n",
              "0                          0          Check-Out              2015-07-01  \n",
              "1                          0          Check-Out              2015-07-01  \n",
              "2                          0          Check-Out              2015-07-02  \n",
              "3                          0          Check-Out              2015-07-02  \n",
              "4                          1          Check-Out              2015-07-03  "
            ]
          },
          "metadata": {},
          "execution_count": 136
        }
      ]
    },
    {
      "cell_type": "markdown",
      "source": [
        "<br/></br>\n",
        "\n",
        "\n",
        "--------------\n",
        "## 2. Data Pre-Processing"
      ],
      "metadata": {
        "id": "Kd6mbfXt59J_"
      }
    },
    {
      "cell_type": "code",
      "metadata": {
        "id": "AitOq-f5FH_G"
      },
      "source": [
        "## 전처리를 위한 데이터 복사\n",
        "df = data.copy()"
      ],
      "execution_count": 137,
      "outputs": []
    },
    {
      "cell_type": "code",
      "metadata": {
        "colab": {
          "base_uri": "https://localhost:8080/"
        },
        "id": "Mi-48wDxGhR5",
        "outputId": "d4f4ba2f-f15b-4ce8-bb78-ade32829296b"
      },
      "source": [
        "## column의 null 수 확인\n",
        "df.isnull().sum().sort_values(ascending=False)[:10]"
      ],
      "execution_count": 138,
      "outputs": [
        {
          "output_type": "execute_result",
          "data": {
            "text/plain": [
              "company                     112593\n",
              "agent                        16340\n",
              "country                        488\n",
              "children                         4\n",
              "lead_time                        0\n",
              "arrival_date_year                0\n",
              "arrival_date_month               0\n",
              "arrival_date_week_number         0\n",
              "is_canceled                      0\n",
              "market_segment                   0\n",
              "dtype: int64"
            ]
          },
          "metadata": {},
          "execution_count": 138
        }
      ]
    },
    {
      "cell_type": "markdown",
      "source": [
        "<br/></br>\n",
        "\n",
        "### 2-1) 위 결과를 토대로 company, agent , country, children  column 에 결측치 처리가 필요"
      ],
      "metadata": {
        "id": "TD04hLf6Bd7B"
      }
    },
    {
      "cell_type": "code",
      "source": [
        "## agent, company column의 값이 null 이면 0으로 대체한다.\n",
        "df[['agent','company']] = df[['agent','company']].fillna(0.0)\n",
        "\n",
        "## country column의 값이 null 이면 가장 많이 나온 값으로 대체한다.\n",
        "df['country'].fillna(data.country.mode().to_string(), inplace=True)"
      ],
      "metadata": {
        "id": "h8DSkoyRAIa8"
      },
      "execution_count": 139,
      "outputs": []
    },
    {
      "cell_type": "code",
      "metadata": {
        "id": "DiqnSUf7GlSj"
      },
      "source": [
        "## children column 값이 null 이면 0으로 대체한다.\n",
        "df['children']=df['children'].fillna(0.0)\n",
        "\n",
        "## adult, baby , child 합이 0인 row를 drop한다.\n",
        "df = df.drop(df[(df.adults+df.babies+df.children)==0].index)"
      ],
      "execution_count": 140,
      "outputs": []
    },
    {
      "cell_type": "code",
      "metadata": {
        "id": "bDqBsOdqGnQg"
      },
      "source": [
        "## datatype을 int로 바꾼다\n",
        "df[['children', 'company', 'agent']] = df[['children', 'company', 'agent']].astype('int64')"
      ],
      "execution_count": 141,
      "outputs": []
    },
    {
      "cell_type": "markdown",
      "metadata": {
        "id": "776MSkMLI0uA"
      },
      "source": [
        "<br/></br>\n",
        "\n",
        "### 2-2) 숙박 일수에 대한 전처리 필요\n",
        "+ 총 숙박 일수 1박 미만, 무료로 호텔을 이용한 경우 : 이상치로 판단"
      ]
    },
    {
      "cell_type": "code",
      "metadata": {
        "id": "E4tdShdCGu8r"
      },
      "source": [
        "## 총 숙박 일수가 1박 미만인 row를 제거한다.\n",
        "\n",
        "## 총 숙박 일수 feature\n",
        "df['total_staying_nights'] = df['stays_in_week_nights'] + df['stays_in_weekend_nights']\n",
        "\n",
        "df = df[ df['total_staying_nights'] >= 1 ]\n",
        "df = df.reset_index(drop=True)"
      ],
      "execution_count": 142,
      "outputs": []
    },
    {
      "cell_type": "code",
      "metadata": {
        "id": "BY9RwYbUIMTF"
      },
      "source": [
        "## 값을 내고 호텔을 이용한 경우만 data로 사용한다.\n",
        "df = df[ df['adr'] > 0 ].copy()"
      ],
      "execution_count": 143,
      "outputs": []
    },
    {
      "cell_type": "markdown",
      "source": [
        "<br/></br>\n",
        "\n",
        "### 2-3) feature 생성"
      ],
      "metadata": {
        "id": "44QH1R75Dp_G"
      }
    },
    {
      "cell_type": "code",
      "metadata": {
        "id": "EfaQ5wquJ9K-"
      },
      "source": [
        "## 새로운 feature를 위해 데이터 복사\n",
        "df_subset = df.copy()"
      ],
      "execution_count": 144,
      "outputs": []
    },
    {
      "cell_type": "code",
      "metadata": {
        "id": "6fwLgSdqKCQU"
      },
      "source": [
        "## reservation_status column은 y값으로 쓸 is_canceled와 같은 값이니 제거\n",
        "df_subset = df_subset.drop(['reservation_status'], axis=1)\n",
        "\n",
        "## Room column 새로 추가.\n",
        "## 예약된 방과 같으면 1, 아니면 0\n",
        "df_subset['Room'] = 0\n",
        "df_subset.loc[ df_subset['reserved_room_type'] == df_subset['assigned_room_type'] , 'Room'] = 1\n",
        "\n",
        "## more canceled column 새로 추가.\n",
        "## 예약 취소 비율이 높은 경우 1 , 아니면 0\n",
        "df_subset['more_canceled'] = 0\n",
        "df_subset.loc[ df_subset['previous_cancellations'] > df_subset['previous_bookings_not_canceled'] , 'not_canceled'] = 1\n",
        "\n",
        "## reservation_status_date column 문자열 값을 year/month/date 값으로 분리\n",
        "df_subset['reservation_status_date'] = pd.to_datetime(df_subset['reservation_status_date'])\n",
        "\n",
        "df_subset['reservation_year'] = df_subset['reservation_status_date'].dt.year\n",
        "df_subset['reservation_month'] = df_subset['reservation_status_date'].dt.month\n",
        "df_subset['reservation_day'] = df_subset['reservation_status_date'].dt.day\n",
        "\n",
        "## 남겨진 column 제거\n",
        "df_subset = df_subset.drop(['booking_changes','assigned_room_type','reservation_status_date','distribution_channel'],axis=1)"
      ],
      "execution_count": 145,
      "outputs": []
    },
    {
      "cell_type": "markdown",
      "source": [
        "<br/></br>\n",
        "\n",
        "### 2-4) Categorical variables을 숫자값으로 encoding"
      ],
      "metadata": {
        "id": "iG3di4HaIxJO"
      }
    },
    {
      "cell_type": "code",
      "metadata": {
        "id": "MHoanjPKJo3B"
      },
      "source": [
        "def transform(dataframe):\n",
        "\n",
        "    ## LabelEncoder import\n",
        "    from sklearn.preprocessing import LabelEncoder\n",
        "    \n",
        "    le = LabelEncoder()\n",
        "    ## 모든 categorical var 지정.\n",
        "    categorical_features = list(dataframe.columns[dataframe.dtypes == object])\n",
        "    ## encoding 실행\n",
        "    dataframe[categorical_features]=dataframe[categorical_features].apply(lambda x: le.fit_transform(x))\n",
        "    return dataframe\n",
        "\n",
        "\n",
        "## 모든 categorical var을 숫자형으로 바꾼다.\n",
        "df_subset = transform(df_subset)"
      ],
      "execution_count": 146,
      "outputs": []
    },
    {
      "cell_type": "markdown",
      "source": [
        "<br/></br>\n",
        "\n",
        "### 2-5) 정규화"
      ],
      "metadata": {
        "id": "PEeWJ8s0Krwe"
      }
    },
    {
      "cell_type": "code",
      "metadata": {
        "colab": {
          "base_uri": "https://localhost:8080/"
        },
        "id": "wkyk1MtLQBvX",
        "outputId": "80cb398f-16ba-4fa2-cc28-b16021d9f7f2"
      },
      "source": [
        "##column의 분산값 확인\n",
        "df_subset.var()"
      ],
      "execution_count": 147,
      "outputs": [
        {
          "output_type": "execute_result",
          "data": {
            "text/plain": [
              "hotel                                 0.222716\n",
              "is_canceled                           0.234348\n",
              "lead_time                         11430.508914\n",
              "arrival_date_year                     0.499289\n",
              "arrival_date_month                   12.499659\n",
              "arrival_date_week_number            184.281629\n",
              "arrival_date_day_of_month            77.148962\n",
              "stays_in_weekend_nights               0.989183\n",
              "stays_in_week_nights                  3.572044\n",
              "adults                                0.231569\n",
              "children                              0.159791\n",
              "babies                                0.009444\n",
              "meal                                  1.138017\n",
              "country                            2024.776043\n",
              "market_segment                        1.520872\n",
              "is_repeated_guest                     0.027086\n",
              "previous_cancellations                0.720456\n",
              "previous_bookings_not_canceled        2.091370\n",
              "reserved_room_type                    2.864232\n",
              "deposit_type                          0.113640\n",
              "agent                             11500.539910\n",
              "company                            2867.861112\n",
              "days_in_waiting_list                312.559275\n",
              "customer_type                         0.334185\n",
              "adr                                2419.944474\n",
              "required_car_parking_spaces           0.060287\n",
              "total_of_special_requests             0.626689\n",
              "total_staying_nights                  6.397173\n",
              "Room                                  0.105550\n",
              "more_canceled                         0.000000\n",
              "not_canceled                          0.000000\n",
              "reservation_year                      0.511000\n",
              "reservation_month                    11.173453\n",
              "reservation_day                      77.101242\n",
              "dtype: float64"
            ]
          },
          "metadata": {},
          "execution_count": 147
        }
      ]
    },
    {
      "cell_type": "markdown",
      "source": [
        "<br/></br>\n",
        "\n",
        "### 2-6) 위 분산 값을 토대로 정규화 할 column 선정"
      ],
      "metadata": {
        "id": "RXXJGAzlMHB5"
      }
    },
    {
      "cell_type": "code",
      "metadata": {
        "id": "0zbh4sgKegYI"
      },
      "source": [
        "df_subset['lead_time']=np.log(df_subset['lead_time']+1)\n",
        "df_subset['agent'] = np.log(df_subset['agent'] + 1)\n",
        "df_subset['company'] = np.log(df_subset['company'] + 1)\n",
        "df_subset['adr'] = np.log(df_subset['adr'] + 1)\n",
        "df_subset['country'] = np.log(df_subset['country'] + 1)\n",
        "df_subset['days_in_waiting_list'] = np.log(df_subset['days_in_waiting_list'] + 1)\n",
        "df_subset['reservation_month'] = np.log(df_subset['reservation_month'] + 1)\n",
        "df_subset['reservation_day'] = np.log(df_subset['reservation_day'] + 1)\n",
        "df_subset['arrival_date_week_number'] = np.log(df_subset['arrival_date_week_number'] + 1)\n",
        "df_subset['arrival_date_day_of_month'] = np.log(df_subset['arrival_date_day_of_month'] + 1)\n",
        "df_subset['arrival_date_month'] = np.log(df_subset['arrival_date_month'] + 1)\n",
        "\n",
        "df_subset = df_subset.drop([])"
      ],
      "execution_count": 148,
      "outputs": []
    },
    {
      "cell_type": "code",
      "metadata": {
        "colab": {
          "base_uri": "https://localhost:8080/"
        },
        "id": "a-h5O-u_fOpS",
        "outputId": "f5b73acd-57d5-4121-9a6c-44c19f3432dd"
      },
      "source": [
        "## 다시 확인\n",
        "df_subset.var()"
      ],
      "execution_count": 149,
      "outputs": [
        {
          "output_type": "execute_result",
          "data": {
            "text/plain": [
              "hotel                             0.222716\n",
              "is_canceled                       0.234348\n",
              "lead_time                         2.520964\n",
              "arrival_date_year                 0.499289\n",
              "arrival_date_month                0.575158\n",
              "arrival_date_week_number          0.439545\n",
              "arrival_date_day_of_month         0.506808\n",
              "stays_in_weekend_nights           0.989183\n",
              "stays_in_week_nights              3.572044\n",
              "adults                            0.231569\n",
              "children                          0.159791\n",
              "babies                            0.009444\n",
              "meal                              1.138017\n",
              "country                           0.465148\n",
              "market_segment                    1.520872\n",
              "is_repeated_guest                 0.027086\n",
              "previous_cancellations            0.720456\n",
              "previous_bookings_not_canceled    2.091370\n",
              "reserved_room_type                2.864232\n",
              "deposit_type                      0.113640\n",
              "agent                             3.496853\n",
              "company                           1.311311\n",
              "days_in_waiting_list              0.507638\n",
              "customer_type                     0.334185\n",
              "adr                               0.208900\n",
              "required_car_parking_spaces       0.060287\n",
              "total_of_special_requests         0.626689\n",
              "total_staying_nights              6.397173\n",
              "Room                              0.105550\n",
              "more_canceled                     0.000000\n",
              "not_canceled                      0.000000\n",
              "reservation_year                  0.511000\n",
              "reservation_month                 0.308480\n",
              "reservation_day                   0.524647\n",
              "dtype: float64"
            ]
          },
          "metadata": {},
          "execution_count": 149
        }
      ]
    },
    {
      "cell_type": "markdown",
      "source": [
        "<br/></br>\n",
        "\n",
        "\n",
        "--------------\n",
        "## 3. Modeling"
      ],
      "metadata": {
        "id": "UkBm6OOXGvJe"
      }
    },
    {
      "cell_type": "markdown",
      "source": [
        "<br/></br>\n",
        "\n",
        "### 3-1) data split"
      ],
      "metadata": {
        "id": "_ohs-HGOOTNQ"
      }
    },
    {
      "cell_type": "code",
      "metadata": {
        "id": "kZItMnKWJ1kV"
      },
      "source": [
        "def data_split(df, label):\n",
        "    \n",
        "    from sklearn.model_selection import train_test_split\n",
        "\n",
        "    X = df.drop(label, axis=1)\n",
        "    Y = df[label]\n",
        "\n",
        "    x_train, x_test, y_train, y_test = train_test_split(X,Y,test_size = 0.30)\n",
        "    \n",
        "    return x_train, x_test, y_train, y_test\n",
        "\n",
        "\n",
        "## train, test 로 데이터 split\n",
        "## y 값에 is_canceled\n",
        "x_train, x_test, y_train, y_test = data_split(df_subset, 'is_canceled')\n",
        "\n",
        "from sklearn.impute import SimpleImputer\n",
        "\n",
        "## default, imputing 'mean' value\n",
        "imputer = SimpleImputer()\n",
        "#PDP를 위한 X_train 생성\n",
        "X_train = x_train\n",
        "# feature 목록\n",
        "feature_names = x_train.columns\n",
        "x_train = imputer.fit_transform(x_train)\n",
        "x_test = imputer.transform(x_test)"
      ],
      "execution_count": 150,
      "outputs": []
    },
    {
      "cell_type": "markdown",
      "source": [
        "<br/></br>\n",
        "\n",
        "### 3-2) model train\n",
        "+ decision tree\n",
        "+ XGBoost\n",
        "+ Gradient Boosting\n",
        "+ AdaBoost\n",
        "+ RandomForest\n",
        "+ LogisticRegression\n",
        "+ CatBoost\n",
        "+ LGBMClassifier\n",
        "+ ExtraTreesClssifier\n",
        "+ HistGradientBoostingClassfier"
      ],
      "metadata": {
        "id": "k-OCBZn-OXWW"
      }
    },
    {
      "cell_type": "markdown",
      "source": [
        "####Decision Tree"
      ],
      "metadata": {
        "id": "4uc5q7eKdUs_"
      }
    },
    {
      "cell_type": "code",
      "source": [
        "## decision tree\n",
        "clf = DecisionTreeClassifier(random_state=0)\n",
        "clf.fit(x_train,y_train)"
      ],
      "metadata": {
        "colab": {
          "base_uri": "https://localhost:8080/"
        },
        "id": "lHfnByS5dJrj",
        "outputId": "d0c10749-d749-4fe7-e5d6-f29e957ebcfc"
      },
      "execution_count": 151,
      "outputs": [
        {
          "output_type": "execute_result",
          "data": {
            "text/plain": [
              "DecisionTreeClassifier(random_state=0)"
            ]
          },
          "metadata": {},
          "execution_count": 151
        }
      ]
    },
    {
      "cell_type": "markdown",
      "source": [
        "####XGBoost"
      ],
      "metadata": {
        "id": "T86_bmgzeGSM"
      }
    },
    {
      "cell_type": "code",
      "source": [
        "## XGBoost\n",
        "xgb = XGBClassifier(booster = 'gbtree', learning_rate = 0.1, max_depth = 5, n_estimators = 500)\n",
        "xgb.fit(x_train, y_train)"
      ],
      "metadata": {
        "colab": {
          "base_uri": "https://localhost:8080/"
        },
        "id": "yh5ord33dJpV",
        "outputId": "f2019698-4f26-4793-a977-a001b2f873d0"
      },
      "execution_count": 152,
      "outputs": [
        {
          "output_type": "execute_result",
          "data": {
            "text/plain": [
              "XGBClassifier(max_depth=5, n_estimators=500)"
            ]
          },
          "metadata": {},
          "execution_count": 152
        }
      ]
    },
    {
      "cell_type": "markdown",
      "source": [
        "####Gradient Boosting"
      ],
      "metadata": {
        "id": "y7HZBdy8eIdv"
      }
    },
    {
      "cell_type": "code",
      "source": [
        "## Gradient Boosting\n",
        "gb = GradientBoostingClassifier()\n",
        "gb.fit(x_train, y_train)"
      ],
      "metadata": {
        "colab": {
          "base_uri": "https://localhost:8080/"
        },
        "id": "qblLtUb5dJWn",
        "outputId": "f7b55a0c-8734-441b-c3ca-50120e01df14"
      },
      "execution_count": 153,
      "outputs": [
        {
          "output_type": "execute_result",
          "data": {
            "text/plain": [
              "GradientBoostingClassifier()"
            ]
          },
          "metadata": {},
          "execution_count": 153
        }
      ]
    },
    {
      "cell_type": "markdown",
      "source": [
        "####AdaBoost"
      ],
      "metadata": {
        "id": "YQd6B5m_eMdi"
      }
    },
    {
      "cell_type": "code",
      "source": [
        "## AdaBoost\n",
        "ada = AdaBoostClassifier(base_estimator = clf)\n",
        "ada.fit(x_train, y_train)"
      ],
      "metadata": {
        "colab": {
          "base_uri": "https://localhost:8080/"
        },
        "id": "1BtKN_l3dJUQ",
        "outputId": "a4e9510f-b800-4be9-c0ba-dd788b2552d6"
      },
      "execution_count": 154,
      "outputs": [
        {
          "output_type": "execute_result",
          "data": {
            "text/plain": [
              "AdaBoostClassifier(base_estimator=DecisionTreeClassifier(random_state=0))"
            ]
          },
          "metadata": {},
          "execution_count": 154
        }
      ]
    },
    {
      "cell_type": "markdown",
      "source": [
        "####RandomForest"
      ],
      "metadata": {
        "id": "Op59E5YDeOMw"
      }
    },
    {
      "cell_type": "code",
      "source": [
        "## RandomForest\n",
        "rd_clf = RandomForestClassifier(n_estimators=300)\n",
        "rd_clf.fit(x_train, y_train)    "
      ],
      "metadata": {
        "colab": {
          "base_uri": "https://localhost:8080/"
        },
        "id": "d6l22ahEdJRV",
        "outputId": "3eebc440-033f-4bcd-e1c7-b738c4af7288"
      },
      "execution_count": 155,
      "outputs": [
        {
          "output_type": "execute_result",
          "data": {
            "text/plain": [
              "RandomForestClassifier(n_estimators=300)"
            ]
          },
          "metadata": {},
          "execution_count": 155
        }
      ]
    },
    {
      "cell_type": "markdown",
      "source": [
        "####LogisticRegression"
      ],
      "metadata": {
        "id": "pTR3HDpEeQNq"
      }
    },
    {
      "cell_type": "code",
      "source": [
        "## LogisticRegression\n",
        "lr = LogisticRegression()\n",
        "lr.fit(x_train, y_train)"
      ],
      "metadata": {
        "colab": {
          "base_uri": "https://localhost:8080/"
        },
        "id": "zserx_YfdJOe",
        "outputId": "6207f661-4b4a-49b7-fdfa-62dfe89ba80e"
      },
      "execution_count": 156,
      "outputs": [
        {
          "output_type": "execute_result",
          "data": {
            "text/plain": [
              "LogisticRegression()"
            ]
          },
          "metadata": {},
          "execution_count": 156
        }
      ]
    },
    {
      "cell_type": "markdown",
      "source": [
        "####CatBoost"
      ],
      "metadata": {
        "id": "vs3R6jDneSwC"
      }
    },
    {
      "cell_type": "code",
      "source": [
        "## CatBoost\n",
        "cat = CatBoostClassifier(iterations=300)\n",
        "cat.fit(x_train, y_train)"
      ],
      "metadata": {
        "colab": {
          "base_uri": "https://localhost:8080/"
        },
        "id": "Bm_o4W76dJLk",
        "outputId": "91bb8307-7d0a-43e0-c74a-6111a91be2cd"
      },
      "execution_count": 157,
      "outputs": [
        {
          "output_type": "stream",
          "name": "stdout",
          "text": [
            "Learning rate set to 0.204182\n",
            "0:\tlearn: 0.5515815\ttotal: 27.3ms\tremaining: 8.16s\n",
            "1:\tlearn: 0.4718895\ttotal: 60.8ms\tremaining: 9.06s\n",
            "2:\tlearn: 0.4285604\ttotal: 84ms\tremaining: 8.31s\n",
            "3:\tlearn: 0.4003628\ttotal: 109ms\tremaining: 8.06s\n",
            "4:\tlearn: 0.3815380\ttotal: 133ms\tremaining: 7.83s\n",
            "5:\tlearn: 0.3648888\ttotal: 160ms\tremaining: 7.82s\n",
            "6:\tlearn: 0.3545622\ttotal: 183ms\tremaining: 7.68s\n",
            "7:\tlearn: 0.3393456\ttotal: 215ms\tremaining: 7.85s\n",
            "8:\tlearn: 0.3238798\ttotal: 240ms\tremaining: 7.77s\n",
            "9:\tlearn: 0.3165724\ttotal: 265ms\tremaining: 7.67s\n",
            "10:\tlearn: 0.3065616\ttotal: 290ms\tremaining: 7.63s\n",
            "11:\tlearn: 0.2926630\ttotal: 313ms\tremaining: 7.5s\n",
            "12:\tlearn: 0.2716063\ttotal: 341ms\tremaining: 7.53s\n",
            "13:\tlearn: 0.2686434\ttotal: 364ms\tremaining: 7.44s\n",
            "14:\tlearn: 0.2558139\ttotal: 390ms\tremaining: 7.41s\n",
            "15:\tlearn: 0.2441616\ttotal: 417ms\tremaining: 7.4s\n",
            "16:\tlearn: 0.2198524\ttotal: 445ms\tremaining: 7.4s\n",
            "17:\tlearn: 0.2058086\ttotal: 470ms\tremaining: 7.37s\n",
            "18:\tlearn: 0.1901953\ttotal: 496ms\tremaining: 7.34s\n",
            "19:\tlearn: 0.1770733\ttotal: 523ms\tremaining: 7.32s\n",
            "20:\tlearn: 0.1698871\ttotal: 548ms\tremaining: 7.28s\n",
            "21:\tlearn: 0.1676790\ttotal: 574ms\tremaining: 7.25s\n",
            "22:\tlearn: 0.1580211\ttotal: 600ms\tremaining: 7.23s\n",
            "23:\tlearn: 0.1511335\ttotal: 629ms\tremaining: 7.23s\n",
            "24:\tlearn: 0.1496488\ttotal: 661ms\tremaining: 7.28s\n",
            "25:\tlearn: 0.1456321\ttotal: 687ms\tremaining: 7.24s\n",
            "26:\tlearn: 0.1439277\ttotal: 711ms\tremaining: 7.19s\n",
            "27:\tlearn: 0.1408137\ttotal: 733ms\tremaining: 7.13s\n",
            "28:\tlearn: 0.1352484\ttotal: 759ms\tremaining: 7.09s\n",
            "29:\tlearn: 0.1314296\ttotal: 782ms\tremaining: 7.04s\n",
            "30:\tlearn: 0.1295945\ttotal: 804ms\tremaining: 6.98s\n",
            "31:\tlearn: 0.1262478\ttotal: 830ms\tremaining: 6.95s\n",
            "32:\tlearn: 0.1244158\ttotal: 857ms\tremaining: 6.93s\n",
            "33:\tlearn: 0.1204779\ttotal: 882ms\tremaining: 6.9s\n",
            "34:\tlearn: 0.1163941\ttotal: 911ms\tremaining: 6.9s\n",
            "35:\tlearn: 0.1124019\ttotal: 936ms\tremaining: 6.86s\n",
            "36:\tlearn: 0.1118353\ttotal: 971ms\tremaining: 6.9s\n",
            "37:\tlearn: 0.1092237\ttotal: 996ms\tremaining: 6.87s\n",
            "38:\tlearn: 0.1077604\ttotal: 1.02s\tremaining: 6.83s\n",
            "39:\tlearn: 0.1074802\ttotal: 1.05s\tremaining: 6.8s\n",
            "40:\tlearn: 0.1048506\ttotal: 1.07s\tremaining: 6.78s\n",
            "41:\tlearn: 0.1043691\ttotal: 1.1s\tremaining: 6.74s\n",
            "42:\tlearn: 0.1036598\ttotal: 1.12s\tremaining: 6.71s\n",
            "43:\tlearn: 0.1011136\ttotal: 1.15s\tremaining: 6.67s\n",
            "44:\tlearn: 0.0993866\ttotal: 1.18s\tremaining: 6.67s\n",
            "45:\tlearn: 0.0960795\ttotal: 1.2s\tremaining: 6.64s\n",
            "46:\tlearn: 0.0957018\ttotal: 1.23s\tremaining: 6.59s\n",
            "47:\tlearn: 0.0940343\ttotal: 1.25s\tremaining: 6.59s\n",
            "48:\tlearn: 0.0899858\ttotal: 1.28s\tremaining: 6.56s\n",
            "49:\tlearn: 0.0885649\ttotal: 1.3s\tremaining: 6.52s\n",
            "50:\tlearn: 0.0860049\ttotal: 1.33s\tremaining: 6.5s\n",
            "51:\tlearn: 0.0852644\ttotal: 1.35s\tremaining: 6.46s\n",
            "52:\tlearn: 0.0828693\ttotal: 1.38s\tremaining: 6.44s\n",
            "53:\tlearn: 0.0820031\ttotal: 1.4s\tremaining: 6.39s\n",
            "54:\tlearn: 0.0804649\ttotal: 1.43s\tremaining: 6.37s\n",
            "55:\tlearn: 0.0800975\ttotal: 1.45s\tremaining: 6.33s\n",
            "56:\tlearn: 0.0794191\ttotal: 1.48s\tremaining: 6.31s\n",
            "57:\tlearn: 0.0768781\ttotal: 1.51s\tremaining: 6.29s\n",
            "58:\tlearn: 0.0762262\ttotal: 1.53s\tremaining: 6.25s\n",
            "59:\tlearn: 0.0743040\ttotal: 1.55s\tremaining: 6.21s\n",
            "60:\tlearn: 0.0731108\ttotal: 1.58s\tremaining: 6.17s\n",
            "61:\tlearn: 0.0720657\ttotal: 1.6s\tremaining: 6.14s\n",
            "62:\tlearn: 0.0718351\ttotal: 1.62s\tremaining: 6.1s\n",
            "63:\tlearn: 0.0711487\ttotal: 1.65s\tremaining: 6.08s\n",
            "64:\tlearn: 0.0701826\ttotal: 1.68s\tremaining: 6.06s\n",
            "65:\tlearn: 0.0697842\ttotal: 1.7s\tremaining: 6.04s\n",
            "66:\tlearn: 0.0683887\ttotal: 1.73s\tremaining: 6.01s\n",
            "67:\tlearn: 0.0666094\ttotal: 1.75s\tremaining: 5.98s\n",
            "68:\tlearn: 0.0647732\ttotal: 1.78s\tremaining: 5.96s\n",
            "69:\tlearn: 0.0645497\ttotal: 1.81s\tremaining: 5.94s\n",
            "70:\tlearn: 0.0636187\ttotal: 1.83s\tremaining: 5.9s\n",
            "71:\tlearn: 0.0630289\ttotal: 1.85s\tremaining: 5.87s\n",
            "72:\tlearn: 0.0619222\ttotal: 1.88s\tremaining: 5.84s\n",
            "73:\tlearn: 0.0614662\ttotal: 1.91s\tremaining: 5.83s\n",
            "74:\tlearn: 0.0611073\ttotal: 1.93s\tremaining: 5.8s\n",
            "75:\tlearn: 0.0609096\ttotal: 1.96s\tremaining: 5.77s\n",
            "76:\tlearn: 0.0599915\ttotal: 2s\tremaining: 5.78s\n",
            "77:\tlearn: 0.0586698\ttotal: 2.02s\tremaining: 5.75s\n",
            "78:\tlearn: 0.0574320\ttotal: 2.04s\tremaining: 5.72s\n",
            "79:\tlearn: 0.0553799\ttotal: 2.07s\tremaining: 5.7s\n",
            "80:\tlearn: 0.0543563\ttotal: 2.1s\tremaining: 5.67s\n",
            "81:\tlearn: 0.0533291\ttotal: 2.12s\tremaining: 5.65s\n",
            "82:\tlearn: 0.0521539\ttotal: 2.15s\tremaining: 5.63s\n",
            "83:\tlearn: 0.0512145\ttotal: 2.17s\tremaining: 5.59s\n",
            "84:\tlearn: 0.0501462\ttotal: 2.2s\tremaining: 5.57s\n",
            "85:\tlearn: 0.0489443\ttotal: 2.23s\tremaining: 5.55s\n",
            "86:\tlearn: 0.0483981\ttotal: 2.25s\tremaining: 5.52s\n",
            "87:\tlearn: 0.0478511\ttotal: 2.27s\tremaining: 5.48s\n",
            "88:\tlearn: 0.0474125\ttotal: 2.3s\tremaining: 5.45s\n",
            "89:\tlearn: 0.0469738\ttotal: 2.32s\tremaining: 5.41s\n",
            "90:\tlearn: 0.0467226\ttotal: 2.35s\tremaining: 5.39s\n",
            "91:\tlearn: 0.0461075\ttotal: 2.38s\tremaining: 5.38s\n",
            "92:\tlearn: 0.0459588\ttotal: 2.4s\tremaining: 5.35s\n",
            "93:\tlearn: 0.0457025\ttotal: 2.43s\tremaining: 5.32s\n",
            "94:\tlearn: 0.0453345\ttotal: 2.45s\tremaining: 5.29s\n",
            "95:\tlearn: 0.0451456\ttotal: 2.48s\tremaining: 5.26s\n",
            "96:\tlearn: 0.0450311\ttotal: 2.5s\tremaining: 5.23s\n",
            "97:\tlearn: 0.0444703\ttotal: 2.52s\tremaining: 5.2s\n",
            "98:\tlearn: 0.0443962\ttotal: 2.54s\tremaining: 5.17s\n",
            "99:\tlearn: 0.0438739\ttotal: 2.57s\tremaining: 5.14s\n",
            "100:\tlearn: 0.0431377\ttotal: 2.6s\tremaining: 5.12s\n",
            "101:\tlearn: 0.0424930\ttotal: 2.62s\tremaining: 5.08s\n",
            "102:\tlearn: 0.0418551\ttotal: 2.65s\tremaining: 5.07s\n",
            "103:\tlearn: 0.0413860\ttotal: 2.67s\tremaining: 5.03s\n",
            "104:\tlearn: 0.0407290\ttotal: 2.7s\tremaining: 5.01s\n",
            "105:\tlearn: 0.0399272\ttotal: 2.72s\tremaining: 4.98s\n",
            "106:\tlearn: 0.0393696\ttotal: 2.75s\tremaining: 4.95s\n",
            "107:\tlearn: 0.0392754\ttotal: 2.77s\tremaining: 4.92s\n",
            "108:\tlearn: 0.0381770\ttotal: 2.8s\tremaining: 4.9s\n",
            "109:\tlearn: 0.0375558\ttotal: 2.82s\tremaining: 4.87s\n",
            "110:\tlearn: 0.0369199\ttotal: 2.85s\tremaining: 4.86s\n",
            "111:\tlearn: 0.0363885\ttotal: 2.88s\tremaining: 4.83s\n",
            "112:\tlearn: 0.0354833\ttotal: 2.9s\tremaining: 4.8s\n",
            "113:\tlearn: 0.0347464\ttotal: 2.93s\tremaining: 4.77s\n",
            "114:\tlearn: 0.0338931\ttotal: 2.95s\tremaining: 4.75s\n",
            "115:\tlearn: 0.0334075\ttotal: 3s\tremaining: 4.75s\n",
            "116:\tlearn: 0.0330935\ttotal: 3.03s\tremaining: 4.74s\n",
            "117:\tlearn: 0.0328040\ttotal: 3.06s\tremaining: 4.72s\n",
            "118:\tlearn: 0.0325459\ttotal: 3.08s\tremaining: 4.69s\n",
            "119:\tlearn: 0.0323677\ttotal: 3.11s\tremaining: 4.66s\n",
            "120:\tlearn: 0.0322947\ttotal: 3.13s\tremaining: 4.63s\n",
            "121:\tlearn: 0.0317701\ttotal: 3.15s\tremaining: 4.6s\n",
            "122:\tlearn: 0.0317134\ttotal: 3.18s\tremaining: 4.57s\n",
            "123:\tlearn: 0.0313083\ttotal: 3.2s\tremaining: 4.54s\n",
            "124:\tlearn: 0.0308528\ttotal: 3.23s\tremaining: 4.52s\n",
            "125:\tlearn: 0.0305268\ttotal: 3.25s\tremaining: 4.49s\n",
            "126:\tlearn: 0.0299124\ttotal: 3.28s\tremaining: 4.47s\n",
            "127:\tlearn: 0.0296544\ttotal: 3.3s\tremaining: 4.44s\n",
            "128:\tlearn: 0.0289733\ttotal: 3.33s\tremaining: 4.41s\n",
            "129:\tlearn: 0.0287256\ttotal: 3.35s\tremaining: 4.38s\n",
            "130:\tlearn: 0.0283388\ttotal: 3.37s\tremaining: 4.35s\n",
            "131:\tlearn: 0.0282794\ttotal: 3.4s\tremaining: 4.32s\n",
            "132:\tlearn: 0.0277914\ttotal: 3.42s\tremaining: 4.29s\n",
            "133:\tlearn: 0.0275998\ttotal: 3.44s\tremaining: 4.26s\n",
            "134:\tlearn: 0.0274937\ttotal: 3.47s\tremaining: 4.24s\n",
            "135:\tlearn: 0.0271397\ttotal: 3.49s\tremaining: 4.21s\n",
            "136:\tlearn: 0.0269097\ttotal: 3.52s\tremaining: 4.18s\n",
            "137:\tlearn: 0.0268230\ttotal: 3.54s\tremaining: 4.15s\n",
            "138:\tlearn: 0.0265445\ttotal: 3.56s\tremaining: 4.12s\n",
            "139:\tlearn: 0.0261407\ttotal: 3.58s\tremaining: 4.1s\n",
            "140:\tlearn: 0.0261260\ttotal: 3.61s\tremaining: 4.07s\n",
            "141:\tlearn: 0.0260223\ttotal: 3.63s\tremaining: 4.04s\n",
            "142:\tlearn: 0.0257082\ttotal: 3.66s\tremaining: 4.01s\n",
            "143:\tlearn: 0.0253067\ttotal: 3.69s\tremaining: 4s\n",
            "144:\tlearn: 0.0249773\ttotal: 3.71s\tremaining: 3.97s\n",
            "145:\tlearn: 0.0248477\ttotal: 3.74s\tremaining: 3.94s\n",
            "146:\tlearn: 0.0244101\ttotal: 3.76s\tremaining: 3.91s\n",
            "147:\tlearn: 0.0242466\ttotal: 3.79s\tremaining: 3.89s\n",
            "148:\tlearn: 0.0241979\ttotal: 3.81s\tremaining: 3.86s\n",
            "149:\tlearn: 0.0239016\ttotal: 3.83s\tremaining: 3.83s\n",
            "150:\tlearn: 0.0233358\ttotal: 3.86s\tremaining: 3.81s\n",
            "151:\tlearn: 0.0229740\ttotal: 3.88s\tremaining: 3.78s\n",
            "152:\tlearn: 0.0224914\ttotal: 3.92s\tremaining: 3.76s\n",
            "153:\tlearn: 0.0224538\ttotal: 3.94s\tremaining: 3.74s\n",
            "154:\tlearn: 0.0222666\ttotal: 3.97s\tremaining: 3.71s\n",
            "155:\tlearn: 0.0218346\ttotal: 4s\tremaining: 3.69s\n",
            "156:\tlearn: 0.0214594\ttotal: 4.03s\tremaining: 3.67s\n",
            "157:\tlearn: 0.0212792\ttotal: 4.05s\tremaining: 3.64s\n",
            "158:\tlearn: 0.0208035\ttotal: 4.08s\tremaining: 3.62s\n",
            "159:\tlearn: 0.0205812\ttotal: 4.1s\tremaining: 3.59s\n",
            "160:\tlearn: 0.0202583\ttotal: 4.13s\tremaining: 3.57s\n",
            "161:\tlearn: 0.0198938\ttotal: 4.16s\tremaining: 3.54s\n",
            "162:\tlearn: 0.0196878\ttotal: 4.18s\tremaining: 3.52s\n",
            "163:\tlearn: 0.0193899\ttotal: 4.22s\tremaining: 3.5s\n",
            "164:\tlearn: 0.0192910\ttotal: 4.24s\tremaining: 3.47s\n",
            "165:\tlearn: 0.0190235\ttotal: 4.27s\tremaining: 3.45s\n",
            "166:\tlearn: 0.0187700\ttotal: 4.29s\tremaining: 3.42s\n",
            "167:\tlearn: 0.0185891\ttotal: 4.32s\tremaining: 3.39s\n",
            "168:\tlearn: 0.0185585\ttotal: 4.34s\tremaining: 3.37s\n",
            "169:\tlearn: 0.0184856\ttotal: 4.36s\tremaining: 3.33s\n",
            "170:\tlearn: 0.0182922\ttotal: 4.38s\tremaining: 3.31s\n",
            "171:\tlearn: 0.0181514\ttotal: 4.41s\tremaining: 3.28s\n",
            "172:\tlearn: 0.0179806\ttotal: 4.43s\tremaining: 3.25s\n",
            "173:\tlearn: 0.0178719\ttotal: 4.46s\tremaining: 3.23s\n",
            "174:\tlearn: 0.0176230\ttotal: 4.48s\tremaining: 3.2s\n",
            "175:\tlearn: 0.0174242\ttotal: 4.51s\tremaining: 3.18s\n",
            "176:\tlearn: 0.0173651\ttotal: 4.53s\tremaining: 3.15s\n",
            "177:\tlearn: 0.0171044\ttotal: 4.56s\tremaining: 3.13s\n",
            "178:\tlearn: 0.0170198\ttotal: 4.58s\tremaining: 3.1s\n",
            "179:\tlearn: 0.0169178\ttotal: 4.61s\tremaining: 3.07s\n",
            "180:\tlearn: 0.0166530\ttotal: 4.63s\tremaining: 3.05s\n",
            "181:\tlearn: 0.0165921\ttotal: 4.66s\tremaining: 3.02s\n",
            "182:\tlearn: 0.0162387\ttotal: 4.69s\tremaining: 3s\n",
            "183:\tlearn: 0.0162387\ttotal: 4.7s\tremaining: 2.96s\n",
            "184:\tlearn: 0.0159986\ttotal: 4.73s\tremaining: 2.94s\n",
            "185:\tlearn: 0.0158818\ttotal: 4.75s\tremaining: 2.91s\n",
            "186:\tlearn: 0.0156559\ttotal: 4.78s\tremaining: 2.88s\n",
            "187:\tlearn: 0.0156178\ttotal: 4.8s\tremaining: 2.86s\n",
            "188:\tlearn: 0.0153704\ttotal: 4.83s\tremaining: 2.83s\n",
            "189:\tlearn: 0.0153072\ttotal: 4.85s\tremaining: 2.81s\n",
            "190:\tlearn: 0.0151226\ttotal: 4.87s\tremaining: 2.78s\n",
            "191:\tlearn: 0.0150294\ttotal: 4.89s\tremaining: 2.75s\n",
            "192:\tlearn: 0.0149557\ttotal: 4.92s\tremaining: 2.73s\n",
            "193:\tlearn: 0.0147609\ttotal: 4.94s\tremaining: 2.7s\n",
            "194:\tlearn: 0.0144171\ttotal: 4.96s\tremaining: 2.67s\n",
            "195:\tlearn: 0.0143940\ttotal: 4.99s\tremaining: 2.65s\n",
            "196:\tlearn: 0.0141588\ttotal: 5.03s\tremaining: 2.63s\n",
            "197:\tlearn: 0.0139231\ttotal: 5.05s\tremaining: 2.6s\n",
            "198:\tlearn: 0.0138632\ttotal: 5.07s\tremaining: 2.57s\n",
            "199:\tlearn: 0.0136370\ttotal: 5.1s\tremaining: 2.55s\n",
            "200:\tlearn: 0.0135317\ttotal: 5.12s\tremaining: 2.52s\n",
            "201:\tlearn: 0.0133852\ttotal: 5.15s\tremaining: 2.5s\n",
            "202:\tlearn: 0.0131449\ttotal: 5.18s\tremaining: 2.47s\n",
            "203:\tlearn: 0.0129979\ttotal: 5.21s\tremaining: 2.45s\n",
            "204:\tlearn: 0.0129979\ttotal: 5.22s\tremaining: 2.42s\n",
            "205:\tlearn: 0.0129355\ttotal: 5.25s\tremaining: 2.39s\n",
            "206:\tlearn: 0.0127940\ttotal: 5.27s\tremaining: 2.37s\n",
            "207:\tlearn: 0.0127080\ttotal: 5.29s\tremaining: 2.34s\n",
            "208:\tlearn: 0.0126656\ttotal: 5.32s\tremaining: 2.31s\n",
            "209:\tlearn: 0.0124490\ttotal: 5.34s\tremaining: 2.29s\n",
            "210:\tlearn: 0.0124186\ttotal: 5.37s\tremaining: 2.26s\n",
            "211:\tlearn: 0.0124186\ttotal: 5.38s\tremaining: 2.23s\n",
            "212:\tlearn: 0.0123826\ttotal: 5.4s\tremaining: 2.21s\n",
            "213:\tlearn: 0.0121604\ttotal: 5.44s\tremaining: 2.19s\n",
            "214:\tlearn: 0.0119598\ttotal: 5.47s\tremaining: 2.16s\n",
            "215:\tlearn: 0.0117567\ttotal: 5.49s\tremaining: 2.14s\n",
            "216:\tlearn: 0.0116160\ttotal: 5.52s\tremaining: 2.11s\n",
            "217:\tlearn: 0.0114785\ttotal: 5.54s\tremaining: 2.08s\n",
            "218:\tlearn: 0.0113404\ttotal: 5.57s\tremaining: 2.06s\n",
            "219:\tlearn: 0.0112623\ttotal: 5.59s\tremaining: 2.03s\n",
            "220:\tlearn: 0.0110639\ttotal: 5.62s\tremaining: 2.01s\n",
            "221:\tlearn: 0.0109582\ttotal: 5.65s\tremaining: 1.98s\n",
            "222:\tlearn: 0.0108867\ttotal: 5.67s\tremaining: 1.96s\n",
            "223:\tlearn: 0.0107780\ttotal: 5.7s\tremaining: 1.93s\n",
            "224:\tlearn: 0.0107303\ttotal: 5.72s\tremaining: 1.91s\n",
            "225:\tlearn: 0.0106223\ttotal: 5.75s\tremaining: 1.88s\n",
            "226:\tlearn: 0.0105678\ttotal: 5.77s\tremaining: 1.85s\n",
            "227:\tlearn: 0.0103624\ttotal: 5.79s\tremaining: 1.83s\n",
            "228:\tlearn: 0.0102477\ttotal: 5.82s\tremaining: 1.8s\n",
            "229:\tlearn: 0.0101568\ttotal: 5.84s\tremaining: 1.78s\n",
            "230:\tlearn: 0.0099879\ttotal: 5.87s\tremaining: 1.75s\n",
            "231:\tlearn: 0.0098451\ttotal: 5.89s\tremaining: 1.73s\n",
            "232:\tlearn: 0.0098310\ttotal: 5.91s\tremaining: 1.7s\n",
            "233:\tlearn: 0.0096443\ttotal: 5.94s\tremaining: 1.68s\n",
            "234:\tlearn: 0.0095573\ttotal: 5.96s\tremaining: 1.65s\n",
            "235:\tlearn: 0.0095455\ttotal: 5.99s\tremaining: 1.62s\n",
            "236:\tlearn: 0.0094410\ttotal: 6.01s\tremaining: 1.6s\n",
            "237:\tlearn: 0.0093966\ttotal: 6.05s\tremaining: 1.58s\n",
            "238:\tlearn: 0.0093022\ttotal: 6.08s\tremaining: 1.55s\n",
            "239:\tlearn: 0.0092821\ttotal: 6.1s\tremaining: 1.52s\n",
            "240:\tlearn: 0.0091192\ttotal: 6.13s\tremaining: 1.5s\n",
            "241:\tlearn: 0.0090503\ttotal: 6.16s\tremaining: 1.48s\n",
            "242:\tlearn: 0.0089012\ttotal: 6.18s\tremaining: 1.45s\n",
            "243:\tlearn: 0.0088029\ttotal: 6.21s\tremaining: 1.42s\n",
            "244:\tlearn: 0.0086976\ttotal: 6.23s\tremaining: 1.4s\n",
            "245:\tlearn: 0.0086123\ttotal: 6.26s\tremaining: 1.37s\n",
            "246:\tlearn: 0.0085216\ttotal: 6.29s\tremaining: 1.35s\n",
            "247:\tlearn: 0.0083096\ttotal: 6.31s\tremaining: 1.32s\n",
            "248:\tlearn: 0.0082458\ttotal: 6.33s\tremaining: 1.3s\n",
            "249:\tlearn: 0.0082045\ttotal: 6.36s\tremaining: 1.27s\n",
            "250:\tlearn: 0.0081145\ttotal: 6.38s\tremaining: 1.25s\n",
            "251:\tlearn: 0.0080897\ttotal: 6.41s\tremaining: 1.22s\n",
            "252:\tlearn: 0.0079944\ttotal: 6.43s\tremaining: 1.2s\n",
            "253:\tlearn: 0.0079193\ttotal: 6.46s\tremaining: 1.17s\n",
            "254:\tlearn: 0.0079065\ttotal: 6.48s\tremaining: 1.14s\n",
            "255:\tlearn: 0.0077433\ttotal: 6.51s\tremaining: 1.12s\n",
            "256:\tlearn: 0.0076587\ttotal: 6.53s\tremaining: 1.09s\n",
            "257:\tlearn: 0.0075287\ttotal: 6.56s\tremaining: 1.07s\n",
            "258:\tlearn: 0.0074540\ttotal: 6.58s\tremaining: 1.04s\n",
            "259:\tlearn: 0.0074201\ttotal: 6.6s\tremaining: 1.01s\n",
            "260:\tlearn: 0.0073522\ttotal: 6.63s\tremaining: 990ms\n",
            "261:\tlearn: 0.0073281\ttotal: 6.65s\tremaining: 964ms\n",
            "262:\tlearn: 0.0073090\ttotal: 6.67s\tremaining: 938ms\n",
            "263:\tlearn: 0.0072935\ttotal: 6.69s\tremaining: 912ms\n",
            "264:\tlearn: 0.0072409\ttotal: 6.72s\tremaining: 887ms\n",
            "265:\tlearn: 0.0072223\ttotal: 6.74s\tremaining: 862ms\n",
            "266:\tlearn: 0.0071289\ttotal: 6.77s\tremaining: 836ms\n",
            "267:\tlearn: 0.0070500\ttotal: 6.79s\tremaining: 811ms\n",
            "268:\tlearn: 0.0070361\ttotal: 6.81s\tremaining: 785ms\n",
            "269:\tlearn: 0.0069313\ttotal: 6.84s\tremaining: 760ms\n",
            "270:\tlearn: 0.0068758\ttotal: 6.86s\tremaining: 734ms\n",
            "271:\tlearn: 0.0068155\ttotal: 6.89s\tremaining: 709ms\n",
            "272:\tlearn: 0.0067838\ttotal: 6.92s\tremaining: 684ms\n",
            "273:\tlearn: 0.0066458\ttotal: 6.95s\tremaining: 659ms\n",
            "274:\tlearn: 0.0065729\ttotal: 6.98s\tremaining: 634ms\n",
            "275:\tlearn: 0.0065696\ttotal: 7s\tremaining: 609ms\n",
            "276:\tlearn: 0.0064887\ttotal: 7.02s\tremaining: 583ms\n",
            "277:\tlearn: 0.0064240\ttotal: 7.06s\tremaining: 559ms\n",
            "278:\tlearn: 0.0063199\ttotal: 7.08s\tremaining: 533ms\n",
            "279:\tlearn: 0.0062323\ttotal: 7.11s\tremaining: 508ms\n",
            "280:\tlearn: 0.0062045\ttotal: 7.13s\tremaining: 482ms\n",
            "281:\tlearn: 0.0061191\ttotal: 7.17s\tremaining: 457ms\n",
            "282:\tlearn: 0.0060668\ttotal: 7.19s\tremaining: 432ms\n",
            "283:\tlearn: 0.0060154\ttotal: 7.21s\tremaining: 406ms\n",
            "284:\tlearn: 0.0059870\ttotal: 7.24s\tremaining: 381ms\n",
            "285:\tlearn: 0.0059215\ttotal: 7.27s\tremaining: 356ms\n",
            "286:\tlearn: 0.0058791\ttotal: 7.29s\tremaining: 330ms\n",
            "287:\tlearn: 0.0058337\ttotal: 7.31s\tremaining: 305ms\n",
            "288:\tlearn: 0.0058337\ttotal: 7.33s\tremaining: 279ms\n",
            "289:\tlearn: 0.0057944\ttotal: 7.36s\tremaining: 254ms\n",
            "290:\tlearn: 0.0057755\ttotal: 7.38s\tremaining: 228ms\n",
            "291:\tlearn: 0.0057755\ttotal: 7.4s\tremaining: 203ms\n",
            "292:\tlearn: 0.0057267\ttotal: 7.42s\tremaining: 177ms\n",
            "293:\tlearn: 0.0057132\ttotal: 7.45s\tremaining: 152ms\n",
            "294:\tlearn: 0.0057131\ttotal: 7.46s\tremaining: 127ms\n",
            "295:\tlearn: 0.0056953\ttotal: 7.49s\tremaining: 101ms\n",
            "296:\tlearn: 0.0056662\ttotal: 7.51s\tremaining: 75.9ms\n",
            "297:\tlearn: 0.0056442\ttotal: 7.54s\tremaining: 50.6ms\n",
            "298:\tlearn: 0.0055632\ttotal: 7.56s\tremaining: 25.3ms\n",
            "299:\tlearn: 0.0055466\ttotal: 7.58s\tremaining: 0us\n"
          ]
        },
        {
          "output_type": "execute_result",
          "data": {
            "text/plain": [
              "<catboost.core.CatBoostClassifier at 0x7f54267bb050>"
            ]
          },
          "metadata": {},
          "execution_count": 157
        }
      ]
    },
    {
      "cell_type": "markdown",
      "source": [
        "####LGBMClassifier"
      ],
      "metadata": {
        "id": "rqfeWg7MeUj1"
      }
    },
    {
      "cell_type": "code",
      "source": [
        "##LGBM\n",
        "lgbm = LGBMClassifier(learning_rate = 1)\n",
        "lgbm.fit(x_train, y_train)"
      ],
      "metadata": {
        "colab": {
          "base_uri": "https://localhost:8080/"
        },
        "id": "ImhTKA-tdJIa",
        "outputId": "7403f930-0743-4270-a565-e51c982d71a3"
      },
      "execution_count": 158,
      "outputs": [
        {
          "output_type": "execute_result",
          "data": {
            "text/plain": [
              "LGBMClassifier(learning_rate=1)"
            ]
          },
          "metadata": {},
          "execution_count": 158
        }
      ]
    },
    {
      "cell_type": "markdown",
      "source": [
        "####ExtraTreesClassifier"
      ],
      "metadata": {
        "id": "9FvkXQ5eeXhh"
      }
    },
    {
      "cell_type": "code",
      "source": [
        "##ExtraTreesClassifier\n",
        "etc = ExtraTreesClassifier()\n",
        "etc.fit(x_train, y_train)"
      ],
      "metadata": {
        "colab": {
          "base_uri": "https://localhost:8080/"
        },
        "id": "I0tlILZrdJCN",
        "outputId": "c7f06045-b421-4eb8-d662-8f6f45486cdb"
      },
      "execution_count": 159,
      "outputs": [
        {
          "output_type": "execute_result",
          "data": {
            "text/plain": [
              "ExtraTreesClassifier()"
            ]
          },
          "metadata": {},
          "execution_count": 159
        }
      ]
    },
    {
      "cell_type": "markdown",
      "source": [
        "####HistGradientBoostingClassfier"
      ],
      "metadata": {
        "id": "cRL0WPuHeaVV"
      }
    },
    {
      "cell_type": "code",
      "source": [
        "##HistGradientBoostingClasifier\n",
        "hgbc = HistGradientBoostingClassifier(random_state=0)\n",
        "hgbc.fit(x_train,y_train)"
      ],
      "metadata": {
        "colab": {
          "base_uri": "https://localhost:8080/"
        },
        "id": "X0EMlVIcdI_N",
        "outputId": "588f87bb-2676-4812-905f-a97d0c2901d6"
      },
      "execution_count": 160,
      "outputs": [
        {
          "output_type": "execute_result",
          "data": {
            "text/plain": [
              "HistGradientBoostingClassifier(random_state=0)"
            ]
          },
          "metadata": {},
          "execution_count": 160
        }
      ]
    },
    {
      "cell_type": "markdown",
      "source": [
        "<br/></br>\n",
        "\n",
        "### 3-3) 모델 별 비교"
      ],
      "metadata": {
        "id": "KZNuvcuvPbAE"
      }
    },
    {
      "cell_type": "code",
      "metadata": {
        "id": "2oMfyL58YVcF",
        "colab": {
          "base_uri": "https://localhost:8080/",
          "height": 359
        },
        "outputId": "bd9f55cd-72d8-43cb-9b05-b9db9d75b597"
      },
      "source": [
        "models = pd.DataFrame({\n",
        "    'Model' : ['Decision Tree Classifier', 'Random Forest Classifier', \n",
        "               'XgBoost',  'Cat Boost', 'Gradient Boosting Classifier','Ada Boost Classifier', 'Logistic regression',\"LightGBMClassifier\",\"ExtraTreesClassifier\",\"HistGradientBoostingClassifier\"],\n",
        "\n",
        "    'Score' : [clf.score(x_test,y_test),rd_clf.score(x_test,y_test), xgb.score(x_test,y_test), cat.score(x_test,y_test) , gb.score(x_test,y_test) , ada.score(x_test,y_test) , lr.score(x_test,y_test),lgbm.score(x_test,y_test),etc.score(x_test,y_test),hgbc.score(x_test,y_test)]\n",
        "})\n",
        "\n",
        "models.sort_values(by = 'Score', ascending = False)"
      ],
      "execution_count": 161,
      "outputs": [
        {
          "output_type": "execute_result",
          "data": {
            "text/html": [
              "<div>\n",
              "<style scoped>\n",
              "    .dataframe tbody tr th:only-of-type {\n",
              "        vertical-align: middle;\n",
              "    }\n",
              "\n",
              "    .dataframe tbody tr th {\n",
              "        vertical-align: top;\n",
              "    }\n",
              "\n",
              "    .dataframe thead th {\n",
              "        text-align: right;\n",
              "    }\n",
              "</style>\n",
              "<table border=\"1\" class=\"dataframe\">\n",
              "  <thead>\n",
              "    <tr style=\"text-align: right;\">\n",
              "      <th></th>\n",
              "      <th>Model</th>\n",
              "      <th>Score</th>\n",
              "    </tr>\n",
              "  </thead>\n",
              "  <tbody>\n",
              "    <tr>\n",
              "      <th>2</th>\n",
              "      <td>XgBoost</td>\n",
              "      <td>0.999091</td>\n",
              "    </tr>\n",
              "    <tr>\n",
              "      <th>3</th>\n",
              "      <td>Cat Boost</td>\n",
              "      <td>0.999035</td>\n",
              "    </tr>\n",
              "    <tr>\n",
              "      <th>9</th>\n",
              "      <td>HistGradientBoostingClassifier</td>\n",
              "      <td>0.989125</td>\n",
              "    </tr>\n",
              "    <tr>\n",
              "      <th>7</th>\n",
              "      <td>LightGBMClassifier</td>\n",
              "      <td>0.975923</td>\n",
              "    </tr>\n",
              "    <tr>\n",
              "      <th>1</th>\n",
              "      <td>Random Forest Classifier</td>\n",
              "      <td>0.958660</td>\n",
              "    </tr>\n",
              "    <tr>\n",
              "      <th>8</th>\n",
              "      <td>ExtraTreesClassifier</td>\n",
              "      <td>0.957865</td>\n",
              "    </tr>\n",
              "    <tr>\n",
              "      <th>5</th>\n",
              "      <td>Ada Boost Classifier</td>\n",
              "      <td>0.948779</td>\n",
              "    </tr>\n",
              "    <tr>\n",
              "      <th>0</th>\n",
              "      <td>Decision Tree Classifier</td>\n",
              "      <td>0.947729</td>\n",
              "    </tr>\n",
              "    <tr>\n",
              "      <th>4</th>\n",
              "      <td>Gradient Boosting Classifier</td>\n",
              "      <td>0.926519</td>\n",
              "    </tr>\n",
              "    <tr>\n",
              "      <th>6</th>\n",
              "      <td>Logistic regression</td>\n",
              "      <td>0.793725</td>\n",
              "    </tr>\n",
              "  </tbody>\n",
              "</table>\n",
              "</div>"
            ],
            "text/plain": [
              "                            Model     Score\n",
              "2                         XgBoost  0.999091\n",
              "3                       Cat Boost  0.999035\n",
              "9  HistGradientBoostingClassifier  0.989125\n",
              "7              LightGBMClassifier  0.975923\n",
              "1        Random Forest Classifier  0.958660\n",
              "8            ExtraTreesClassifier  0.957865\n",
              "5            Ada Boost Classifier  0.948779\n",
              "0        Decision Tree Classifier  0.947729\n",
              "4    Gradient Boosting Classifier  0.926519\n",
              "6             Logistic regression  0.793725"
            ]
          },
          "metadata": {},
          "execution_count": 161
        }
      ]
    },
    {
      "cell_type": "code",
      "source": [
        "import plotly.express as px\n",
        "px.bar(data_frame = models, x = 'Score', y = 'Model', orientation='h', color = 'Score', template = 'plotly_dark', title = 'Models Comparison')"
      ],
      "metadata": {
        "colab": {
          "base_uri": "https://localhost:8080/",
          "height": 542
        },
        "id": "UI54r3h0o3M3",
        "outputId": "3ee00944-2140-44f2-ef20-cf7220735127"
      },
      "execution_count": 162,
      "outputs": [
        {
          "output_type": "display_data",
          "data": {
            "text/html": [
              "<html>\n",
              "<head><meta charset=\"utf-8\" /></head>\n",
              "<body>\n",
              "    <div>\n",
              "            <script src=\"https://cdnjs.cloudflare.com/ajax/libs/mathjax/2.7.5/MathJax.js?config=TeX-AMS-MML_SVG\"></script><script type=\"text/javascript\">if (window.MathJax) {MathJax.Hub.Config({SVG: {font: \"STIX-Web\"}});}</script>\n",
              "                <script type=\"text/javascript\">window.PlotlyConfig = {MathJaxConfig: 'local'};</script>\n",
              "        <script src=\"https://cdn.plot.ly/plotly-latest.min.js\"></script>    \n",
              "            <div id=\"a54ed678-a95f-4dd6-b247-0d018cdad899\" class=\"plotly-graph-div\" style=\"height:525px; width:100%;\"></div>\n",
              "            <script type=\"text/javascript\">\n",
              "                \n",
              "                    window.PLOTLYENV=window.PLOTLYENV || {};\n",
              "                    \n",
              "                if (document.getElementById(\"a54ed678-a95f-4dd6-b247-0d018cdad899\")) {\n",
              "                    Plotly.newPlot(\n",
              "                        'a54ed678-a95f-4dd6-b247-0d018cdad899',\n",
              "                        [{\"alignmentgroup\": \"True\", \"hoverlabel\": {\"namelength\": 0}, \"hovertemplate\": \"Score=%{marker.color}<br>Model=%{y}\", \"legendgroup\": \"\", \"marker\": {\"color\": [0.9477285633162975, 0.9586598523566155, 0.9990914253265191, 0.9990346394094265, 0.926519023282226, 0.94877910278251, 0.793725156161272, 0.9759227711527542, 0.9578648495173196, 0.9891254968767745], \"coloraxis\": \"coloraxis\"}, \"name\": \"\", \"offsetgroup\": \"\", \"orientation\": \"h\", \"showlegend\": false, \"textposition\": \"auto\", \"type\": \"bar\", \"x\": [0.9477285633162975, 0.9586598523566155, 0.9990914253265191, 0.9990346394094265, 0.926519023282226, 0.94877910278251, 0.793725156161272, 0.9759227711527542, 0.9578648495173196, 0.9891254968767745], \"xaxis\": \"x\", \"y\": [\"Decision Tree Classifier\", \"Random Forest Classifier\", \"XgBoost\", \"Cat Boost\", \"Gradient Boosting Classifier\", \"Ada Boost Classifier\", \"Logistic regression\", \"LightGBMClassifier\", \"ExtraTreesClassifier\", \"HistGradientBoostingClassifier\"], \"yaxis\": \"y\"}],\n",
              "                        {\"barmode\": \"relative\", \"coloraxis\": {\"colorbar\": {\"title\": {\"text\": \"Score\"}}, \"colorscale\": [[0.0, \"#0d0887\"], [0.1111111111111111, \"#46039f\"], [0.2222222222222222, \"#7201a8\"], [0.3333333333333333, \"#9c179e\"], [0.4444444444444444, \"#bd3786\"], [0.5555555555555556, \"#d8576b\"], [0.6666666666666666, \"#ed7953\"], [0.7777777777777778, \"#fb9f3a\"], [0.8888888888888888, \"#fdca26\"], [1.0, \"#f0f921\"]]}, \"legend\": {\"tracegroupgap\": 0}, \"template\": {\"data\": {\"bar\": [{\"error_x\": {\"color\": \"#f2f5fa\"}, \"error_y\": {\"color\": \"#f2f5fa\"}, \"marker\": {\"line\": {\"color\": \"rgb(17,17,17)\", \"width\": 0.5}}, \"type\": \"bar\"}], \"barpolar\": [{\"marker\": {\"line\": {\"color\": \"rgb(17,17,17)\", \"width\": 0.5}}, \"type\": \"barpolar\"}], \"carpet\": [{\"aaxis\": {\"endlinecolor\": \"#A2B1C6\", \"gridcolor\": \"#506784\", \"linecolor\": \"#506784\", \"minorgridcolor\": \"#506784\", \"startlinecolor\": \"#A2B1C6\"}, \"baxis\": {\"endlinecolor\": \"#A2B1C6\", \"gridcolor\": \"#506784\", \"linecolor\": \"#506784\", \"minorgridcolor\": \"#506784\", \"startlinecolor\": \"#A2B1C6\"}, \"type\": \"carpet\"}], \"choropleth\": [{\"colorbar\": {\"outlinewidth\": 0, \"ticks\": \"\"}, \"type\": \"choropleth\"}], \"contour\": [{\"colorbar\": {\"outlinewidth\": 0, \"ticks\": \"\"}, \"colorscale\": [[0.0, \"#0d0887\"], [0.1111111111111111, \"#46039f\"], [0.2222222222222222, \"#7201a8\"], [0.3333333333333333, \"#9c179e\"], [0.4444444444444444, \"#bd3786\"], [0.5555555555555556, \"#d8576b\"], [0.6666666666666666, \"#ed7953\"], [0.7777777777777778, \"#fb9f3a\"], [0.8888888888888888, \"#fdca26\"], [1.0, \"#f0f921\"]], \"type\": \"contour\"}], \"contourcarpet\": [{\"colorbar\": {\"outlinewidth\": 0, \"ticks\": \"\"}, \"type\": \"contourcarpet\"}], \"heatmap\": [{\"colorbar\": {\"outlinewidth\": 0, \"ticks\": \"\"}, \"colorscale\": [[0.0, \"#0d0887\"], [0.1111111111111111, \"#46039f\"], [0.2222222222222222, \"#7201a8\"], [0.3333333333333333, \"#9c179e\"], [0.4444444444444444, \"#bd3786\"], [0.5555555555555556, \"#d8576b\"], [0.6666666666666666, \"#ed7953\"], [0.7777777777777778, \"#fb9f3a\"], [0.8888888888888888, \"#fdca26\"], [1.0, \"#f0f921\"]], \"type\": \"heatmap\"}], \"heatmapgl\": [{\"colorbar\": {\"outlinewidth\": 0, \"ticks\": \"\"}, \"colorscale\": [[0.0, \"#0d0887\"], [0.1111111111111111, \"#46039f\"], [0.2222222222222222, \"#7201a8\"], [0.3333333333333333, \"#9c179e\"], [0.4444444444444444, \"#bd3786\"], [0.5555555555555556, \"#d8576b\"], [0.6666666666666666, \"#ed7953\"], [0.7777777777777778, \"#fb9f3a\"], [0.8888888888888888, \"#fdca26\"], [1.0, \"#f0f921\"]], \"type\": \"heatmapgl\"}], \"histogram\": [{\"marker\": {\"colorbar\": {\"outlinewidth\": 0, \"ticks\": \"\"}}, \"type\": \"histogram\"}], \"histogram2d\": [{\"colorbar\": {\"outlinewidth\": 0, \"ticks\": \"\"}, \"colorscale\": [[0.0, \"#0d0887\"], [0.1111111111111111, \"#46039f\"], [0.2222222222222222, \"#7201a8\"], [0.3333333333333333, \"#9c179e\"], [0.4444444444444444, \"#bd3786\"], [0.5555555555555556, \"#d8576b\"], [0.6666666666666666, \"#ed7953\"], [0.7777777777777778, \"#fb9f3a\"], [0.8888888888888888, \"#fdca26\"], [1.0, \"#f0f921\"]], \"type\": \"histogram2d\"}], \"histogram2dcontour\": [{\"colorbar\": {\"outlinewidth\": 0, \"ticks\": \"\"}, \"colorscale\": [[0.0, \"#0d0887\"], [0.1111111111111111, \"#46039f\"], [0.2222222222222222, \"#7201a8\"], [0.3333333333333333, \"#9c179e\"], [0.4444444444444444, \"#bd3786\"], [0.5555555555555556, \"#d8576b\"], [0.6666666666666666, \"#ed7953\"], [0.7777777777777778, \"#fb9f3a\"], [0.8888888888888888, \"#fdca26\"], [1.0, \"#f0f921\"]], \"type\": \"histogram2dcontour\"}], \"mesh3d\": [{\"colorbar\": {\"outlinewidth\": 0, \"ticks\": \"\"}, \"type\": \"mesh3d\"}], \"parcoords\": [{\"line\": {\"colorbar\": {\"outlinewidth\": 0, \"ticks\": \"\"}}, \"type\": \"parcoords\"}], \"pie\": [{\"automargin\": true, \"type\": \"pie\"}], \"scatter\": [{\"marker\": {\"line\": {\"color\": \"#283442\"}}, \"type\": \"scatter\"}], \"scatter3d\": [{\"line\": {\"colorbar\": {\"outlinewidth\": 0, \"ticks\": \"\"}}, \"marker\": {\"colorbar\": {\"outlinewidth\": 0, \"ticks\": \"\"}}, \"type\": \"scatter3d\"}], \"scattercarpet\": [{\"marker\": {\"colorbar\": {\"outlinewidth\": 0, \"ticks\": \"\"}}, \"type\": \"scattercarpet\"}], \"scattergeo\": [{\"marker\": {\"colorbar\": {\"outlinewidth\": 0, \"ticks\": \"\"}}, \"type\": \"scattergeo\"}], \"scattergl\": [{\"marker\": {\"line\": {\"color\": \"#283442\"}}, \"type\": \"scattergl\"}], \"scattermapbox\": [{\"marker\": {\"colorbar\": {\"outlinewidth\": 0, \"ticks\": \"\"}}, \"type\": \"scattermapbox\"}], \"scatterpolar\": [{\"marker\": {\"colorbar\": {\"outlinewidth\": 0, \"ticks\": \"\"}}, \"type\": \"scatterpolar\"}], \"scatterpolargl\": [{\"marker\": {\"colorbar\": {\"outlinewidth\": 0, \"ticks\": \"\"}}, \"type\": \"scatterpolargl\"}], \"scatterternary\": [{\"marker\": {\"colorbar\": {\"outlinewidth\": 0, \"ticks\": \"\"}}, \"type\": \"scatterternary\"}], \"surface\": [{\"colorbar\": {\"outlinewidth\": 0, \"ticks\": \"\"}, \"colorscale\": [[0.0, \"#0d0887\"], [0.1111111111111111, \"#46039f\"], [0.2222222222222222, \"#7201a8\"], [0.3333333333333333, \"#9c179e\"], [0.4444444444444444, \"#bd3786\"], [0.5555555555555556, \"#d8576b\"], [0.6666666666666666, \"#ed7953\"], [0.7777777777777778, \"#fb9f3a\"], [0.8888888888888888, \"#fdca26\"], [1.0, \"#f0f921\"]], \"type\": \"surface\"}], \"table\": [{\"cells\": {\"fill\": {\"color\": \"#506784\"}, \"line\": {\"color\": \"rgb(17,17,17)\"}}, \"header\": {\"fill\": {\"color\": \"#2a3f5f\"}, \"line\": {\"color\": \"rgb(17,17,17)\"}}, \"type\": \"table\"}]}, \"layout\": {\"annotationdefaults\": {\"arrowcolor\": \"#f2f5fa\", \"arrowhead\": 0, \"arrowwidth\": 1}, \"coloraxis\": {\"colorbar\": {\"outlinewidth\": 0, \"ticks\": \"\"}}, \"colorscale\": {\"diverging\": [[0, \"#8e0152\"], [0.1, \"#c51b7d\"], [0.2, \"#de77ae\"], [0.3, \"#f1b6da\"], [0.4, \"#fde0ef\"], [0.5, \"#f7f7f7\"], [0.6, \"#e6f5d0\"], [0.7, \"#b8e186\"], [0.8, \"#7fbc41\"], [0.9, \"#4d9221\"], [1, \"#276419\"]], \"sequential\": [[0.0, \"#0d0887\"], [0.1111111111111111, \"#46039f\"], [0.2222222222222222, \"#7201a8\"], [0.3333333333333333, \"#9c179e\"], [0.4444444444444444, \"#bd3786\"], [0.5555555555555556, \"#d8576b\"], [0.6666666666666666, \"#ed7953\"], [0.7777777777777778, \"#fb9f3a\"], [0.8888888888888888, \"#fdca26\"], [1.0, \"#f0f921\"]], \"sequentialminus\": [[0.0, \"#0d0887\"], [0.1111111111111111, \"#46039f\"], [0.2222222222222222, \"#7201a8\"], [0.3333333333333333, \"#9c179e\"], [0.4444444444444444, \"#bd3786\"], [0.5555555555555556, \"#d8576b\"], [0.6666666666666666, \"#ed7953\"], [0.7777777777777778, \"#fb9f3a\"], [0.8888888888888888, \"#fdca26\"], [1.0, \"#f0f921\"]]}, \"colorway\": [\"#636efa\", \"#EF553B\", \"#00cc96\", \"#ab63fa\", \"#FFA15A\", \"#19d3f3\", \"#FF6692\", \"#B6E880\", \"#FF97FF\", \"#FECB52\"], \"font\": {\"color\": \"#f2f5fa\"}, \"geo\": {\"bgcolor\": \"rgb(17,17,17)\", \"lakecolor\": \"rgb(17,17,17)\", \"landcolor\": \"rgb(17,17,17)\", \"showlakes\": true, \"showland\": true, \"subunitcolor\": \"#506784\"}, \"hoverlabel\": {\"align\": \"left\"}, \"hovermode\": \"closest\", \"mapbox\": {\"style\": \"dark\"}, \"paper_bgcolor\": \"rgb(17,17,17)\", \"plot_bgcolor\": \"rgb(17,17,17)\", \"polar\": {\"angularaxis\": {\"gridcolor\": \"#506784\", \"linecolor\": \"#506784\", \"ticks\": \"\"}, \"bgcolor\": \"rgb(17,17,17)\", \"radialaxis\": {\"gridcolor\": \"#506784\", \"linecolor\": \"#506784\", \"ticks\": \"\"}}, \"scene\": {\"xaxis\": {\"backgroundcolor\": \"rgb(17,17,17)\", \"gridcolor\": \"#506784\", \"gridwidth\": 2, \"linecolor\": \"#506784\", \"showbackground\": true, \"ticks\": \"\", \"zerolinecolor\": \"#C8D4E3\"}, \"yaxis\": {\"backgroundcolor\": \"rgb(17,17,17)\", \"gridcolor\": \"#506784\", \"gridwidth\": 2, \"linecolor\": \"#506784\", \"showbackground\": true, \"ticks\": \"\", \"zerolinecolor\": \"#C8D4E3\"}, \"zaxis\": {\"backgroundcolor\": \"rgb(17,17,17)\", \"gridcolor\": \"#506784\", \"gridwidth\": 2, \"linecolor\": \"#506784\", \"showbackground\": true, \"ticks\": \"\", \"zerolinecolor\": \"#C8D4E3\"}}, \"shapedefaults\": {\"line\": {\"color\": \"#f2f5fa\"}}, \"sliderdefaults\": {\"bgcolor\": \"#C8D4E3\", \"bordercolor\": \"rgb(17,17,17)\", \"borderwidth\": 1, \"tickwidth\": 0}, \"ternary\": {\"aaxis\": {\"gridcolor\": \"#506784\", \"linecolor\": \"#506784\", \"ticks\": \"\"}, \"baxis\": {\"gridcolor\": \"#506784\", \"linecolor\": \"#506784\", \"ticks\": \"\"}, \"bgcolor\": \"rgb(17,17,17)\", \"caxis\": {\"gridcolor\": \"#506784\", \"linecolor\": \"#506784\", \"ticks\": \"\"}}, \"title\": {\"x\": 0.05}, \"updatemenudefaults\": {\"bgcolor\": \"#506784\", \"borderwidth\": 0}, \"xaxis\": {\"automargin\": true, \"gridcolor\": \"#283442\", \"linecolor\": \"#506784\", \"ticks\": \"\", \"title\": {\"standoff\": 15}, \"zerolinecolor\": \"#283442\", \"zerolinewidth\": 2}, \"yaxis\": {\"automargin\": true, \"gridcolor\": \"#283442\", \"linecolor\": \"#506784\", \"ticks\": \"\", \"title\": {\"standoff\": 15}, \"zerolinecolor\": \"#283442\", \"zerolinewidth\": 2}}}, \"title\": {\"text\": \"Models Comparison\"}, \"xaxis\": {\"anchor\": \"y\", \"domain\": [0.0, 1.0], \"title\": {\"text\": \"Score\"}}, \"yaxis\": {\"anchor\": \"x\", \"domain\": [0.0, 1.0], \"title\": {\"text\": \"Model\"}}},\n",
              "                        {\"responsive\": true}\n",
              "                    ).then(function(){\n",
              "                            \n",
              "var gd = document.getElementById('a54ed678-a95f-4dd6-b247-0d018cdad899');\n",
              "var x = new MutationObserver(function (mutations, observer) {{\n",
              "        var display = window.getComputedStyle(gd).display;\n",
              "        if (!display || display === 'none') {{\n",
              "            console.log([gd, 'removed!']);\n",
              "            Plotly.purge(gd);\n",
              "            observer.disconnect();\n",
              "        }}\n",
              "}});\n",
              "\n",
              "// Listen for the removal of the full notebook cells\n",
              "var notebookContainer = gd.closest('#notebook-container');\n",
              "if (notebookContainer) {{\n",
              "    x.observe(notebookContainer, {childList: true});\n",
              "}}\n",
              "\n",
              "// Listen for the clearing of the current output cell\n",
              "var outputEl = gd.closest('.output');\n",
              "if (outputEl) {{\n",
              "    x.observe(outputEl, {childList: true});\n",
              "}}\n",
              "\n",
              "                        })\n",
              "                };\n",
              "                \n",
              "            </script>\n",
              "        </div>\n",
              "</body>\n",
              "</html>"
            ]
          },
          "metadata": {}
        }
      ]
    },
    {
      "cell_type": "markdown",
      "source": [
        "<br/></br>\n",
        "\n",
        "### 3-4) ROC 커브 구하기"
      ],
      "metadata": {
        "id": "BOD6AD7bsMq7"
      }
    },
    {
      "cell_type": "code",
      "source": [
        "from sklearn.metrics import accuracy_score, confusion_matrix, classification_report\n",
        "from sklearn.metrics import roc_curve\n",
        "from sklearn.metrics import roc_auc_score\n",
        "\n",
        "train_score = xgb.score(x_train,y_train)\n",
        "test_score = xgb.score(x_test,y_test)\n",
        "\n",
        "y_pred = xgb.predict(x_test)\n",
        "y_pred_proba_test = xgb.predict_proba(x_test)[:,1]\n",
        "acc = accuracy_score(y_test, y_pred)\n",
        "conf = confusion_matrix(y_test, y_pred)\n",
        "final_model_report = classification_report(y_test, y_pred)\n",
        "\n",
        "# ROC curve\n",
        "fpr, tpr, thresholds = roc_curve(y_test, y_pred_proba_test)\n",
        "roc = pd.DataFrame({\n",
        "    'FPR(Fall-out)': fpr, \n",
        "    'TPRate(Recall)': tpr, \n",
        "    'Threshold': thresholds\n",
        "})\n",
        "\n",
        "# 시각화\n",
        "plt.scatter(fpr, tpr)\n",
        "plt.title(\"ROC curve\")\n",
        "plt.xlabel(\"FPR(Fall-out)\")\n",
        "plt.ylabel(\"TPR(Recall)\");"
      ],
      "metadata": {
        "colab": {
          "base_uri": "https://localhost:8080/",
          "height": 295
        },
        "id": "cI2R8mdZo3IC",
        "outputId": "cac8b926-3ff9-4a9b-fdc2-dc9f6850259d"
      },
      "execution_count": 163,
      "outputs": [
        {
          "output_type": "display_data",
          "data": {
            "image/png": "[encoded data removed]",
            "text/plain": [
              "<Figure size 432x288 with 1 Axes>"
            ]
          },
          "metadata": {
            "needs_background": "light"
          }
        }
      ]
    },
    {
      "cell_type": "code",
      "source": [
        "# AUC score 구하기\n",
        "auc_score = roc_auc_score(y_test, y_pred_proba_test)\n",
        "print('AUC score:', auc_score)"
      ],
      "metadata": {
        "colab": {
          "base_uri": "https://localhost:8080/"
        },
        "id": "njScyF44o3B6",
        "outputId": "38cfc15c-aa02-4d73-dd69-872f9d775146"
      },
      "execution_count": 164,
      "outputs": [
        {
          "output_type": "stream",
          "name": "stdout",
          "text": [
            "AUC score: 0.9999874723868944\n"
          ]
        }
      ]
    },
    {
      "cell_type": "markdown",
      "source": [
        "<br/></br>\n",
        "\n",
        "### 3-5) feature들의 중요도 비교"
      ],
      "metadata": {
        "id": "HgkKSH1psYsR"
      }
    },
    {
      "cell_type": "code",
      "source": [
        "feature_impt = pd.Series(xgb.feature_importances_, feature_names).sort_values(ascending=False)\n",
        "\n",
        "print(feature_impt)\n",
        "\n",
        "# 상위 10개 시각화\n",
        "feature_impt.sort_values(ascending=True)[-10:].plot.barh();"
      ],
      "metadata": {
        "colab": {
          "base_uri": "https://localhost:8080/",
          "height": 843
        },
        "id": "HLfXXxbdpUn4",
        "outputId": "7909f418-3488-4a4f-c874-9c97bc9e6966"
      },
      "execution_count": 165,
      "outputs": [
        {
          "output_type": "stream",
          "name": "stdout",
          "text": [
            "deposit_type                      0.499177\n",
            "required_car_parking_spaces       0.086810\n",
            "previous_cancellations            0.073213\n",
            "Room                              0.053482\n",
            "market_segment                    0.044443\n",
            "total_of_special_requests         0.041688\n",
            "country                           0.030542\n",
            "agent                             0.020594\n",
            "previous_bookings_not_canceled    0.020524\n",
            "arrival_date_week_number          0.017150\n",
            "customer_type                     0.015949\n",
            "arrival_date_day_of_month         0.012834\n",
            "reservation_month                 0.012590\n",
            "arrival_date_year                 0.011273\n",
            "reservation_day                   0.007601\n",
            "lead_time                         0.007515\n",
            "arrival_date_month                0.006688\n",
            "reservation_year                  0.006444\n",
            "total_staying_nights              0.006104\n",
            "adults                            0.004706\n",
            "days_in_waiting_list              0.003455\n",
            "stays_in_weekend_nights           0.003007\n",
            "stays_in_week_nights              0.002788\n",
            "is_repeated_guest                 0.002320\n",
            "adr                               0.002273\n",
            "meal                              0.002163\n",
            "children                          0.001849\n",
            "hotel                             0.001623\n",
            "company                           0.000948\n",
            "reserved_room_type                0.000249\n",
            "not_canceled                      0.000000\n",
            "more_canceled                     0.000000\n",
            "babies                            0.000000\n",
            "dtype: float32\n"
          ]
        },
        {
          "output_type": "display_data",
          "data": {
            "image/png": "[encoded data removed]",
            "text/plain": [
              "<Figure size 432x288 with 1 Axes>"
            ]
          },
          "metadata": {
            "needs_background": "light"
          }
        }
      ]
    },
    {
      "cell_type": "markdown",
      "source": [
        "<br/></br>\n",
        "\n",
        "### 3-6) 특정 feature PDP 구하기"
      ],
      "metadata": {
        "id": "XP3n0z-5svnJ"
      }
    },
    {
      "cell_type": "code",
      "source": [
        "from sklearn.pipeline import make_pipeline\n",
        "from category_encoders import OrdinalEncoder\n",
        "from sklearn.impute import SimpleImputer\n",
        "\n",
        "model = make_pipeline(\n",
        "    OrdinalEncoder(), \n",
        "    SimpleImputer(),\n",
        "    XGBClassifier(booster = 'gbtree', learning_rate = 0.1, max_depth = 5, n_estimators = 500)\n",
        ")\n",
        "model.fit(x_train,y_train)"
      ],
      "metadata": {
        "colab": {
          "base_uri": "https://localhost:8080/"
        },
        "id": "C8lkzPA2pUmA",
        "outputId": "2a0efcc9-074f-4297-de35-b8e3b1bd3c1f"
      },
      "execution_count": 166,
      "outputs": [
        {
          "output_type": "execute_result",
          "data": {
            "text/plain": [
              "Pipeline(steps=[('ordinalencoder', OrdinalEncoder(cols=[], mapping=[])),\n",
              "                ('simpleimputer', SimpleImputer()),\n",
              "                ('xgbclassifier',\n",
              "                 XGBClassifier(max_depth=5, n_estimators=500))])"
            ]
          },
          "metadata": {},
          "execution_count": 166
        }
      ]
    },
    {
      "cell_type": "markdown",
      "source": [
        "#### deposit_type"
      ],
      "metadata": {
        "id": "aWUZOxDqs3vq"
      }
    },
    {
      "cell_type": "code",
      "source": [
        "feature = 'deposit_type'\n",
        "features = feature_names\n",
        "pdp_dist = pdp.pdp_isolate(model=model, dataset=X_train, model_features=features, feature=feature)\n",
        "pdp.pdp_plot(pdp_dist, feature);"
      ],
      "metadata": {
        "colab": {
          "base_uri": "https://localhost:8080/",
          "height": 579
        },
        "id": "1AbnECQEpUiq",
        "outputId": "d808b4f4-86bf-450e-ddf2-85e0f2cc3437"
      },
      "execution_count": 167,
      "outputs": [
        {
          "output_type": "display_data",
          "data": {
            "image/png": "[encoded data removed]",
            "text/plain": [
              "<Figure size 1080x684 with 2 Axes>"
            ]
          },
          "metadata": {
            "needs_background": "light"
          }
        }
      ]
    },
    {
      "cell_type": "markdown",
      "source": [
        "#### required_car_parking_spaces"
      ],
      "metadata": {
        "id": "IorPQ1OEtFyY"
      }
    },
    {
      "cell_type": "code",
      "source": [
        "feature = 'required_car_parking_spaces'\n",
        "pdp_dist = pdp.pdp_isolate(model=model, dataset=X_train, model_features=features, feature=feature, num_grid_points=10000)\n",
        "pdp.pdp_plot(pdp_dist, feature);"
      ],
      "metadata": {
        "colab": {
          "base_uri": "https://localhost:8080/",
          "height": 579
        },
        "id": "VDBROMulpUcp",
        "outputId": "640f2f24-72c3-4736-c7cb-bddecbbcba58"
      },
      "execution_count": 168,
      "outputs": [
        {
          "output_type": "display_data",
          "data": {
            "image/png": "[encoded data removed]",
            "text/plain": [
              "<Figure size 1080x684 with 2 Axes>"
            ]
          },
          "metadata": {
            "needs_background": "light"
          }
        }
      ]
    },
    {
      "cell_type": "markdown",
      "source": [
        "#### previous_cancellations"
      ],
      "metadata": {
        "id": "8eMGhOLEtLD3"
      }
    },
    {
      "cell_type": "code",
      "source": [
        "feature = 'previous_cancellations'\n",
        "pdp_dist = pdp.pdp_isolate(model=model, dataset=X_train, model_features=features, feature=feature, num_grid_points=1000)\n",
        "pdp.pdp_plot(pdp_dist, feature);"
      ],
      "metadata": {
        "colab": {
          "base_uri": "https://localhost:8080/",
          "height": 579
        },
        "id": "r7zhn-fxpUaj",
        "outputId": "04e07a6d-f137-4033-c0d6-bbf420d250d8"
      },
      "execution_count": 169,
      "outputs": [
        {
          "output_type": "display_data",
          "data": {
            "image/png": "[encoded data removed]",
            "text/plain": [
              "<Figure size 1080x684 with 2 Axes>"
            ]
          },
          "metadata": {
            "needs_background": "light"
          }
        }
      ]
    }
  ]
}